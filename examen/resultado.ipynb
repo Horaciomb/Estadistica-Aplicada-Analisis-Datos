{
 "cells": [
  {
   "cell_type": "code",
   "execution_count": 14,
   "metadata": {},
   "outputs": [],
   "source": [
    "import pandas as pd\n",
    "import numpy as np\n",
    "import matplotlib.pyplot as plt\n",
    "import seaborn as sns\n",
    "import scipy.stats as st\n",
    "import math\n"
   ]
  },
  {
   "cell_type": "code",
   "execution_count": 8,
   "metadata": {},
   "outputs": [
    {
     "data": {
      "text/plain": [
       "np.float64(0.403215550414848)"
      ]
     },
     "execution_count": 8,
     "metadata": {},
     "output_type": "execute_result"
    }
   ],
   "source": [
    "n =15\n",
    "p =0.6\n",
    "k=10\n",
    "\n",
    "1-st.binom.cdf(k-1,n,p)"
   ]
  },
  {
   "cell_type": "code",
   "execution_count": 10,
   "metadata": {},
   "outputs": [
    {
     "data": {
      "text/plain": [
       "np.float64(0.01637461506155964)"
      ]
     },
     "execution_count": 10,
     "metadata": {},
     "output_type": "execute_result"
    }
   ],
   "source": [
    "prob=0.0005\n",
    "poolizas=400\n",
    "exactamente=2\n",
    "\n",
    "st.poisson.pmf(exactamente,prob*poolizas)"
   ]
  },
  {
   "cell_type": "code",
   "execution_count": 15,
   "metadata": {},
   "outputs": [
    {
     "data": {
      "text/plain": [
       "720"
      ]
     },
     "execution_count": 15,
     "metadata": {},
     "output_type": "execute_result"
    }
   ],
   "source": [
    "math.factorial(6)"
   ]
  },
  {
   "cell_type": "code",
   "execution_count": 16,
   "metadata": {},
   "outputs": [
    {
     "data": {
      "text/plain": [
       "np.float64(0.11506967022170822)"
      ]
     },
     "execution_count": 16,
     "metadata": {},
     "output_type": "execute_result"
    }
   ],
   "source": [
    "media=500\n",
    "desv=75\n",
    "interes=410\n",
    "\n",
    "z=(interes-media)/desv\n",
    "st.norm.cdf(z)"
   ]
  },
  {
   "cell_type": "code",
   "execution_count": 19,
   "metadata": {},
   "outputs": [
    {
     "data": {
      "text/plain": [
       "(np.float64(5.041518543603152), np.float64(5.958481456396848))"
      ]
     },
     "execution_count": 19,
     "metadata": {},
     "output_type": "execute_result"
    }
   ],
   "source": [
    "muestra_graduados=42\n",
    "media=5.5\n",
    "desv_muestral=1.1\n",
    "certificaicon=0.99\n",
    "df=muestra_graduados-1\n",
    "\n",
    "t_critico=st.t.ppf((1+certificaicon)/2,df)\n",
    "me=t_critico*(desv_muestral/math.sqrt(muestra_graduados))\n",
    "media-me,media+me"
   ]
  },
  {
   "cell_type": "code",
   "execution_count": 20,
   "metadata": {},
   "outputs": [
    {
     "data": {
      "text/plain": [
       "0.00390625"
      ]
     },
     "execution_count": 20,
     "metadata": {},
     "output_type": "execute_result"
    }
   ],
   "source": [
    "media=50000\n",
    "llantas_desgaste=4\n",
    "\n",
    "p=0.25\n",
    "p**llantas_desgaste"
   ]
  },
  {
   "cell_type": "code",
   "execution_count": 21,
   "metadata": {},
   "outputs": [
    {
     "data": {
      "text/plain": [
       "np.float64(0.008197535924596131)"
      ]
     },
     "execution_count": 21,
     "metadata": {},
     "output_type": "execute_result"
    }
   ],
   "source": [
    "media=500\n",
    "desviacion=75\n",
    "x=320\n",
    "z=(x-media)/desviacion\n",
    "st.norm.cdf(z)"
   ]
  },
  {
   "cell_type": "code",
   "execution_count": 22,
   "metadata": {},
   "outputs": [
    {
     "name": "stdout",
     "output_type": "stream",
     "text": [
      "El porcentaje de estudiantes con una puntuación inferior a 320 es de aproximadamente 0.82%\n"
     ]
    }
   ],
   "source": [
    "# Importar la función de la distribución normal desde scipy.stats\n",
    "from scipy.stats import norm\n",
    "\n",
    "# Definir los parámetros de la distribución\n",
    "mu = 500          # media\n",
    "sigma = 75        # desviación estándar\n",
    "puntaje = 320     # puntaje de interés\n",
    "\n",
    "# Calcular el puntaje z\n",
    "z = (puntaje - mu) / sigma\n",
    "\n",
    "# Calcular la probabilidad acumulada hasta ese puntaje\n",
    "probabilidad = norm.cdf(z)\n",
    "\n",
    "# Mostrar el resultado en porcentaje\n",
    "print(f\"El porcentaje de estudiantes con una puntuación inferior a {puntaje} es de aproximadamente {probabilidad * 100:.2f}%\")\n"
   ]
  },
  {
   "cell_type": "code",
   "execution_count": 23,
   "metadata": {},
   "outputs": [
    {
     "name": "stdout",
     "output_type": "stream",
     "text": [
      "La probabilidad de que las 4 llantas se desgasten antes de 50,000 millas es: 0.0625\n"
     ]
    }
   ],
   "source": [
    "# Probabilidad de que un neumático se desgaste antes de 50,000 millas\n",
    "p = 0.5\n",
    "\n",
    "# Probabilidad de que los cuatro neumáticos se desgasten antes de 50,000 millas\n",
    "probabilidad_cuatro = p**4\n",
    "\n",
    "print(f\"La probabilidad de que las 4 llantas se desgasten antes de 50,000 millas es: {probabilidad_cuatro:.4f}\")\n"
   ]
  },
  {
   "cell_type": "code",
   "execution_count": 24,
   "metadata": {},
   "outputs": [
    {
     "name": "stdout",
     "output_type": "stream",
     "text": [
      "El número de permutaciones de las letras C, D y E es: 6\n"
     ]
    }
   ],
   "source": [
    "import math\n",
    "\n",
    "# Número de elementos\n",
    "n = 3\n",
    "\n",
    "# Calcular el factorial\n",
    "permutaciones = math.factorial(n)\n",
    "\n",
    "print(f\"El número de permutaciones de las letras C, D y E es: {permutaciones}\")\n"
   ]
  },
  {
   "cell_type": "code",
   "execution_count": 25,
   "metadata": {},
   "outputs": [
    {
     "name": "stdout",
     "output_type": "stream",
     "text": [
      "Intervalo de confianza: [6.14, 6.86]\n"
     ]
    }
   ],
   "source": [
    "import math\n",
    "from scipy.stats import norm\n",
    "\n",
    "# Datos\n",
    "n = 85\n",
    "x_bar = 6.5\n",
    "sigma = 1.7\n",
    "confianza = 0.95\n",
    "\n",
    "# Valor crítico para un nivel de confianza del 95%\n",
    "z = norm.ppf(1 - (1 - confianza) / 2)\n",
    "\n",
    "# Calcular el error estándar de la media\n",
    "error_estandar = sigma / math.sqrt(n)\n",
    "\n",
    "# Calcular el margen de error\n",
    "margen_error = z * error_estandar\n",
    "\n",
    "# Calcular límites del intervalo de confianza\n",
    "limite_inferior = x_bar - margen_error\n",
    "limite_superior = x_bar + margen_error\n",
    "\n",
    "print(f\"Intervalo de confianza: [{limite_inferior:.2f}, {limite_superior:.2f}]\")\n"
   ]
  },
  {
   "cell_type": "code",
   "execution_count": 26,
   "metadata": {},
   "outputs": [
    {
     "name": "stdout",
     "output_type": "stream",
     "text": [
      "El número de agrupaciones de colores es: 21\n"
     ]
    }
   ],
   "source": [
    "import math\n",
    "\n",
    "# Número total de colores y el número a tomar\n",
    "n = 7\n",
    "k = 5\n",
    "\n",
    "# Calcular combinaciones\n",
    "combinaciones = math.comb(n, k)\n",
    "print(f\"El número de agrupaciones de colores es: {combinaciones}\")\n"
   ]
  },
  {
   "cell_type": "code",
   "execution_count": 27,
   "metadata": {},
   "outputs": [
    {
     "name": "stdout",
     "output_type": "stream",
     "text": [
      "La probabilidad de que el vuelo dure menos de 135 minutos es: 0.50\n"
     ]
    }
   ],
   "source": [
    "# Definir los parámetros de la distribución uniforme\n",
    "a = 120\n",
    "b = 150\n",
    "c = 135\n",
    "\n",
    "# Calcular la probabilidad\n",
    "probabilidad = (c - a) / (b - a)\n",
    "print(f\"La probabilidad de que el vuelo dure menos de {c} minutos es: {probabilidad:.2f}\")\n"
   ]
  },
  {
   "cell_type": "code",
   "execution_count": 32,
   "metadata": {},
   "outputs": [
    {
     "data": {
      "text/plain": [
       "np.float64(0.15865525393145707)"
      ]
     },
     "execution_count": 32,
     "metadata": {},
     "output_type": "execute_result"
    }
   ],
   "source": [
    "from scipy.stats import norm\n",
    "\n",
    "mu=20\n",
    "sigma=5\n",
    "x=15\n",
    "z=(x-mu)/sigma\n",
    "norm.cdf(z)"
   ]
  },
  {
   "cell_type": "code",
   "execution_count": 33,
   "metadata": {},
   "outputs": [
    {
     "name": "stdout",
     "output_type": "stream",
     "text": [
      "El puntaje que separa al 5% superior de los estudiantes es: 81.51\n"
     ]
    }
   ],
   "source": [
    "from scipy.stats import norm\n",
    "\n",
    "# Datos\n",
    "mu = 70      # Media\n",
    "sigma = 7    # Desviación estándar\n",
    "percentil = 0.95  # Percentil 95\n",
    "\n",
    "# Encontrar el valor crítico z\n",
    "z = norm.ppf(percentil)\n",
    "\n",
    "# Calcular el puntaje correspondiente\n",
    "X = mu + z * sigma\n",
    "\n",
    "print(f\"El puntaje que separa al 5% superior de los estudiantes es: {X:.2f}\")\n"
   ]
  },
  {
   "cell_type": "code",
   "execution_count": 34,
   "metadata": {},
   "outputs": [
    {
     "name": "stdout",
     "output_type": "stream",
     "text": [
      "La mediana del número de ausencias mensuales es: 7.0\n"
     ]
    }
   ],
   "source": [
    "import numpy as np\n",
    "\n",
    "# Datos de ausencias\n",
    "ausencias = [6, 0, 10, 14, 8, 0]\n",
    "\n",
    "# Calcular la mediana\n",
    "mediana = np.median(ausencias)\n",
    "\n",
    "print(f\"La mediana del número de ausencias mensuales es: {mediana}\")\n"
   ]
  },
  {
   "cell_type": "code",
   "execution_count": 35,
   "metadata": {},
   "outputs": [
    {
     "name": "stdout",
     "output_type": "stream",
     "text": [
      "La probabilidad de que el jugador gane el partido es: 0.875\n"
     ]
    }
   ],
   "source": [
    "# Probabilidad de perder un set\n",
    "p_perder = 0.5\n",
    "\n",
    "# Probabilidad de perder los 3 sets restantes\n",
    "p_perder_tres_sets = p_perder ** 3\n",
    "\n",
    "# Probabilidad de ganar al menos un set más\n",
    "p_ganar = 1 - p_perder_tres_sets\n",
    "\n",
    "print(f\"La probabilidad de que el jugador gane el partido es: {p_ganar:.3f}\")\n"
   ]
  }
 ],
 "metadata": {
  "kernelspec": {
   "display_name": "venv",
   "language": "python",
   "name": "python3"
  },
  "language_info": {
   "codemirror_mode": {
    "name": "ipython",
    "version": 3
   },
   "file_extension": ".py",
   "mimetype": "text/x-python",
   "name": "python",
   "nbconvert_exporter": "python",
   "pygments_lexer": "ipython3",
   "version": "3.13.1"
  }
 },
 "nbformat": 4,
 "nbformat_minor": 2
}
