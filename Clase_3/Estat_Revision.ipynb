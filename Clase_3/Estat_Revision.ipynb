{
 "cells": [
  {
   "cell_type": "code",
   "execution_count": 1,
   "id": "5b7a4925",
   "metadata": {
    "id": "5b7a4925"
   },
   "outputs": [],
   "source": [
    "import scipy.stats as st\n",
    "import numpy as np"
   ]
  },
  {
   "cell_type": "markdown",
   "id": "d673ff3d",
   "metadata": {
    "id": "d673ff3d"
   },
   "source": [
    "Ej1: Una fabrica de azucar esta probando una máquina nueva que dice que distribuye azucar de 1Kg con menos de 2g de variación. En base a una muestra de 20 unidades se determinó una variación de 2.45g, ¿Con un 97% de confiabilidad se puede afirmar que el distribuidor de la máquina miente respecto a la precisión de la máquina? y con un 99% de confiabilidad?"
   ]
  },
  {
   "cell_type": "code",
   "execution_count": 24,
   "id": "3fa7c378",
   "metadata": {
    "colab": {
     "base_uri": "https://localhost:8080/"
    },
    "executionInfo": {
     "elapsed": 1751,
     "status": "ok",
     "timestamp": 1697497414288,
     "user": {
      "displayName": "Paola Guzmán Villarroel",
      "userId": "16049585109932320351"
     },
     "user_tz": 240
    },
    "id": "3fa7c378",
    "outputId": "2aebb5f8-ae30-487a-80d8-e86b18be5f34"
   },
   "outputs": [
    {
     "data": {
      "text/plain": [
       "(np.float64(9.200440695386053),\n",
       " 23.275000000000002,\n",
       " np.float64(32.15772037281206))"
      ]
     },
     "execution_count": 24,
     "metadata": {},
     "output_type": "execute_result"
    }
   ],
   "source": [
    "sigma=2 # esla variacion de 2 grm / poblacionanl\n",
    "s=2.45 # muestral\n",
    "alpha=0.03\n",
    "alpha2=0.01\n",
    "n=20\n",
    "M=s*(n-1)\n",
    "E=M/sigma #estimador\n",
    "k1=st.chi2.ppf(alpha,n-1)\n",
    "k2=st.chi2.ppf(1-alpha,n-1) # k1 y k2 son los limites para los intervaalos de confianza\n",
    "k1,E,k2"
   ]
  },
  {
   "cell_type": "markdown",
   "id": "505c44cd",
   "metadata": {
    "id": "505c44cd"
   },
   "source": [
    "Podemos que al 97% de confiabilidad podemos aceptar que estadísticamente nuestra media sea alrededor de 2."
   ]
  },
  {
   "cell_type": "code",
   "execution_count": 3,
   "id": "d3088778",
   "metadata": {
    "id": "d3088778",
    "outputId": "7c4d8b2d-cb39-431a-9945-447dbaad66c7"
   },
   "outputs": [
    {
     "data": {
      "text/plain": [
       "(np.float64(7.632729647571471),\n",
       " 23.275000000000002,\n",
       " np.float64(36.19086912927004))"
      ]
     },
     "execution_count": 3,
     "metadata": {},
     "output_type": "execute_result"
    }
   ],
   "source": [
    "k1=st.chi2.ppf(alpha2,n-1)\n",
    "k2=st.chi2.ppf(1-alpha2,n-1)\n",
    "k1,E,k2"
   ]
  },
  {
   "cell_type": "markdown",
   "id": "3b5f6ed5",
   "metadata": {
    "id": "3b5f6ed5"
   },
   "source": [
    "Al 99% de confiabilidad podemos tambien aceptar la hipótesis"
   ]
  },
  {
   "cell_type": "code",
   "execution_count": 4,
   "id": "a4c7d5d4",
   "metadata": {
    "id": "a4c7d5d4",
    "outputId": "84e8a91f-ab2c-4e18-c820-641d6d9dda5c"
   },
   "outputs": [
    {
     "data": {
      "text/plain": [
       "(np.float64(1.3398784121617928), 4, np.float64(5.705468810560525))"
      ]
     },
     "execution_count": 4,
     "metadata": {},
     "output_type": "execute_result"
    }
   ],
   "source": [
    "k1=st.chi2.ppf(alpha/2,n-1)\n",
    "k2=st.chi2.ppf(1-alpha/2,n-1)\n",
    "M/k2,sigma**2,M/k1 # intervalo de confianza al 97% de confiabilidad para la varianza"
   ]
  },
  {
   "cell_type": "code",
   "execution_count": 5,
   "id": "feb8c1bc",
   "metadata": {
    "id": "feb8c1bc",
    "outputId": "05dc09f6-c1af-4947-9f4b-e69768c9a40d"
   },
   "outputs": [
    {
     "data": {
      "text/plain": [
       "(np.float64(1.2065131528458197), 4, np.float64(6.801606402189647))"
      ]
     },
     "execution_count": 5,
     "metadata": {},
     "output_type": "execute_result"
    }
   ],
   "source": [
    "k1=st.chi2.ppf(alpha2/2,n-1)\n",
    "k2=st.chi2.ppf(1-alpha2/2,n-1)\n",
    "M/k2,sigma**2,M/k1 # intervalo de confianza al 99% de confiabilidad para la varianza"
   ]
  },
  {
   "cell_type": "markdown",
   "id": "160ebae3",
   "metadata": {
    "id": "160ebae3"
   },
   "source": [
    "Rem: Cuando hacemos una suma de variables aleatorias normales nos encontramos en una distribucion chi2 a n variables de libertad, donde el numero de variables de libertad es el número de sumandos de las leyes normales."
   ]
  },
  {
   "cell_type": "markdown",
   "id": "3d1438a3",
   "metadata": {
    "id": "3d1438a3"
   },
   "source": [
    "Ej2: 2 agencias de la misma empresa han calificado el desempeño de sus empleados del 1 al 100. La primera agencia obtuvo una media de 71.3 y una desviación estandar de 6.8 en base a una muestra de 12 empleados, la segunda agencia obtuvo una media de 65.1 con una desviación estandar 7.5 en base a una muestra de 15 empleados. ¿Se puede decir que ambas agencias tienen el mismo desempeño con un 94% de confiabilidad y al 98% de confiabilidad?"
   ]
  },
  {
   "cell_type": "code",
   "execution_count": 26,
   "id": "42b4f52d",
   "metadata": {
    "colab": {
     "base_uri": "https://localhost:8080/"
    },
    "executionInfo": {
     "elapsed": 388,
     "status": "ok",
     "timestamp": 1697500934309,
     "user": {
      "displayName": "Paola Guzmán Villarroel",
      "userId": "16049585109932320351"
     },
     "user_tz": 240
    },
    "id": "42b4f52d",
    "outputId": "443bdf9c-0b56-46fb-98c3-1a387d9085c0"
   },
   "outputs": [
    {
     "data": {
      "text/plain": [
       "(np.float64(5.969269964413238), np.float64(1.9700952169260397))"
      ]
     },
     "execution_count": 26,
     "metadata": {},
     "output_type": "execute_result"
    }
   ],
   "source": [
    "n1=12\n",
    "n2=15\n",
    "mu1=71.3\n",
    "mu2=65.1\n",
    "s1=6.8\n",
    "s2=7.5\n",
    "alpha=0.06\n",
    "alpha2=0.02\n",
    "E=np.sqrt((n1+n2-2)/(1/n1+1/n2))*np.abs(mu1-mu2)/np.sqrt((n1-1)*s1+(n2-1)*s2)\n",
    "criterio=st.t.ppf(1-alpha/2,n1+n2-2)\n",
    "E,criterio\n"
   ]
  },
  {
   "cell_type": "code",
   "execution_count": 27,
   "id": "2e94e394",
   "metadata": {
    "colab": {
     "base_uri": "https://localhost:8080/"
    },
    "executionInfo": {
     "elapsed": 352,
     "status": "ok",
     "timestamp": 1697501029471,
     "user": {
      "displayName": "Paola Guzmán Villarroel",
      "userId": "16049585109932320351"
     },
     "user_tz": 240
    },
    "id": "2e94e394",
    "outputId": "19095d41-d1ba-4373-e112-4f0428f1db1a"
   },
   "outputs": [
    {
     "data": {
      "text/plain": [
       "(np.float64(5.969269964413238), np.float64(2.4851071754106413))"
      ]
     },
     "execution_count": 27,
     "metadata": {},
     "output_type": "execute_result"
    }
   ],
   "source": [
    "criterio=st.t.ppf(1-alpha2/2,n1+n2-2)\n",
    "E,criterio"
   ]
  },
  {
   "cell_type": "markdown",
   "id": "b0cd7454",
   "metadata": {
    "id": "b0cd7454"
   },
   "source": [
    "Ej3: La ley de un  mineral es el porcentaje de mineral existente y explotable en medio de rocas de bajo valor. Para evaluar un yacimiento de plata se han extraido 30 muestras del mismo peso y se ha determinado que la ley media de los minerales analizados es de 2.5%, con una desviación estandar de 0.3%. Suponiendo que todo el yacimiento tiene la misma ley dar un intervalo de confianza al 95% de confiabilidad sobre la ley del mineral. Si el precio de la plata está a aproximadamente a $0.9\\$/g$. Dar una estimación del valor del yacimiento a $1000 000\\$ $ cerca si se estima que del yacimiento se puede extraer 5000 toneladas de roca"
   ]
  },
  {
   "cell_type": "code",
   "execution_count": 8,
   "id": "00686405",
   "metadata": {
    "colab": {
     "base_uri": "https://localhost:8080/"
    },
    "executionInfo": {
     "elapsed": 312,
     "status": "ok",
     "timestamp": 1697503559138,
     "user": {
      "displayName": "Paola Guzmán Villarroel",
      "userId": "16049585109932320351"
     },
     "user_tz": 240
    },
    "id": "00686405",
    "outputId": "f3db308e-0e30-414e-a7b4-34381843dad3"
   },
   "outputs": [
    {
     "data": {
      "text/plain": [
       "(np.float64(1.959963984540054), np.float64(2.0095752371292397))"
      ]
     },
     "execution_count": 8,
     "metadata": {},
     "output_type": "execute_result"
    }
   ],
   "source": [
    "n=50\n",
    "mu=5232\n",
    "sigma=325\n",
    "alpha=0.05\n",
    "criterio=st.norm.ppf(1-alpha/2)\n",
    "criterio2=st.t.ppf(1-alpha/2,n-1)\n",
    "criterio,criterio2"
   ]
  },
  {
   "cell_type": "code",
   "execution_count": 9,
   "id": "ba69b052",
   "metadata": {
    "colab": {
     "base_uri": "https://localhost:8080/"
    },
    "executionInfo": {
     "elapsed": 287,
     "status": "ok",
     "timestamp": 1697503569524,
     "user": {
      "displayName": "Paola Guzmán Villarroel",
      "userId": "16049585109932320351"
     },
     "user_tz": 240
    },
    "id": "ba69b052",
    "outputId": "6685c842-1d17-4bcf-b751-6476dae13933"
   },
   "outputs": [
    {
     "data": {
      "text/plain": [
       "(np.float64(5218.93776095866), np.float64(5245.06223904134))"
      ]
     },
     "execution_count": 9,
     "metadata": {},
     "output_type": "execute_result"
    }
   ],
   "source": [
    "-criterio2*sigma/n+mu,criterio2*sigma/n+mu # intervalo de confianza de la media al 95% de confiabilidad"
   ]
  },
  {
   "cell_type": "code",
   "execution_count": 10,
   "id": "0240397c",
   "metadata": {
    "id": "0240397c",
    "outputId": "c67abc4a-a441-445c-c44f-1c6d6a1e42e8"
   },
   "outputs": [
    {
     "data": {
      "text/plain": [
       "4500000000.0"
      ]
     },
     "execution_count": 10,
     "metadata": {},
     "output_type": "execute_result"
    }
   ],
   "source": [
    "precio=0.9\n",
    "Y=5000 *1000*1000*precio\n",
    "Y"
   ]
  },
  {
   "cell_type": "code",
   "execution_count": 11,
   "id": "2c03f789",
   "metadata": {
    "colab": {
     "base_uri": "https://localhost:8080/"
    },
    "executionInfo": {
     "elapsed": 348,
     "status": "ok",
     "timestamp": 1697499819419,
     "user": {
      "displayName": "Paola Guzmán Villarroel",
      "userId": "16049585109932320351"
     },
     "user_tz": 240
    },
    "id": "2c03f789",
    "outputId": "99079804-fe97-4b4b-d204-913f7e9d4ffd"
   },
   "outputs": [
    {
     "data": {
      "text/plain": [
       "(np.float64(5218.93776095866), np.float64(5245.06223904134))"
      ]
     },
     "execution_count": 11,
     "metadata": {},
     "output_type": "execute_result"
    }
   ],
   "source": [
    "st.t.ppf(alpha/2,n-1,mu,sigma/n),st.t.ppf(1-alpha/2,n-1,mu,sigma/n) # Sin pasar por determinar el criterio."
   ]
  },
  {
   "cell_type": "code",
   "execution_count": 12,
   "id": "cZEsevcG3_V8",
   "metadata": {
    "colab": {
     "base_uri": "https://localhost:8080/"
    },
    "executionInfo": {
     "elapsed": 291,
     "status": "ok",
     "timestamp": 1697499911732,
     "user": {
      "displayName": "Paola Guzmán Villarroel",
      "userId": "16049585109932320351"
     },
     "user_tz": 240
    },
    "id": "cZEsevcG3_V8",
    "outputId": "91adea7a-b61b-4266-f7e6-fce80173e1b1"
   },
   "outputs": [
    {
     "data": {
      "text/plain": [
       "(24300.182089743517, 24979.817910256483)"
      ]
     },
     "execution_count": 12,
     "metadata": {},
     "output_type": "execute_result"
    }
   ],
   "source": [
    "(12.15009104487176*2000, 12.489908955128241*2000)"
   ]
  },
  {
   "cell_type": "code",
   "execution_count": 13,
   "id": "0bb09ad0",
   "metadata": {
    "id": "0bb09ad0",
    "outputId": "feccd86a-29d9-4cfb-d1a3-7d2547274404"
   },
   "outputs": [
    {
     "data": {
      "text/plain": [
       "(111579646.66104026, 113420353.33895974)"
      ]
     },
     "execution_count": 13,
     "metadata": {},
     "output_type": "execute_result"
    }
   ],
   "source": [
    "Y*2.479547703578673/100,Y*2.520452296421327/100 # intervalo de confianza del precio del yacimiento"
   ]
  },
  {
   "cell_type": "markdown",
   "id": "fb9da8ed",
   "metadata": {
    "id": "fb9da8ed"
   },
   "source": [
    "La estimación del precio del yacimiento está entre $(112M,113M)$"
   ]
  },
  {
   "cell_type": "markdown",
   "id": "e4b2b39a",
   "metadata": {
    "id": "e4b2b39a"
   },
   "source": [
    "Ej4: Jugando calabozos y dragones para un movimiento debemos lanzar 4 dados de 8 caras. ¿Cuál es la probabilidad de obtener un 8 en la tirada?, ¿cuál es la probabilidad de tener al menos un par de 7's? y ¿cuál es la probabilidad de tener entre 2 y 3 números pares?"
   ]
  },
  {
   "cell_type": "markdown",
   "id": "1c8f96c4",
   "metadata": {
    "id": "1c8f96c4"
   },
   "source": [
    "Veamos las posibilidades\n",
    "\n",
    "* (2,2,2,2)\n",
    "* (4,2,1,1)\n",
    "* (3,2,2,1)\n",
    "\n",
    "Por ley aditiva tenemos que considerar uno de los 3 casos\n",
    "\n",
    "* Caso 1: Es 1 solo tener 2 en cada dado\n",
    "* Caso 2: Es tener una permutacion de (4,2,1,1) es decir 4! posibilidades hay que dividir eso entre 2 lo que nos da 12 posibilidades\n",
    "* Caso 3: Es tener una permutacion de (3,2,2,1) es decir 4! posibilidades que hay que divider entre 2 (otras 12 posibilidades)"
   ]
  },
  {
   "cell_type": "markdown",
   "id": "50edbbd8",
   "metadata": {
    "id": "50edbbd8"
   },
   "source": [
    "Tenemos 25 casos favorables y P(8,4) casos posibles\n"
   ]
  },
  {
   "cell_type": "code",
   "execution_count": 14,
   "id": "8a2b7a95",
   "metadata": {
    "id": "8a2b7a95"
   },
   "outputs": [],
   "source": [
    "import scipy as sci\n",
    "import math as ma"
   ]
  },
  {
   "cell_type": "code",
   "execution_count": 15,
   "id": "218e95dd",
   "metadata": {
    "id": "218e95dd",
    "outputId": "85653936-9130-4530-ce28-a0fb0dce528d"
   },
   "outputs": [
    {
     "data": {
      "text/plain": [
       "0.35714285714285715"
      ]
     },
     "execution_count": 15,
     "metadata": {},
     "output_type": "execute_result"
    }
   ],
   "source": [
    "25/ma.comb(8,4) #tenemos 35.71% probabilidades de obtener un 8 en la tirada"
   ]
  },
  {
   "cell_type": "markdown",
   "id": "8890751d",
   "metadata": {
    "id": "8890751d"
   },
   "source": [
    "Casos posibles es permutación 8,2"
   ]
  },
  {
   "cell_type": "code",
   "execution_count": 16,
   "id": "8114e0a6",
   "metadata": {
    "id": "8114e0a6",
    "outputId": "68434773-823c-4f11-e963-9bee02f466d9"
   },
   "outputs": [
    {
     "data": {
      "text/plain": [
       "0.4"
      ]
     },
     "execution_count": 16,
     "metadata": {},
     "output_type": "execute_result"
    }
   ],
   "source": [
    "ma.comb(8,2)/ma.comb(8,4) #tenemos 40% de probabilidades de obtener al menos un par de 7 en la tirada"
   ]
  },
  {
   "cell_type": "markdown",
   "id": "76bec940",
   "metadata": {
    "id": "76bec940"
   },
   "source": [
    "Tener 2 numero pares implica Combinatoria (4,2) y otros 2 numeros impares implica lo mismo"
   ]
  },
  {
   "cell_type": "code",
   "execution_count": 17,
   "id": "6b7b6ed7",
   "metadata": {
    "id": "6b7b6ed7",
    "outputId": "c6b6357c-a894-46fa-e127-4ecb5f8c7cc0"
   },
   "outputs": [
    {
     "data": {
      "text/plain": [
       "0.7428571428571429"
      ]
     },
     "execution_count": 17,
     "metadata": {},
     "output_type": "execute_result"
    }
   ],
   "source": [
    "(ma.comb(4,2)*ma.comb(4,2)+ma.comb(4,3)*4)/ma.comb(8,4) # tenemos 74.29% de probabilidades de tener entre 2 y 3 numeros pares"
   ]
  },
  {
   "cell_type": "markdown",
   "id": "1a5e6d03",
   "metadata": {
    "id": "1a5e6d03"
   },
   "source": [
    "Ej: El tiempo promedio de recepción de nuevas solicitudes de una página web es 1 minuto. ¿Cuál es la probabilidad de tener una nueva solicitud en menos de 90 segundos?, ¿cuál es la probabilidad de recibir una nueva solicitud entre 2 a 3 minutos?, ¿Cuál es la probabilidad de recibirla después de 5 minutos?"
   ]
  },
  {
   "cell_type": "markdown",
   "id": "6d121b9b",
   "metadata": {
    "id": "6d121b9b"
   },
   "source": [
    "Vamos a utilizar la distribución exponencial"
   ]
  },
  {
   "cell_type": "code",
   "execution_count": 18,
   "id": "565d2dae",
   "metadata": {
    "id": "565d2dae",
    "outputId": "160b0763-c36e-499f-9446-26aa030e5e95"
   },
   "outputs": [
    {
     "data": {
      "text/plain": [
       "np.float64(0.3934693402873666)"
      ]
     },
     "execution_count": 18,
     "metadata": {},
     "output_type": "execute_result"
    }
   ],
   "source": [
    "st.expon.cdf(1.5,1) #tenemos 39.35%  de probabilidades de recibirla en los primeros 90 segundos"
   ]
  },
  {
   "cell_type": "code",
   "execution_count": 19,
   "id": "20567dab",
   "metadata": {
    "id": "20567dab",
    "outputId": "c4c7cec1-7344-47ec-8d08-4dbbb2b9bfbd"
   },
   "outputs": [
    {
     "data": {
      "text/plain": [
       "np.float64(0.23254415793482963)"
      ]
     },
     "execution_count": 19,
     "metadata": {},
     "output_type": "execute_result"
    }
   ],
   "source": [
    "st.expon.cdf(3,1)-st.expon.cdf(2,1) #tenemos 23.25% de probabilidades de recibirla entre los minutos 2 y 3"
   ]
  },
  {
   "cell_type": "code",
   "execution_count": 20,
   "id": "f3ab4fe9",
   "metadata": {
    "id": "f3ab4fe9",
    "outputId": "55e8148e-3f76-46a0-8daf-493ed4a880f4"
   },
   "outputs": [
    {
     "data": {
      "text/plain": [
       "np.float64(0.01831563888873422)"
      ]
     },
     "execution_count": 20,
     "metadata": {},
     "output_type": "execute_result"
    }
   ],
   "source": [
    "1-st.expon.cdf(5,1) # tenemos 1.83% de probabilidades de recibirla despues de los 5 minutos"
   ]
  },
  {
   "cell_type": "markdown",
   "id": "65ede693",
   "metadata": {
    "id": "65ede693"
   },
   "source": [
    "Ej6: 2 paralelos de la misma materia dieron el mismo examen con medias de 65 y 73 puntos además de desviaciones estandar de 5 y 7 puntos. ¿Qué paralelo tiene mayor probabilidad de haber aprobado el curso (nota de aprobación 60)?, ¿Qué curso tiene mayor probabilidad de obtener menos de 75 puntos?"
   ]
  },
  {
   "cell_type": "code",
   "execution_count": 21,
   "id": "42255c60",
   "metadata": {
    "id": "42255c60",
    "outputId": "31a9c2ee-10ef-4395-a32f-6293564cc734"
   },
   "outputs": [
    {
     "data": {
      "text/plain": [
       "np.float64(0.8413447460685429)"
      ]
     },
     "execution_count": 21,
     "metadata": {},
     "output_type": "execute_result"
    }
   ],
   "source": [
    "# Primer curso aprobación\n",
    "1-st.norm.cdf(60,65,5) # tenemos 84.13% de probabilidades de haber aprobado\n"
   ]
  },
  {
   "cell_type": "code",
   "execution_count": 22,
   "id": "5b313d7d",
   "metadata": {
    "id": "5b313d7d",
    "outputId": "8fb09692-49a7-4ce2-951e-91eea81a49bc"
   },
   "outputs": [
    {
     "data": {
      "text/plain": [
       "np.float64(0.9683545838833274)"
      ]
     },
     "execution_count": 22,
     "metadata": {},
     "output_type": "execute_result"
    }
   ],
   "source": [
    "# Segundo curso aprobación\n",
    "1-st.norm.cdf(60,73,7) # tenemos 96.84% de probabilidades de haber aprobado\n"
   ]
  },
  {
   "cell_type": "markdown",
   "id": "4e5707ef",
   "metadata": {
    "id": "4e5707ef"
   },
   "source": [
    "El segundo curso tiene más probabilidades de haber aprobado"
   ]
  },
  {
   "cell_type": "code",
   "execution_count": 23,
   "id": "8cceb976",
   "metadata": {
    "id": "8cceb976",
    "outputId": "b4761fde-31be-4771-abf6-5ace4f6a73f7"
   },
   "outputs": [
    {
     "data": {
      "text/plain": [
       "(np.float64(0.9772498680518208), np.float64(0.6124515189020077))"
      ]
     },
     "execution_count": 23,
     "metadata": {},
     "output_type": "execute_result"
    }
   ],
   "source": [
    "st.norm.cdf(75,65,5), st.norm.cdf(75,73,7)"
   ]
  },
  {
   "cell_type": "markdown",
   "id": "3dadb2b4",
   "metadata": {
    "id": "3dadb2b4"
   },
   "source": [
    "En el primer caso tenemos $97.72\\%$ de probabilidades de haber obtenido menos de 75 puntos y en el segundo caso $61.25\\%$, por lo cuál es más probable que el primer curso tenga menos que 75  "
   ]
  },
  {
   "cell_type": "code",
   "execution_count": null,
   "id": "118ef828",
   "metadata": {
    "id": "118ef828"
   },
   "outputs": [],
   "source": []
  }
 ],
 "metadata": {
  "colab": {
   "provenance": []
  },
  "kernelspec": {
   "display_name": "venv",
   "language": "python",
   "name": "python3"
  },
  "language_info": {
   "codemirror_mode": {
    "name": "ipython",
    "version": 3
   },
   "file_extension": ".py",
   "mimetype": "text/x-python",
   "name": "python",
   "nbconvert_exporter": "python",
   "pygments_lexer": "ipython3",
   "version": "3.13.1"
  }
 },
 "nbformat": 4,
 "nbformat_minor": 5
}
