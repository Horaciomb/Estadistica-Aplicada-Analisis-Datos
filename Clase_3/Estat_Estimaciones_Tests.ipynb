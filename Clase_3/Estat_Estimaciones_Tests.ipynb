{
 "cells": [
  {
   "cell_type": "markdown",
   "id": "c65e9dee",
   "metadata": {
    "id": "c65e9dee"
   },
   "source": [
    "#### Estimaciones puntuales\n",
    "\n"
   ]
  },
  {
   "cell_type": "markdown",
   "id": "ef73e553",
   "metadata": {
    "id": "ef73e553"
   },
   "source": [
    "Sea $X$ una variable aletoria que sigue una función de distribución $f(x;\\theta)$"
   ]
  },
  {
   "cell_type": "markdown",
   "id": "8ae5befb",
   "metadata": {
    "id": "8ae5befb"
   },
   "source": [
    "la variable $\\theta$ es uno o varios parámetros propios de la distribución, por ejemplo si $X$ sigue una distribición exponencial $\\theta =\\lambda$ pero si $X$ sigue una ley normal $\\theta=[\\mu, \\sigma^2]$"
   ]
  },
  {
   "cell_type": "markdown",
   "id": "1a254904",
   "metadata": {
    "id": "1a254904"
   },
   "source": [
    "Def: Un estimador puntual es una función que se utiliza para estimar (aproximar) el valor del parámetro $\\theta$ de una ley de distribución"
   ]
  },
  {
   "cell_type": "markdown",
   "id": "741f145e",
   "metadata": {
    "id": "741f145e"
   },
   "source": [
    "Se denota al estimador por $\\widehat{\\theta}$"
   ]
  },
  {
   "cell_type": "markdown",
   "id": "c5fcff23",
   "metadata": {
    "id": "c5fcff23"
   },
   "source": [
    "¿Como se hace para determinar un estimador?, ¿Cómo sabemos que un estimador es mejor que otro?"
   ]
  },
  {
   "cell_type": "markdown",
   "id": "3a88c0d5",
   "metadata": {
    "id": "3a88c0d5"
   },
   "source": [
    "Para determinar la validez de un estimador existen 2 métodos, máximo de verosimilitud y mínimos cuadrados"
   ]
  },
  {
   "cell_type": "markdown",
   "id": "ed982666",
   "metadata": {
    "id": "ed982666"
   },
   "source": [
    "def: Decimos que un estimador es no sesgado si\n",
    "$$E[\\widehat{\\theta}]=\\theta$$"
   ]
  },
  {
   "cell_type": "markdown",
   "id": "7d25fd7f",
   "metadata": {
    "id": "7d25fd7f"
   },
   "source": [
    "Ej: Si $x_i\\rightarrow \\mathcal{N}(\\mu, \\sigma^2)$ son realizaciones de la ley normal entonces\n",
    "    \n",
    "$$E[\\widehat{\\mu}]=E\\left[ \\frac{1}{n}\\sum_{i=1}^n x_i\\right]=\\frac{1}{n}\\sum_{i=1}^nE[ x_i]=\\frac{1}{n}\\sum_{i=1}^n \\mu=\\mu$$    "
   ]
  },
  {
   "cell_type": "markdown",
   "id": "1a2c8128",
   "metadata": {
    "id": "1a2c8128"
   },
   "source": [
    "Similiarmente si definimos el estimador $\\widehat{\\sigma^2}=\\frac{1}{n}\\sum_{i=1}^n(x_i-\\mu)^2$ y desarrollamos vamos a encontrar que\n",
    "\n",
    "$$\\widehat{var(X)}=\\widehat{\\sigma^2}=\\frac{n-1}{n}\\sigma^2$$"
   ]
  },
  {
   "cell_type": "markdown",
   "id": "26a1c85a",
   "metadata": {
    "id": "26a1c85a"
   },
   "source": [
    "Es por eso que normalmente calculamos la varianza como\n",
    "\n",
    "$$\\widehat{var(X)}=\\frac{1}{n-1}\\sum_{i=1}^n (x_i-\\mu)^2$$"
   ]
  },
  {
   "cell_type": "markdown",
   "id": "ad118230",
   "metadata": {
    "id": "ad118230"
   },
   "source": [
    "Rem: A esta varianza que acabamos de definir llamamos varianza muestral y a la otra varianza poblacional"
   ]
  },
  {
   "cell_type": "markdown",
   "id": "07ba73ea",
   "metadata": {
    "id": "07ba73ea"
   },
   "source": [
    "Rem: En las estimaciones puntuales tenemos que estamos arriesgandonos a dar un valor para estimar algún parámetro. Lo cuál en general es muy arriesgado"
   ]
  },
  {
   "cell_type": "markdown",
   "id": "70038be2",
   "metadata": {
    "id": "70038be2"
   },
   "source": [
    "#### Estimaciones por intervalos"
   ]
  },
  {
   "cell_type": "markdown",
   "id": "fbd56c63",
   "metadata": {
    "id": "fbd56c63"
   },
   "source": [
    "Def: Sea $\\alpha\\in (0,1)$ decimos que tenemos un intervalo de confianza para un parámetro desconocido $\\theta$. Si\n",
    "$$P(\\theta_1 < \\theta < \\theta_2)=1-\\alpha$$"
   ]
  },
  {
   "cell_type": "markdown",
   "id": "81387b1e",
   "metadata": {
    "id": "81387b1e"
   },
   "source": [
    "A los parámetros $\\theta_1$ y $\\theta_2$ se los conoce como límites inferiores y superiores y al paramétro $\\alpha$ se lo conoce como parámetro de significación y a $1-\\alpha$ como parámetro de confianza."
   ]
  },
  {
   "cell_type": "markdown",
   "id": "37a26de2",
   "metadata": {
    "id": "37a26de2"
   },
   "source": [
    "Ej: Si $X\\rightarrow \\mathcal{N}(0,1)$, dar un intervalo de confianza al 5% de significación para el valor de la media."
   ]
  },
  {
   "cell_type": "markdown",
   "id": "18595be3",
   "metadata": {
    "id": "18595be3"
   },
   "source": [
    "Si tenemos una ley de distribución de la ley Normal $\\phi$ ese intervalo lo podemos determinar por\n",
    "\n",
    "$$P(\\mu_1<\\mu<\\mu_2)=\\phi(\\mu_2)-\\phi(\\mu_1)=1-\\alpha=1-0.05=0.95$$"
   ]
  },
  {
   "cell_type": "markdown",
   "id": "c1d6c487",
   "metadata": {
    "id": "c1d6c487"
   },
   "source": [
    "Rem: La ley normal es una distribución simétrica por lo cual si $r>0$ entonces\n",
    "$$\\phi(-r)=1-\\phi(r)$$\n",
    "y además podemos suponer que $\\mu_1=-\\mu_2$"
   ]
  },
  {
   "cell_type": "markdown",
   "id": "415d31a5",
   "metadata": {
    "id": "415d31a5"
   },
   "source": [
    "Por lo tanto\n",
    "\n",
    "$$P(\\mu_1<\\mu<\\mu_2)=\\phi(\\mu_2)-(\\phi(-\\mu_2))=\\phi(\\mu_2)-(1-\\phi(\\mu_2))=0.95$$"
   ]
  },
  {
   "cell_type": "markdown",
   "id": "7c09bdac",
   "metadata": {
    "id": "7c09bdac"
   },
   "source": [
    "Es decir que\n",
    "\n",
    "$$2\\phi(\\mu_2)-1=0.95$$\n",
    "\n",
    "o de forma equivalente que\n",
    "\n",
    "$$\\phi(\\mu_2)=\\frac{1.95}{2}=0.975$$"
   ]
  },
  {
   "cell_type": "code",
   "execution_count": 1,
   "id": "5b263ef9",
   "metadata": {
    "id": "5b263ef9",
    "outputId": "66592183-1777-4f6e-82e4-5ff5080a23f9"
   },
   "outputs": [
    {
     "data": {
      "text/plain": [
       "np.float64(1.959963984540054)"
      ]
     },
     "execution_count": 1,
     "metadata": {},
     "output_type": "execute_result"
    }
   ],
   "source": [
    "import numpy as np\n",
    "import scipy.stats as st\n",
    "import math as ma\n",
    "beta=st.norm.ppf(0.975) # es la inversa de la acumulativa\n",
    "beta"
   ]
  },
  {
   "cell_type": "markdown",
   "id": "04f110af",
   "metadata": {
    "id": "04f110af"
   },
   "source": [
    "Es decir que esperamos que la media este entre $[-1.96,1.96]$ al $95\\%$ de confiabilidad o al $5\\%$ de significación"
   ]
  },
  {
   "cell_type": "markdown",
   "id": "4064e43b",
   "metadata": {
    "id": "4064e43b"
   },
   "source": [
    "Ej: Una fabrica que produce latas, verificó que el peso medio de 10 muestras de latas son 123g. Si se conoce que la desviación estandar de las latas es de 2g. Dar un intervalo de confianza al 95% de confiabilidad para el valor medio."
   ]
  },
  {
   "cell_type": "markdown",
   "id": "2dc5e346",
   "metadata": {
    "id": "2dc5e346"
   },
   "source": [
    "Un resultado conocido es que\n",
    "\n",
    "$$\\sqrt{N}\\frac{\\mu -\\overline{X}}{\\sigma}\\rightarrow \\mathcal{N}(0,1)$$"
   ]
  },
  {
   "cell_type": "markdown",
   "id": "ae5a751b",
   "metadata": {
    "id": "ae5a751b"
   },
   "source": [
    "Entonces podemos llamar $Z$ al valor de esa fracción"
   ]
  },
  {
   "cell_type": "markdown",
   "id": "a3f9f445",
   "metadata": {
    "id": "a3f9f445"
   },
   "source": [
    "Entonces tenemos que\n",
    "\n",
    "$$\\mu_Z\\in[-1.96,1.96]$$"
   ]
  },
  {
   "cell_type": "markdown",
   "id": "08b7a0ab",
   "metadata": {
    "id": "08b7a0ab"
   },
   "source": [
    "O en otras palabras que\n",
    "\n",
    "$$-1.96<Z=\\frac{\\sqrt{N}(\\mu-\\overline{X})}{\\sigma}<1.96$$"
   ]
  },
  {
   "cell_type": "markdown",
   "id": "14eb6737",
   "metadata": {
    "id": "14eb6737"
   },
   "source": [
    "Y tenemos que\n",
    "\n",
    "$$\\frac{-1.96\\sigma}{\\sqrt{N}}+\\overline{X}<\\mu<\\overline{X}+\\frac{1.96\\sigma}{\\sqrt{N}}$$\n"
   ]
  },
  {
   "cell_type": "code",
   "execution_count": 2,
   "id": "19bd5755",
   "metadata": {
    "id": "19bd5755",
    "outputId": "28e33f2c-567b-4d7b-ce3d-aa083006a83c"
   },
   "outputs": [
    {
     "data": {
      "text/plain": [
       "(np.float64(121.76040993539088), np.float64(124.23959006460912))"
      ]
     },
     "execution_count": 2,
     "metadata": {},
     "output_type": "execute_result"
    }
   ],
   "source": [
    "desv_pob=2\n",
    "-beta*desv_pob/np.sqrt(10)+123,beta*desv_pob/np.sqrt(10)+123"
   ]
  },
  {
   "cell_type": "markdown",
   "id": "9fd2b076",
   "metadata": {
    "id": "9fd2b076"
   },
   "source": [
    "Entonces podemos esperar que la media se encuentre entre 121.76g y 124.24g"
   ]
  },
  {
   "cell_type": "markdown",
   "id": "4f8bf006",
   "metadata": {
    "id": "4f8bf006"
   },
   "source": [
    "Otra idea sería distribuir de manera equitativa la mitad de la significación a la derecha y la mitad a la izquierda"
   ]
  },
  {
   "cell_type": "markdown",
   "id": "d7f31f61",
   "metadata": {
    "id": "d7f31f61"
   },
   "source": [
    "Es decir que podemos escribir\n",
    "\n",
    "$$\\phi(\\mu_1)=\\alpha/2$$\n",
    "\n",
    "$$\\phi(\\mu_2)=1-\\alpha/2$$"
   ]
  },
  {
   "cell_type": "markdown",
   "id": "2c08dab9",
   "metadata": {
    "id": "2c08dab9"
   },
   "source": [
    "En nuestro caso\n",
    "\n",
    "$$\\phi(\\mu_1)=0.05/2=0.025$$\n",
    "\n",
    "$$\\phi(\\mu_2)=1-0.05/2=0.975$$"
   ]
  },
  {
   "cell_type": "code",
   "execution_count": 3,
   "id": "962d0942",
   "metadata": {
    "id": "962d0942",
    "outputId": "b43cf2ac-caa8-4a4d-f8ec-670e49cc7375"
   },
   "outputs": [
    {
     "data": {
      "text/plain": [
       "np.float64(121.76040993539088)"
      ]
     },
     "execution_count": 3,
     "metadata": {},
     "output_type": "execute_result"
    }
   ],
   "source": [
    "muestra=10\n",
    "media_muestra=123\n",
    "st.norm.ppf(0.025,media_muestra,2/np.sqrt(muestra))"
   ]
  },
  {
   "cell_type": "code",
   "execution_count": 4,
   "id": "932b1adf",
   "metadata": {
    "id": "932b1adf",
    "outputId": "1dceb8d0-b66e-4072-b420-1167ecaa0fe4"
   },
   "outputs": [
    {
     "data": {
      "text/plain": [
       "np.float64(124.23959006460912)"
      ]
     },
     "execution_count": 4,
     "metadata": {},
     "output_type": "execute_result"
    }
   ],
   "source": [
    "muestra=10\n",
    "media_muestra=123\n",
    "st.norm.ppf(0.975,media_muestra,2/np.sqrt(muestra))"
   ]
  },
  {
   "cell_type": "markdown",
   "id": "7373e310",
   "metadata": {
    "id": "7373e310"
   },
   "source": [
    "Ej: Se mide en un poblado a 35 personas y se encuentra que la altura media es de 168 cm, con una deviación estandar muestral de 6cm. Dar una estimación de la media de la población con 98% de confiabilidad  "
   ]
  },
  {
   "cell_type": "markdown",
   "id": "a527caf9",
   "metadata": {
    "id": "a527caf9"
   },
   "source": [
    "En este caso tenemos que\n",
    "\n",
    "$$\\phi(\\mu_1)=\\alpha/2=0.02/2=0.01$$\n",
    "\n",
    "$$\\phi(\\mu_2)=1-\\alpha/2=1-0.02/2=0.99$$"
   ]
  },
  {
   "cell_type": "code",
   "execution_count": 5,
   "id": "02a6e023",
   "metadata": {
    "id": "02a6e023",
    "outputId": "94c33140-8a80-410f-b31f-c29cf192dfff"
   },
   "outputs": [
    {
     "data": {
      "text/plain": [
       "np.float64(165.6406526355309)"
      ]
     },
     "execution_count": 5,
     "metadata": {},
     "output_type": "execute_result"
    }
   ],
   "source": [
    "muestra=35\n",
    "media_muestral=168\n",
    "desv_muestral=6\n",
    "st.norm.ppf(0.01,168,desv_muestral/np.sqrt(35))"
   ]
  },
  {
   "cell_type": "code",
   "execution_count": 6,
   "id": "b1d5a0c6",
   "metadata": {
    "id": "b1d5a0c6",
    "outputId": "ddf29f1c-d977-4654-a15d-e18c2a5dcb7d"
   },
   "outputs": [
    {
     "data": {
      "text/plain": [
       "np.float64(170.3593473644691)"
      ]
     },
     "execution_count": 6,
     "metadata": {},
     "output_type": "execute_result"
    }
   ],
   "source": [
    "st.norm.ppf(0.99,168,6/np.sqrt(35))"
   ]
  },
  {
   "cell_type": "markdown",
   "id": "f2eb481a",
   "metadata": {
    "id": "f2eb481a"
   },
   "source": [
    "Entonces estimamos que la media debería encontrarse entre $[165.64,170.36]$"
   ]
  },
  {
   "cell_type": "markdown",
   "id": "ffa09137",
   "metadata": {
    "id": "ffa09137"
   },
   "source": [
    "Podemos calcular la ley centrada y reducida\n",
    "\n",
    "$$Z=\\frac{\\sqrt{N}(\\mu-\\overline{X})}{\\sigma}$$"
   ]
  },
  {
   "cell_type": "code",
   "execution_count": null,
   "id": "12ea56f6",
   "metadata": {
    "id": "12ea56f6",
    "outputId": "11791dc9-df28-4b38-8ccc-16d3ec1d5deb"
   },
   "outputs": [
    {
     "data": {
      "text/plain": [
       "np.float64(2.3263478740408408)"
      ]
     },
     "execution_count": 7,
     "metadata": {},
     "output_type": "execute_result"
    }
   ],
   "source": [
    "beta=st.norm.ppf(1-0.02/2) \n",
    "beta"
   ]
  },
  {
   "cell_type": "code",
   "execution_count": 8,
   "id": "ad92e01a",
   "metadata": {
    "id": "ad92e01a",
    "outputId": "4138f48b-9b5d-474b-d9a3-073ec58b4915"
   },
   "outputs": [
    {
     "data": {
      "text/plain": [
       "(np.float64(165.6406526355309), np.float64(170.3593473644691))"
      ]
     },
     "execution_count": 8,
     "metadata": {},
     "output_type": "execute_result"
    }
   ],
   "source": [
    "-beta*6/np.sqrt(35)+168,beta*6/np.sqrt(35)+168"
   ]
  },
  {
   "cell_type": "markdown",
   "id": "0a6c0526",
   "metadata": {
    "id": "0a6c0526"
   },
   "source": [
    "Teorema (del Limite central): Sean $X_1,X_2,...,X_n$ unas variables aleatorias que siguen una distribución cualquiera con $N$ suficientemente grande ($N>30$ en general). Podemos aproximar la media por una distribución normal"
   ]
  },
  {
   "cell_type": "markdown",
   "id": "bcce7c88",
   "metadata": {
    "id": "bcce7c88"
   },
   "source": [
    "Es decir que podemos aproximar\n",
    "$$\\sqrt{N}\\frac{\\mu-\\overline{X}}{s}\\rightarrow \\mathcal{N} (0,1)$$"
   ]
  },
  {
   "cell_type": "markdown",
   "id": "fe3f7b25",
   "metadata": {
    "id": "fe3f7b25"
   },
   "source": [
    "En un caso que no tengamos una ley de distribucion ni una muestra suficientemente grande para aproximar la media vamos a utilizar una ley de Student a $N-1$ parámetros de libertad en vez de una ley normal"
   ]
  },
  {
   "cell_type": "markdown",
   "id": "b6c640ad",
   "metadata": {
    "id": "b6c640ad"
   },
   "source": [
    "Vamos a modificar el ejemplo anterior\n",
    "Ej: Se mide en un poblado a 15 personas y se encuentra que la altura media es de 168 cm, con una deviación estandar muestral de 6cm. Dar una estimación de la media de la población con 98% de confiabilidad  "
   ]
  },
  {
   "cell_type": "code",
   "execution_count": 9,
   "id": "1f5669fb",
   "metadata": {
    "id": "1f5669fb",
    "outputId": "fa82afb7-97dd-470f-fad4-643204079b16"
   },
   "outputs": [
    {
     "data": {
      "text/plain": [
       "np.float64(163.93415127364761)"
      ]
     },
     "execution_count": 9,
     "metadata": {},
     "output_type": "execute_result"
    }
   ],
   "source": [
    "muestra=15\n",
    "grado_l=muestra-1\n",
    "st.t.ppf(0.01,grado_l,168,6/np.sqrt(15))"
   ]
  },
  {
   "cell_type": "code",
   "execution_count": 10,
   "id": "856921f7",
   "metadata": {
    "id": "856921f7",
    "outputId": "61d221d6-11da-42e2-d767-92a553f9cbb1"
   },
   "outputs": [
    {
     "data": {
      "text/plain": [
       "np.float64(172.06584872635239)"
      ]
     },
     "execution_count": 10,
     "metadata": {},
     "output_type": "execute_result"
    }
   ],
   "source": [
    "muestra=15\n",
    "grado_l=muestra-1\n",
    "st.t.ppf(0.99,grado_l,168,6/np.sqrt(15))"
   ]
  },
  {
   "cell_type": "markdown",
   "id": "b92ee547",
   "metadata": {
    "id": "b92ee547"
   },
   "source": [
    "En este caso tenemos la estimación $[163.93,172.07]$"
   ]
  },
  {
   "cell_type": "code",
   "execution_count": 11,
   "id": "b59556e1",
   "metadata": {
    "id": "b59556e1",
    "outputId": "08f3872d-9434-48bc-c590-a0f90ddbfc6f"
   },
   "outputs": [
    {
     "data": {
      "text/plain": [
       "np.float64(2.624494067560231)"
      ]
     },
     "execution_count": 11,
     "metadata": {},
     "output_type": "execute_result"
    }
   ],
   "source": [
    "beta=st.t.ppf(0.99,14)\n",
    "beta"
   ]
  },
  {
   "cell_type": "code",
   "execution_count": 12,
   "id": "1027a386",
   "metadata": {
    "id": "1027a386",
    "outputId": "1e3cc6cb-ebf0-49f4-fd8b-93030daa1001"
   },
   "outputs": [
    {
     "data": {
      "text/plain": [
       "(np.float64(163.93415127364761), np.float64(172.06584872635239))"
      ]
     },
     "execution_count": 12,
     "metadata": {},
     "output_type": "execute_result"
    }
   ],
   "source": [
    "sigma=6\n",
    "N=15\n",
    "media=168\n",
    "-beta*sigma/np.sqrt(N)+media,beta*sigma/np.sqrt(N)+media,"
   ]
  },
  {
   "cell_type": "markdown",
   "id": "d47e924d",
   "metadata": {
    "id": "d47e924d"
   },
   "source": [
    "Ej: Se han tomado los siguientes datos acerca de la estatura de una población\n",
    "[165.4,168.3,178.6,156.5,154.2,161.4,168.9,170.2,151.3,176.1]\n",
    "\n",
    "Dar un intervalo de confianza para la media al 8%,4%,2% y 1% de significación"
   ]
  },
  {
   "cell_type": "code",
   "execution_count": 13,
   "id": "817adc3f",
   "metadata": {
    "id": "817adc3f",
    "outputId": "535b65e9-76e1-46a1-e925-99ff99d44a26"
   },
   "outputs": [
    {
     "data": {
      "text/plain": [
       "(np.float64(165.08999999999997), np.float64(9.134361256024173), 10)"
      ]
     },
     "execution_count": 13,
     "metadata": {},
     "output_type": "execute_result"
    }
   ],
   "source": [
    "X=np.array([165.4,168.3,178.6,156.5,154.2,161.4,168.9,170.2,151.3,176.1])\n",
    "Xm=X.mean()\n",
    "N=len(X)\n",
    "S=np.sqrt(np.sum((X-Xm)**2)/(N-1)) # desviacion estandar muestral\n",
    "Xm,S,N"
   ]
  },
  {
   "cell_type": "code",
   "execution_count": 14,
   "id": "147e1b53",
   "metadata": {
    "id": "147e1b53",
    "outputId": "1e2062cb-b79b-4c98-a789-9178f1b8710a"
   },
   "outputs": [
    {
     "data": {
      "text/plain": [
       "np.float64(8.665615961949847)"
      ]
     },
     "execution_count": 14,
     "metadata": {},
     "output_type": "execute_result"
    }
   ],
   "source": [
    "X.std()"
   ]
  },
  {
   "cell_type": "code",
   "execution_count": 15,
   "id": "01cb2d35",
   "metadata": {
    "id": "01cb2d35",
    "outputId": "8f21fee2-b84c-432f-db7c-d535e2c3c670"
   },
   "outputs": [
    {
     "data": {
      "text/plain": [
       "(np.float64(159.39191656362473), np.float64(170.78808343637522))"
      ]
     },
     "execution_count": 15,
     "metadata": {},
     "output_type": "execute_result"
    }
   ],
   "source": [
    "st.t.ppf(0.04,N-1,Xm,S/np.sqrt(N)),st.t.ppf(0.96,N-1,Xm,S/np.sqrt(N)) # al 8% de significación"
   ]
  },
  {
   "cell_type": "code",
   "execution_count": 16,
   "id": "3fd668a5",
   "metadata": {
    "id": "3fd668a5",
    "outputId": "cf9de63a-114d-4e0c-e1ef-ea46f40a7ec3"
   },
   "outputs": [
    {
     "data": {
      "text/plain": [
       "(np.float64(158.16201050594424), np.float64(172.0179894940557))"
      ]
     },
     "execution_count": 16,
     "metadata": {},
     "output_type": "execute_result"
    }
   ],
   "source": [
    "st.t.ppf(0.02,N-1,Xm,S/np.sqrt(N)),st.t.ppf(0.98,N-1,Xm,S/np.sqrt(N)) # al 4% de significación"
   ]
  },
  {
   "cell_type": "code",
   "execution_count": 17,
   "id": "b9289af4",
   "metadata": {
    "id": "b9289af4",
    "outputId": "fb74ecb8-2256-4236-f817-a18ed18bbe12"
   },
   "outputs": [
    {
     "data": {
      "text/plain": [
       "(np.float64(156.94016749374853), np.float64(173.23983250625142))"
      ]
     },
     "execution_count": 17,
     "metadata": {},
     "output_type": "execute_result"
    }
   ],
   "source": [
    "st.t.ppf(0.01,N-1,Xm,S/np.sqrt(N)),st.t.ppf(0.99,N-1,Xm,S/np.sqrt(N)) # al 2% de significación"
   ]
  },
  {
   "cell_type": "code",
   "execution_count": 18,
   "id": "46dfa8b2",
   "metadata": {
    "id": "46dfa8b2",
    "outputId": "34596069-e977-497d-a665-dfb03c6cb219"
   },
   "outputs": [
    {
     "data": {
      "text/plain": [
       "(np.float64(155.70272441902242), np.float64(174.47727558097753))"
      ]
     },
     "execution_count": 18,
     "metadata": {},
     "output_type": "execute_result"
    }
   ],
   "source": [
    "st.t.ppf(0.005,N-1,Xm,S/np.sqrt(N)),st.t.ppf(0.995,N-1,Xm,S/np.sqrt(N)) # al 1% de significación"
   ]
  },
  {
   "cell_type": "markdown",
   "id": "a982ccbd",
   "metadata": {
    "id": "a982ccbd"
   },
   "source": [
    "Prop: Sean $X_1,X_2,...,X_n$ realizaciones de una distribución aleatoria de media $\\mu$ y de desviación estandar $\\sigma$. Si $$M=\\sum_{i=1}^n (X_i-\\overline{X})^2=(n-1)S^2$$\n",
    "Entonces\n",
    "$$\\frac{M}{\\sigma^2}\\rightarrow \\chi^2_{n-1}$$"
   ]
  },
  {
   "cell_type": "markdown",
   "id": "df23ac4e",
   "metadata": {
    "id": "df23ac4e"
   },
   "source": [
    "Eso quiere decir que para un valor de significación pequeño $\\alpha$ podemos encontrar\n",
    "$$P(X<k_1)=\\alpha/2=P(X>k_2)$$"
   ]
  },
  {
   "cell_type": "markdown",
   "id": "f4856e41",
   "metadata": {
    "id": "f4856e41"
   },
   "source": [
    "Lo que quiere decir que\n",
    "$$P(k_1<\\frac{M}{\\sigma^2}<k_2)=1-\\alpha$$"
   ]
  },
  {
   "cell_type": "markdown",
   "id": "aa3094ec",
   "metadata": {
    "id": "aa3094ec"
   },
   "source": [
    "Y tenemos la estimación de intervalo de la varianza\n",
    "$$k_1<\\frac{M}{\\sigma^2}<k_2$$\n",
    "\n",
    "$$\\frac{1}{k_2}<\\frac{\\sigma^2}{M}<\\frac{1}{k_1}$$\n",
    "\n",
    "$$\\frac{M}{k_2}<\\sigma^2<\\frac{M}{k_1}$$\n",
    "\n",
    "$$(\\frac{M}{k_2},\\frac{M}{k_1})$$"
   ]
  },
  {
   "cell_type": "markdown",
   "id": "b445b81c",
   "metadata": {
    "id": "b445b81c"
   },
   "source": [
    "Ej: Se realizan 20 muestras de la talla de un clavo y se determinó que el clavo mide en promedio 2.52cm con una desviación estandar muestral de 0.03cm, dar una estimación de la varianza y de la desviación estandar de la prueba al 94% de confiabilidad"
   ]
  },
  {
   "cell_type": "code",
   "execution_count": 19,
   "id": "0eacf99c",
   "metadata": {
    "id": "0eacf99c",
    "outputId": "f09fd823-0695-4146-f8d4-2c44a245d042"
   },
   "outputs": [
    {
     "data": {
      "text/plain": [
       "(np.float64(0.0005317541107315959), np.float64(0.0018586066218084002))"
      ]
     },
     "execution_count": 19,
     "metadata": {},
     "output_type": "execute_result"
    }
   ],
   "source": [
    "n=20\n",
    "M=0.03**2*(n-1)\n",
    "alpha=0.06 # 1 - 0.94\n",
    "k1=st.chi2.ppf(alpha/2,n-1)\n",
    "k2=st.chi2.ppf(1-alpha/2,n-1)\n",
    "M/k2,M/k1"
   ]
  },
  {
   "cell_type": "code",
   "execution_count": 20,
   "id": "d4f204a3",
   "metadata": {
    "id": "d4f204a3",
    "outputId": "1a47fef3-1911-42ea-ae27-4832705c6c50"
   },
   "outputs": [
    {
     "data": {
      "text/plain": [
       "(np.float64(0.023059794247382085), np.float64(0.04311156018759238))"
      ]
     },
     "execution_count": 20,
     "metadata": {},
     "output_type": "execute_result"
    }
   ],
   "source": [
    "np.sqrt(M/k2),np.sqrt(M/k1)"
   ]
  },
  {
   "cell_type": "markdown",
   "id": "2f4ff824",
   "metadata": {
    "id": "2f4ff824"
   },
   "source": [
    "Esperamos que la varianza se encuentre entre 0.0005 y 0.0019\n",
    "\n",
    "Y su desviación estandar entre 0.02 y 0.04 al 94% de confiabilidad"
   ]
  },
  {
   "cell_type": "markdown",
   "id": "a88591c3",
   "metadata": {
    "id": "a88591c3"
   },
   "source": [
    "Ej: Dados los siguientes datos sobre las notas medias de un curso, dar una estimación de la nota media y de su desviación estandar con un 10% de significación\n",
    "$$N=[58,63,45, 81, 76, 35, 77, 55, 90, 68,39, 96, 57, 60, 11,63]$$"
   ]
  },
  {
   "cell_type": "code",
   "execution_count": 21,
   "id": "a1de9a4c",
   "metadata": {
    "id": "a1de9a4c",
    "outputId": "c5fbd281-a1a9-4c57-bc8e-ead8557032a6"
   },
   "outputs": [
    {
     "data": {
      "text/plain": [
       "(16, np.float64(60.875), np.float64(21.574290254838047))"
      ]
     },
     "execution_count": 21,
     "metadata": {},
     "output_type": "execute_result"
    }
   ],
   "source": [
    "N=np.array([58,63,45, 81, 76, 35, 77, 55, 90, 68,39, 96, 57, 60, 11,63])\n",
    "mu=N.mean()\n",
    "n=len(N)\n",
    "s=np.sqrt(np.sum((N-mu)**2)/(n-1))\n",
    "n,mu,s"
   ]
  },
  {
   "cell_type": "code",
   "execution_count": 22,
   "id": "04e5c229",
   "metadata": {
    "id": "04e5c229",
    "outputId": "c23c6a7f-001f-46c3-e2f9-8859655587bf"
   },
   "outputs": [
    {
     "data": {
      "text/plain": [
       "(np.float64(51.419795698735435), np.float64(70.33020430126456))"
      ]
     },
     "execution_count": 22,
     "metadata": {},
     "output_type": "execute_result"
    }
   ],
   "source": [
    "alpha=0.1\n",
    "k1=st.t.ppf(alpha/2,n-1)\n",
    "k2=st.t.ppf(1-alpha/2,n-1)\n",
    "-k2*s/np.sqrt(n)+mu,k2*s/np.sqrt(n)+mu"
   ]
  },
  {
   "cell_type": "markdown",
   "id": "ab6a98eb",
   "metadata": {
    "id": "ab6a98eb"
   },
   "source": [
    "Al 10% de significación nuestra media está entre 51.42 y 70.33"
   ]
  },
  {
   "cell_type": "code",
   "execution_count": 23,
   "id": "68a0d543",
   "metadata": {
    "id": "68a0d543",
    "outputId": "54ea7f9d-e0a2-4bc7-cc0e-af4f88b984bc"
   },
   "outputs": [
    {
     "data": {
      "text/plain": [
       "(np.float64(279.31703542762267), np.float64(961.5485355001741))"
      ]
     },
     "execution_count": 23,
     "metadata": {},
     "output_type": "execute_result"
    }
   ],
   "source": [
    "k1=st.chi2.ppf(alpha/2,n-1)\n",
    "k2=st.chi2.ppf(1-alpha/2,n-1)\n",
    "M=(n-1)*s**2\n",
    "M/k2,M/k1"
   ]
  },
  {
   "cell_type": "code",
   "execution_count": 24,
   "id": "8fabaac3",
   "metadata": {
    "id": "8fabaac3",
    "outputId": "7d83f518-1e4d-4735-efb2-71282cd42bf8"
   },
   "outputs": [
    {
     "data": {
      "text/plain": [
       "(np.float64(16.712780601312957), np.float64(31.008846084628402))"
      ]
     },
     "execution_count": 24,
     "metadata": {},
     "output_type": "execute_result"
    }
   ],
   "source": [
    "np.sqrt(M/k2),np.sqrt(M/k1)"
   ]
  },
  {
   "cell_type": "markdown",
   "id": "d3525627",
   "metadata": {
    "id": "d3525627"
   },
   "source": [
    "Estimamos al 10% de significacion que nuestra desviación estandar se encuentre entre 16.71 y 31.01"
   ]
  },
  {
   "cell_type": "markdown",
   "id": "b75582a4",
   "metadata": {
    "id": "b75582a4"
   },
   "source": [
    "### Test de Hipótesis"
   ]
  },
  {
   "cell_type": "markdown",
   "id": "c681c810",
   "metadata": {
    "id": "c681c810"
   },
   "source": [
    "Ej:Supongamos que queremos evaluar el precio de un producto en una ciudad, para lo cual se realizan 25 muestras, obteniendo una media de 17 Bs. y una desviación estandar de 1.5 Bs. Según datos registrados el precio del artículo se situa a 13 Bs. ¿Es que la afirmación anterior es valida a un 99% de confiabilidad (0.01 nivel de significación)?"
   ]
  },
  {
   "cell_type": "markdown",
   "id": "a2904d0d",
   "metadata": {
    "id": "a2904d0d"
   },
   "source": [
    "Vamos a formular una hipótesis\n",
    "\n",
    "$$H_0: \\mu=13$$\n",
    "\n",
    "y una hipótesis alternativa\n",
    "\n",
    "$$H_1: \\mu \\neq 13$$"
   ]
  },
  {
   "cell_type": "markdown",
   "id": "aa4a7bd4",
   "metadata": {
    "id": "aa4a7bd4"
   },
   "source": [
    "1ra idea: Dar un intervalo de confianza de nuestra media a la confiabilidad deseada y si la hipótesis esta dentro del intervalo entonces aceptamos el test, sino lo rechazamos\n",
    "    \n",
    "2da idea: Crear un estimador que siga exactamente una distribución aleatoria y evaluamos que este valor este dentro de los parámetros estimados deseados (comparar el estimador con el percentil de probabilidad deseado ppf)"
   ]
  },
  {
   "cell_type": "code",
   "execution_count": 32,
   "id": "4129c2dc",
   "metadata": {
    "id": "4129c2dc",
    "outputId": "b76526e6-d56d-4bad-be86-f2c659fa8678"
   },
   "outputs": [
    {
     "data": {
      "text/plain": [
       "(np.float64(16.160918148568157), np.float64(17.839081851431843))"
      ]
     },
     "execution_count": 32,
     "metadata": {},
     "output_type": "execute_result"
    }
   ],
   "source": [
    "mu=17\n",
    "s=1.5\n",
    "n=25\n",
    "alpha=0.01\n",
    "st.t.ppf(alpha/2,n-1,mu,s/np.sqrt(n)),st.t.ppf(1-alpha/2,n-1,mu,s/np.sqrt(n)) # ppf para la inversa, usamos desviacion muestral"
   ]
  },
  {
   "cell_type": "markdown",
   "id": "71cfb151",
   "metadata": {
    "id": "71cfb151"
   },
   "source": [
    "Segun lo indicado podemos decir al 99% de confiabilidad que el precio no es de 13 Bs. (hipótesis alternativa)"
   ]
  },
  {
   "cell_type": "markdown",
   "id": "957dbfe5",
   "metadata": {
    "id": "957dbfe5"
   },
   "source": [
    "Vamos a considerar el estimador\n",
    "\n",
    "$$E=\\frac{\\sqrt{n}|\\mu-\\overline{X}|}{s}\\rightarrow \\mathcal{t}_{n-1}$$"
   ]
  },
  {
   "cell_type": "code",
   "execution_count": 26,
   "id": "a4387716",
   "metadata": {
    "id": "a4387716",
    "outputId": "aaf19d13-a321-4720-ee6d-d3119bcfa82a"
   },
   "outputs": [
    {
     "data": {
      "text/plain": [
       "(np.float64(2.796939504772804), np.float64(13.333333333333334))"
      ]
     },
     "execution_count": 26,
     "metadata": {},
     "output_type": "execute_result"
    }
   ],
   "source": [
    "criterio=st.t.ppf(1-alpha/2,n-1)\n",
    "E=np.sqrt(n)*np.abs(13-mu)/s\n",
    "criterio,E"
   ]
  },
  {
   "cell_type": "markdown",
   "id": "ba151d51",
   "metadata": {
    "id": "ba151d51"
   },
   "source": [
    "Como el estimador es mucho más grande que el criterio entonces rechazamos la hipótesis"
   ]
  },
  {
   "cell_type": "markdown",
   "id": "80815a0c",
   "metadata": {
    "id": "80815a0c"
   },
   "source": [
    "Ej: Una productora de leche produce paquetes de leche de 1 litro. Esta especifica que la varianza que tiene entre sus productos es inferior a  1𝑐𝑚3\n",
    " . Basandonos en 25 datos obtenidos verificar la veracidad de la afirmación."
   ]
  },
  {
   "cell_type": "markdown",
   "id": "ea5de117",
   "metadata": {
    "id": "ea5de117"
   },
   "source": [
    "$$X=[1000.3, 1001.3, 999.5, 999.7, 999.3,999.8, 998.3, 1000.6, 999.7, 999.8,1001.0, 999.4, 999.5, 998.5, 1000.7,999.6, 999.8,1000.0,998.2, 1000.1,998.1, 1000.7, 999.8, 1001.3, 1000.7]$$"
   ]
  },
  {
   "cell_type": "code",
   "execution_count": 27,
   "id": "00e7f1dc",
   "metadata": {
    "id": "00e7f1dc",
    "outputId": "3b509b44-0aea-4355-d072-f683c850e596"
   },
   "outputs": [
    {
     "data": {
      "text/plain": [
       "(25, np.float64(999.828), np.float64(0.8993145537945352))"
      ]
     },
     "execution_count": 27,
     "metadata": {},
     "output_type": "execute_result"
    }
   ],
   "source": [
    "X=np.array([1000.3, 1001.3, 999.5, 999.7, 999.3,999.8, 998.3, 1000.6, 999.7, 999.8,1001.0, 999.4, 999.5, 998.5, 1000.7,999.6, 999.8,1000.0,998.2, 1000.1,998.1, 1000.7, 999.8, 1001.3, 1000.7])\n",
    "mu=X.mean()\n",
    "n=len(X)\n",
    "s=np.sqrt(np.sum((X-mu)**2)/(n-1))\n",
    "n,mu,s\n"
   ]
  },
  {
   "cell_type": "markdown",
   "id": "016d7882",
   "metadata": {
    "id": "016d7882"
   },
   "source": [
    "En este caso la hipótesis nula es\n",
    "\n",
    "$$H_0: \\sigma^2<1$$\n",
    "    \n",
    "y la hipótesis alternativa es que\n",
    "\n",
    "$$H_1: \\sigma^2\\geq 1$$"
   ]
  },
  {
   "cell_type": "code",
   "execution_count": 28,
   "id": "bd6bc6fb",
   "metadata": {
    "id": "bd6bc6fb",
    "outputId": "e200c44c-397b-4446-bc73-afbbbd8fd50f"
   },
   "outputs": [
    {
     "data": {
      "text/plain": [
       "(np.float64(1.2395933103257837),\n",
       " np.float64(1.4016323128382664),\n",
       " np.float64(1.7879286760805146))"
      ]
     },
     "execution_count": 28,
     "metadata": {},
     "output_type": "execute_result"
    }
   ],
   "source": [
    "M=(n-1)*s**2\n",
    "alpha1=0.1\n",
    "alpha2=0.05\n",
    "alpha3=0.01\n",
    "k10=st.chi2.ppf(alpha1,n-1)\n",
    "k5=st.chi2.ppf(alpha2,n-1)\n",
    "k1=st.chi2.ppf(alpha3,n-1)\n",
    "M/k10,M/k5,M/k1"
   ]
  },
  {
   "cell_type": "markdown",
   "id": "b44462e8",
   "metadata": {
    "id": "b44462e8"
   },
   "source": [
    "Nuestro de aceptación en todos estos casos es que la varianza verifica que es inferior a 1"
   ]
  },
  {
   "cell_type": "markdown",
   "id": "f58f7647",
   "metadata": {
    "id": "f58f7647"
   },
   "source": [
    "Nosotros sabemos que\n",
    "$$T=(n-1)S^2/\\sigma^2 \\rightarrow \\chi^2_{n-1}$$"
   ]
  },
  {
   "cell_type": "code",
   "execution_count": 29,
   "id": "e1356e04",
   "metadata": {
    "id": "e1356e04",
    "outputId": "6a0ef709-8d4f-44b6-86f0-36aa6ef904d9"
   },
   "outputs": [
    {
     "data": {
      "text/plain": [
       "(np.float64(19.41039999999993),\n",
       " np.float64(33.19624428862818),\n",
       " np.float64(36.41502850180731),\n",
       " np.float64(42.97982013935165))"
      ]
     },
     "execution_count": 29,
     "metadata": {},
     "output_type": "execute_result"
    }
   ],
   "source": [
    "T=(n-1)*s**2/1**2\n",
    "k10=st.chi2.ppf(1-alpha1,n-1)\n",
    "k5=st.chi2.ppf(1-alpha2,n-1)\n",
    "k1=st.chi2.ppf(1-alpha3,n-1)\n",
    "T,k10,k5,k1"
   ]
  },
  {
   "cell_type": "markdown",
   "id": "bb784a2c",
   "metadata": {
    "id": "bb784a2c"
   },
   "source": [
    "En todos los casos aceptamos la hipótesis de que la varianza es inferior a $1 cm^3$"
   ]
  },
  {
   "cell_type": "markdown",
   "id": "1be76918",
   "metadata": {
    "id": "1be76918"
   },
   "source": [
    "#### Test de comparativo de medias"
   ]
  },
  {
   "cell_type": "markdown",
   "id": "fb47eda9",
   "metadata": {
    "id": "fb47eda9"
   },
   "source": [
    "Lo que quisieramos es comparar si\n",
    "$$\\mu_X=\\mu_Y$$\n",
    "conociendo ciertos datos muestrales"
   ]
  },
  {
   "cell_type": "markdown",
   "id": "530e19f2",
   "metadata": {
    "id": "530e19f2"
   },
   "source": [
    "En estos casos vamos a considerar la variable aleatoria\n",
    "$$Z=X-Y$$"
   ]
  },
  {
   "cell_type": "markdown",
   "id": "5a540abb",
   "metadata": {
    "id": "5a540abb"
   },
   "source": [
    "tenemos bien para $Z$ que\n",
    "$$\\mu=\\mu_X-\\mu_Y$$\n",
    "y\n",
    "$$\\sigma^2=\\sigma_X^2-\\sigma_Y^2$$"
   ]
  },
  {
   "cell_type": "markdown",
   "id": "9306c595",
   "metadata": {
    "id": "9306c595"
   },
   "source": [
    "Y vamos a testear la hipótesis\n",
    "$$H_0:\\mu=0$$"
   ]
  },
  {
   "cell_type": "markdown",
   "id": "a3aae745",
   "metadata": {
    "id": "a3aae745"
   },
   "source": [
    "Bajo hipótesis de $n,m$ suficientemente grandes o que conozcamos la varianza de las distribuciones\n",
    "$$\\frac{|\\overline{X}-\\overline{Y}|}{\\sqrt{\\sigma_X^2/n+\\sigma_Y^2/m}}\\rightarrow \\mathcal{N}(0,1)$$"
   ]
  },
  {
   "cell_type": "markdown",
   "id": "649a35a5",
   "metadata": {
    "id": "649a35a5"
   },
   "source": [
    "Para el caso donde tenemos todo muestral\n",
    "$$\\sqrt{\\frac{n+m-2}{1/n+1/m}}\\frac{|\\overline{X}-\\overline{Y}|}{\\sqrt{(n-1)S_X+(m-1)S_Y}}\\rightarrow t_{n+m-2}$$"
   ]
  },
  {
   "cell_type": "markdown",
   "id": "36420e17",
   "metadata": {
    "id": "36420e17"
   },
   "source": [
    "Ej: Se comparan los tiempos de realización de una tarea con 2 diferentes herramientas tomando una muestra de 20 personas por herramienta. Se obtienen los siguientes resultados muestrales\n",
    "* $\\overline{X}=2.84 s$ y $S_X^2=0.48s$\n",
    "* $\\overline{Y}=3.02s$ y $S_Y^2=0.42s$"
   ]
  },
  {
   "cell_type": "markdown",
   "id": "9eda8511",
   "metadata": {
    "id": "9eda8511"
   },
   "source": [
    "Verificar si con ambas herramiantas podemos decir que realiza la tarea en el mismo tiempo estadístico al 5% de significación"
   ]
  },
  {
   "cell_type": "code",
   "execution_count": 30,
   "id": "1222424c",
   "metadata": {
    "id": "1222424c",
    "outputId": "5cee0170-e535-4112-b297-418b0032acf0"
   },
   "outputs": [
    {
     "data": {
      "text/plain": [
       "(np.float64(0.695168709319588), np.float64(2.024394163911969))"
      ]
     },
     "execution_count": 30,
     "metadata": {},
     "output_type": "execute_result"
    }
   ],
   "source": [
    "n=20\n",
    "m=20\n",
    "mu1=2.84\n",
    "mu2=3.02\n",
    "s1=np.sqrt(0.48)\n",
    "s2=np.sqrt(0.42)\n",
    "alpha=0.05\n",
    "criterio=st.t.ppf(1-alpha/2,n+m-2)\n",
    "E=np.sqrt((n+m-2)/(1/n+1/m))*np.abs(mu1-mu2)/np.sqrt((n-1)*s1+(m-1)*s2)\n",
    "E,criterio"
   ]
  },
  {
   "cell_type": "markdown",
   "id": "1b30216c",
   "metadata": {
    "id": "1b30216c"
   },
   "source": [
    "Como el estimador es más pequeño que el criterio de aceptación, entonces aceptamos el test y decimos que al 5% de significación, ambas realizaciones son estadísticamente iguales"
   ]
  },
  {
   "cell_type": "code",
   "execution_count": null,
   "id": "492dcb06",
   "metadata": {
    "id": "492dcb06"
   },
   "outputs": [],
   "source": []
  }
 ],
 "metadata": {
  "colab": {
   "provenance": []
  },
  "kernelspec": {
   "display_name": "venv",
   "language": "python",
   "name": "python3"
  },
  "language_info": {
   "codemirror_mode": {
    "name": "ipython",
    "version": 3
   },
   "file_extension": ".py",
   "mimetype": "text/x-python",
   "name": "python",
   "nbconvert_exporter": "python",
   "pygments_lexer": "ipython3",
   "version": "3.13.1"
  }
 },
 "nbformat": 4,
 "nbformat_minor": 5
}
