{
 "cells": [
  {
   "cell_type": "markdown",
   "id": "85f6c975",
   "metadata": {
    "id": "85f6c975"
   },
   "source": [
    "### Estadística aplicada a ciencia de datos\n",
    "\n"
   ]
  },
  {
   "cell_type": "code",
   "execution_count": 1,
   "id": "K5zl4WMbZLSk",
   "metadata": {
    "id": "K5zl4WMbZLSk"
   },
   "outputs": [],
   "source": [
    "import pandas as pd\n",
    "import seaborn as sns\n",
    "import matplotlib.pyplot as plt\n",
    "import numpy as np"
   ]
  },
  {
   "cell_type": "markdown",
   "id": "9614c423",
   "metadata": {
    "id": "9614c423"
   },
   "source": [
    "1. Introducción\n",
    "2. Distribuciones de probabilidad\n",
    "6. Analísis exploratorio de datos.\n",
    "4. Tests estadísticos\n",
    "\n",
    "7. Inferencia estadística"
   ]
  },
  {
   "cell_type": "markdown",
   "id": "1731d1ba",
   "metadata": {
    "id": "1731d1ba"
   },
   "source": [
    "Podemos escribir escritura matemática perfectamente en el notebook\n",
    "\n",
    "$$\\int_0^{\\infty}\\frac{\\sqrt{x+1}}{\\sin(x)}dx$$"
   ]
  },
  {
   "cell_type": "code",
   "execution_count": 2,
   "id": "a950ffc6",
   "metadata": {
    "id": "a950ffc6",
    "outputId": "46e1806a-ff02-405a-8473-6a8005d158ba"
   },
   "outputs": [
    {
     "name": "stdout",
     "output_type": "stream",
     "text": [
      "0\n",
      "1\n",
      "2\n",
      "3\n",
      "4\n",
      "5\n",
      "6\n",
      "7\n",
      "8\n",
      "9\n"
     ]
    }
   ],
   "source": [
    "for i in range(10):\n",
    "    print(i)"
   ]
  },
  {
   "cell_type": "markdown",
   "id": "21fc9ea1",
   "metadata": {
    "id": "21fc9ea1"
   },
   "source": [
    "podemos explotar las librerias de Python"
   ]
  },
  {
   "cell_type": "code",
   "execution_count": 3,
   "id": "ea661dc7",
   "metadata": {
    "id": "ea661dc7"
   },
   "outputs": [],
   "source": [
    "import numpy as np # Principales funciones matemáticas (sobre todo para vectores)\n",
    "import matplotlib.pyplot as plt # Para graficar\n",
    "import math as ma # Más funciones matemáticas\n",
    "import pandas as pd # Para manejo de datasets"
   ]
  },
  {
   "cell_type": "code",
   "execution_count": 4,
   "id": "8b769fcb",
   "metadata": {
    "id": "8b769fcb",
    "outputId": "45597202-9e5e-451c-8473-7a7ac961aacf"
   },
   "outputs": [
    {
     "data": {
      "image/png": "[encoded data removed]",
      "text/plain": [
       "<Figure size 640x480 with 1 Axes>"
      ]
     },
     "metadata": {},
     "output_type": "display_data"
    }
   ],
   "source": [
    "a=np.linspace(0,2*np.pi,100)\n",
    "x=16*np.sin(a)**3\n",
    "y=13*np.cos(a)-5*np.cos(2*a)-2*np.cos(3*a)-np.cos(4*a)\n",
    "plt.plot(x,y,'r')\n",
    "plt.show()"
   ]
  },
  {
   "cell_type": "markdown",
   "id": "01b1a45e",
   "metadata": {
    "id": "01b1a45e"
   },
   "source": [
    "Conceptos importantes:\n",
    "* media:\n",
    "$$\\overline{x}=\\frac{1}{n}\\sum_{i=1}^nx_i$$"
   ]
  },
  {
   "cell_type": "markdown",
   "id": "ba9105eb",
   "metadata": {
    "id": "ba9105eb"
   },
   "source": [
    "* varianza:\n",
    "    \n",
    "$$var(x)=\\frac{1}{n-1}\\sum_{i=1}^n (x_i-\\overline{x})^2$$"
   ]
  },
  {
   "cell_type": "markdown",
   "id": "78167d19",
   "metadata": {
    "id": "78167d19"
   },
   "source": [
    "* desviación estandar:\n",
    "$$\\sigma = \\sqrt{var(x)}$$"
   ]
  },
  {
   "cell_type": "markdown",
   "id": "3219a357",
   "metadata": {
    "id": "3219a357"
   },
   "source": [
    "Preguntas importantes:\n",
    "* ¿Qué es un evento aleatorio?\n",
    "\n",
    "Decimos que un evento es aleatorio si dadas las mismas condiciones el resultado es incierto (o no siempre es el mismo)\n",
    "* ¿Qué es una probabilidad?\n",
    "\n",
    "La probabilidad es la medida de certitud de que un evento aleatorio ocurra. Se mide entre 0 y 1, donde 0 significa que el evento aleatorio es imposible y 1 que el evento aleatorio siempre ocurre\n",
    "* ¿Qué es un espacio muestral?\n",
    "\n",
    "Def: El espacio muestral es el conjunto de todos los eventos posibles, lo denotamos en general $\\Omega$\n"
   ]
  },
  {
   "cell_type": "markdown",
   "id": "6cc2ce6d",
   "metadata": {
    "id": "6cc2ce6d"
   },
   "source": [
    "Def: Un evento aleatorio lo podemos definir como una realizacion del espacio muestral"
   ]
  },
  {
   "cell_type": "markdown",
   "id": "a6be05bd",
   "metadata": {
    "id": "a6be05bd"
   },
   "source": [
    "Nuestra primera definición matemática de probabilidades sería\n",
    "\n",
    "$$P(E)=\\frac{|E|}{|\\Omega|}$$"
   ]
  },
  {
   "cell_type": "markdown",
   "id": "55713cef",
   "metadata": {
    "id": "55713cef"
   },
   "source": [
    "Donde $P$ es la probabilidad de que el evento aleatorio $E$ ocurra"
   ]
  },
  {
   "cell_type": "markdown",
   "id": "b9f3f70f",
   "metadata": {
    "id": "b9f3f70f"
   },
   "source": [
    "Ej: Si escogemos un número de 3 cifras al azar, ¿cuál es la probabilidad de que número sea par?, ¿cuál es la probabilidad de que el número no contenga 4?"
   ]
  },
  {
   "cell_type": "markdown",
   "id": "9b5bdf5f",
   "metadata": {
    "id": "9b5bdf5f"
   },
   "source": [
    "$$\\Omega=\\{abc/ 1\\leq a\\leq 9, 0\\leq b\\leq 9, 0\\leq c\\leq 9 \\}$$"
   ]
  },
  {
   "cell_type": "markdown",
   "id": "991169e0",
   "metadata": {
    "id": "991169e0"
   },
   "source": [
    "$$|\\Omega|=9*10*10=900$$"
   ]
  },
  {
   "cell_type": "markdown",
   "id": "f838913d",
   "metadata": {
    "id": "f838913d"
   },
   "source": [
    "$$E=\\{abc/ 1\\leq a\\leq 9, 0\\leq b\\leq 9, c\\in \\{0,2,4,6,8\\}\\}$$\n",
    "$$|E|=9*10*5=450$$"
   ]
  },
  {
   "cell_type": "markdown",
   "id": "e4006ef3",
   "metadata": {
    "id": "e4006ef3"
   },
   "source": [
    "La probabilidad para el primer caso es\n",
    "\n",
    "$$P(E)=450/900=0.5$$"
   ]
  },
  {
   "cell_type": "markdown",
   "id": "f4336897",
   "metadata": {
    "id": "f4336897"
   },
   "source": [
    "$$|E|=8*9*9=648$$"
   ]
  },
  {
   "cell_type": "code",
   "execution_count": 5,
   "id": "e3dd9803",
   "metadata": {
    "id": "e3dd9803",
    "outputId": "8caa05b1-d4dd-4533-90e0-d235234decbd"
   },
   "outputs": [
    {
     "data": {
      "text/plain": [
       "648"
      ]
     },
     "execution_count": 5,
     "metadata": {},
     "output_type": "execute_result"
    }
   ],
   "source": [
    "8*9*9"
   ]
  },
  {
   "cell_type": "code",
   "execution_count": 6,
   "id": "ea4c5507",
   "metadata": {
    "id": "ea4c5507",
    "outputId": "b5cb3709-168f-4a06-c9ff-18af26d6beec"
   },
   "outputs": [
    {
     "data": {
      "text/plain": [
       "0.72"
      ]
     },
     "execution_count": 6,
     "metadata": {},
     "output_type": "execute_result"
    }
   ],
   "source": [
    "648/900"
   ]
  },
  {
   "cell_type": "markdown",
   "id": "dfcb26ac",
   "metadata": {
    "id": "dfcb26ac"
   },
   "source": [
    "La probabilidad en el segundo caso es de 0.72"
   ]
  },
  {
   "cell_type": "markdown",
   "id": "368b68ec",
   "metadata": {
    "id": "368b68ec"
   },
   "source": [
    "Asumiendo la definicion de probabilidad anterior podemos calcular la probabilidad frecuentista como\n",
    "\n",
    "$$\\lim_{n\\rightarrow \\infty} \\frac{\\text{casos favorables}}{\\text{casos posibles}}$$"
   ]
  },
  {
   "cell_type": "markdown",
   "id": "6f87dcb8",
   "metadata": {
    "id": "6f87dcb8"
   },
   "source": [
    "Ej: Calcular la probabilidad de obtener un numero par si escogemos numeros del 1 al 7"
   ]
  },
  {
   "cell_type": "code",
   "execution_count": 7,
   "id": "c5c1da25",
   "metadata": {
    "id": "c5c1da25"
   },
   "outputs": [
    {
     "data": {
      "text/plain": [
       "[2,\n",
       " 5,\n",
       " 4,\n",
       " 3,\n",
       " 2,\n",
       " 5,\n",
       " 2,\n",
       " 2,\n",
       " 7,\n",
       " 3,\n",
       " 3,\n",
       " 5,\n",
       " 3,\n",
       " 3,\n",
       " 6,\n",
       " 6,\n",
       " 2,\n",
       " 7,\n",
       " 2,\n",
       " 4,\n",
       " 3,\n",
       " 7,\n",
       " 7,\n",
       " 6,\n",
       " 1,\n",
       " 3,\n",
       " 1,\n",
       " 2,\n",
       " 6,\n",
       " 7,\n",
       " 7,\n",
       " 6,\n",
       " 1,\n",
       " 2,\n",
       " 2,\n",
       " 6,\n",
       " 4,\n",
       " 2,\n",
       " 3,\n",
       " 4,\n",
       " 5,\n",
       " 4,\n",
       " 2,\n",
       " 2,\n",
       " 4,\n",
       " 1,\n",
       " 2,\n",
       " 1,\n",
       " 7,\n",
       " 6,\n",
       " 6,\n",
       " 2,\n",
       " 1,\n",
       " 2,\n",
       " 6,\n",
       " 3,\n",
       " 3,\n",
       " 6,\n",
       " 2,\n",
       " 4,\n",
       " 6,\n",
       " 6,\n",
       " 4,\n",
       " 5,\n",
       " 3,\n",
       " 6,\n",
       " 7,\n",
       " 4,\n",
       " 2,\n",
       " 7,\n",
       " 5,\n",
       " 7,\n",
       " 4,\n",
       " 4,\n",
       " 6,\n",
       " 3,\n",
       " 2,\n",
       " 6,\n",
       " 3,\n",
       " 2,\n",
       " 1,\n",
       " 3,\n",
       " 1,\n",
       " 1,\n",
       " 2,\n",
       " 3,\n",
       " 7,\n",
       " 7,\n",
       " 1,\n",
       " 3,\n",
       " 5,\n",
       " 6,\n",
       " 6,\n",
       " 2,\n",
       " 7,\n",
       " 5,\n",
       " 3,\n",
       " 4,\n",
       " 2,\n",
       " 4,\n",
       " 5,\n",
       " 3,\n",
       " 6,\n",
       " 7,\n",
       " 7,\n",
       " 7,\n",
       " 5,\n",
       " 6,\n",
       " 3,\n",
       " 4,\n",
       " 4,\n",
       " 1,\n",
       " 2,\n",
       " 7,\n",
       " 5,\n",
       " 4,\n",
       " 4,\n",
       " 3,\n",
       " 4,\n",
       " 3,\n",
       " 5,\n",
       " 4,\n",
       " 4,\n",
       " 3,\n",
       " 6,\n",
       " 1,\n",
       " 2,\n",
       " 5,\n",
       " 5,\n",
       " 6,\n",
       " 5,\n",
       " 6,\n",
       " 5,\n",
       " 1,\n",
       " 2,\n",
       " 5,\n",
       " 4,\n",
       " 4,\n",
       " 7,\n",
       " 2,\n",
       " 6,\n",
       " 6,\n",
       " 2,\n",
       " 2,\n",
       " 7,\n",
       " 2,\n",
       " 3,\n",
       " 6,\n",
       " 3,\n",
       " 1,\n",
       " 2,\n",
       " 5,\n",
       " 3,\n",
       " 4,\n",
       " 5,\n",
       " 3,\n",
       " 7,\n",
       " 2,\n",
       " 5,\n",
       " 7,\n",
       " 7,\n",
       " 3,\n",
       " 3,\n",
       " 2,\n",
       " 2,\n",
       " 7,\n",
       " 4,\n",
       " 6,\n",
       " 7,\n",
       " 3,\n",
       " 5,\n",
       " 4,\n",
       " 2,\n",
       " 2,\n",
       " 5,\n",
       " 7,\n",
       " 5,\n",
       " 5,\n",
       " 4,\n",
       " 3,\n",
       " 5,\n",
       " 4,\n",
       " 7,\n",
       " 6,\n",
       " 6,\n",
       " 5,\n",
       " 4,\n",
       " 7,\n",
       " 4,\n",
       " 7,\n",
       " 4,\n",
       " 1,\n",
       " 2,\n",
       " 3,\n",
       " 3,\n",
       " 6,\n",
       " 1,\n",
       " 4,\n",
       " 4,\n",
       " 4,\n",
       " 1,\n",
       " 4,\n",
       " 4,\n",
       " 3,\n",
       " 5,\n",
       " 6,\n",
       " 2,\n",
       " 3,\n",
       " 2,\n",
       " 1,\n",
       " 4,\n",
       " 3,\n",
       " 3,\n",
       " 5,\n",
       " 6,\n",
       " 3,\n",
       " 4,\n",
       " 2,\n",
       " 6,\n",
       " 3,\n",
       " 1,\n",
       " 4,\n",
       " 4,\n",
       " 2,\n",
       " 5,\n",
       " 6,\n",
       " 5,\n",
       " 3,\n",
       " 7,\n",
       " 2,\n",
       " 2,\n",
       " 6,\n",
       " 3,\n",
       " 1,\n",
       " 5,\n",
       " 7,\n",
       " 7,\n",
       " 7,\n",
       " 5,\n",
       " 6,\n",
       " 2,\n",
       " 5,\n",
       " 1,\n",
       " 5,\n",
       " 7,\n",
       " 7,\n",
       " 5,\n",
       " 6,\n",
       " 4,\n",
       " 3,\n",
       " 5,\n",
       " 5,\n",
       " 7,\n",
       " 2,\n",
       " 7,\n",
       " 2,\n",
       " 1,\n",
       " 2,\n",
       " 5,\n",
       " 6,\n",
       " 6,\n",
       " 4,\n",
       " 5,\n",
       " 7,\n",
       " 3,\n",
       " 5,\n",
       " 5,\n",
       " 7,\n",
       " 3,\n",
       " 1,\n",
       " 7,\n",
       " 5,\n",
       " 2,\n",
       " 5,\n",
       " 7,\n",
       " 4,\n",
       " 3,\n",
       " 5,\n",
       " 7,\n",
       " 6,\n",
       " 6,\n",
       " 7,\n",
       " 1,\n",
       " 3,\n",
       " 4,\n",
       " 6,\n",
       " 4,\n",
       " 1,\n",
       " 6,\n",
       " 6,\n",
       " 5,\n",
       " 3,\n",
       " 6,\n",
       " 1,\n",
       " 3,\n",
       " 7,\n",
       " 4,\n",
       " 7,\n",
       " 3,\n",
       " 5,\n",
       " 1,\n",
       " 4,\n",
       " 3,\n",
       " 2,\n",
       " 6,\n",
       " 2,\n",
       " 1,\n",
       " 3,\n",
       " 6,\n",
       " 5,\n",
       " 2,\n",
       " 4,\n",
       " 6,\n",
       " 7,\n",
       " 5,\n",
       " 7,\n",
       " 3,\n",
       " 3,\n",
       " 1,\n",
       " 6,\n",
       " 2,\n",
       " 4,\n",
       " 2,\n",
       " 1,\n",
       " 3,\n",
       " 5,\n",
       " 2,\n",
       " 1,\n",
       " 4,\n",
       " 1,\n",
       " 4,\n",
       " 5,\n",
       " 5,\n",
       " 1,\n",
       " 2,\n",
       " 5,\n",
       " 2,\n",
       " 1,\n",
       " 5,\n",
       " 4,\n",
       " 2,\n",
       " 3,\n",
       " 6,\n",
       " 4,\n",
       " 1,\n",
       " 5,\n",
       " 5,\n",
       " 6,\n",
       " 4,\n",
       " 5,\n",
       " 1,\n",
       " 4,\n",
       " 1,\n",
       " 5,\n",
       " 3,\n",
       " 1,\n",
       " 7,\n",
       " 5,\n",
       " 1,\n",
       " 7,\n",
       " 6,\n",
       " 4,\n",
       " 7,\n",
       " 6,\n",
       " 4,\n",
       " 7,\n",
       " 2,\n",
       " 5,\n",
       " 2,\n",
       " 2,\n",
       " 6,\n",
       " 2,\n",
       " 1,\n",
       " 5,\n",
       " 1,\n",
       " 7,\n",
       " 2,\n",
       " 1,\n",
       " 3,\n",
       " 2,\n",
       " 2,\n",
       " 4,\n",
       " 3,\n",
       " 2,\n",
       " 6,\n",
       " 5,\n",
       " 7,\n",
       " 2,\n",
       " 5,\n",
       " 6,\n",
       " 1,\n",
       " 7,\n",
       " 7,\n",
       " 4,\n",
       " 7,\n",
       " 3,\n",
       " 7,\n",
       " 1,\n",
       " 3,\n",
       " 6,\n",
       " 5,\n",
       " 3,\n",
       " 4,\n",
       " 6,\n",
       " 4,\n",
       " 4,\n",
       " 3,\n",
       " 1,\n",
       " 3,\n",
       " 5,\n",
       " 2,\n",
       " 6,\n",
       " 5,\n",
       " 4,\n",
       " 5,\n",
       " 5,\n",
       " 3,\n",
       " 1,\n",
       " 3,\n",
       " 6,\n",
       " 6,\n",
       " 7,\n",
       " 5,\n",
       " 3,\n",
       " 7,\n",
       " 2,\n",
       " 3,\n",
       " 2,\n",
       " 6,\n",
       " 7,\n",
       " 1,\n",
       " 4,\n",
       " 4,\n",
       " 6,\n",
       " 6,\n",
       " 4,\n",
       " 2,\n",
       " 7,\n",
       " 5,\n",
       " 6,\n",
       " 1,\n",
       " 6,\n",
       " 5,\n",
       " 3,\n",
       " 1,\n",
       " 5,\n",
       " 6,\n",
       " 3,\n",
       " 5,\n",
       " 4,\n",
       " 6,\n",
       " 2,\n",
       " 6,\n",
       " 2,\n",
       " 1,\n",
       " 1,\n",
       " 6,\n",
       " 4,\n",
       " 1,\n",
       " 1,\n",
       " 7,\n",
       " 2,\n",
       " 1,\n",
       " 1,\n",
       " 6,\n",
       " 1,\n",
       " 3,\n",
       " 6,\n",
       " 4,\n",
       " 2,\n",
       " 7,\n",
       " 5,\n",
       " 7,\n",
       " 6,\n",
       " 2,\n",
       " 1,\n",
       " 5,\n",
       " 3,\n",
       " 4,\n",
       " 7,\n",
       " 1,\n",
       " 7,\n",
       " 3,\n",
       " 6,\n",
       " 7,\n",
       " 4,\n",
       " 3,\n",
       " 2,\n",
       " 2,\n",
       " 7,\n",
       " 7,\n",
       " 6,\n",
       " 4,\n",
       " 5,\n",
       " 3,\n",
       " 2,\n",
       " 4,\n",
       " 2,\n",
       " 3,\n",
       " 6,\n",
       " 3,\n",
       " 2,\n",
       " 2,\n",
       " 4,\n",
       " 3,\n",
       " 3,\n",
       " 2,\n",
       " 5,\n",
       " 4,\n",
       " 2,\n",
       " 6,\n",
       " 7,\n",
       " 7,\n",
       " 5,\n",
       " 7,\n",
       " 1,\n",
       " 6,\n",
       " 7,\n",
       " 3,\n",
       " 2,\n",
       " 5,\n",
       " 6,\n",
       " 6,\n",
       " 4,\n",
       " 1,\n",
       " 3,\n",
       " 5,\n",
       " 1,\n",
       " 6,\n",
       " 3,\n",
       " 3,\n",
       " 7,\n",
       " 5,\n",
       " 1,\n",
       " 7,\n",
       " 2,\n",
       " 2,\n",
       " 2,\n",
       " 6,\n",
       " 5,\n",
       " 6,\n",
       " 6,\n",
       " 7,\n",
       " 6,\n",
       " 2,\n",
       " 7,\n",
       " 6,\n",
       " 1,\n",
       " 2,\n",
       " 5,\n",
       " 6,\n",
       " 1,\n",
       " 5,\n",
       " 7,\n",
       " 6,\n",
       " 2,\n",
       " 7,\n",
       " 5,\n",
       " 6,\n",
       " 7,\n",
       " 2,\n",
       " 6,\n",
       " 7,\n",
       " 6,\n",
       " 3,\n",
       " 4,\n",
       " 5,\n",
       " 6,\n",
       " 2,\n",
       " 2,\n",
       " 4,\n",
       " 6,\n",
       " 6,\n",
       " 4,\n",
       " 7,\n",
       " 7,\n",
       " 5,\n",
       " 5,\n",
       " 6,\n",
       " 7,\n",
       " 6,\n",
       " 2,\n",
       " 2,\n",
       " 6,\n",
       " 5,\n",
       " 6,\n",
       " 3,\n",
       " 7,\n",
       " 2,\n",
       " 2,\n",
       " 1,\n",
       " 6,\n",
       " 7,\n",
       " 3,\n",
       " 3,\n",
       " 5,\n",
       " 5,\n",
       " 6,\n",
       " 6,\n",
       " 6,\n",
       " 5,\n",
       " 3,\n",
       " 7,\n",
       " 7,\n",
       " 7,\n",
       " 7,\n",
       " 7,\n",
       " 7,\n",
       " 2,\n",
       " 2,\n",
       " 2,\n",
       " 5,\n",
       " 3,\n",
       " 7,\n",
       " 6,\n",
       " 7,\n",
       " 2,\n",
       " 2,\n",
       " 1,\n",
       " 2,\n",
       " 4,\n",
       " 1,\n",
       " 3,\n",
       " 3,\n",
       " 5,\n",
       " 3,\n",
       " 5,\n",
       " 3,\n",
       " 3,\n",
       " 6,\n",
       " 4,\n",
       " 4,\n",
       " 5,\n",
       " 6,\n",
       " 5,\n",
       " 7,\n",
       " 3,\n",
       " 2,\n",
       " 2,\n",
       " 7,\n",
       " 6,\n",
       " 6,\n",
       " 6,\n",
       " 1,\n",
       " 2,\n",
       " 4,\n",
       " 1,\n",
       " 2,\n",
       " 3,\n",
       " 2,\n",
       " 2,\n",
       " 5,\n",
       " 1,\n",
       " 2,\n",
       " 5,\n",
       " 5,\n",
       " 7,\n",
       " 2,\n",
       " 6,\n",
       " 7,\n",
       " 1,\n",
       " 3,\n",
       " 3,\n",
       " 7,\n",
       " 1,\n",
       " 2,\n",
       " 4,\n",
       " 1,\n",
       " 7,\n",
       " 2,\n",
       " 1,\n",
       " 5,\n",
       " 7,\n",
       " 3,\n",
       " 5,\n",
       " 7,\n",
       " 4,\n",
       " 7,\n",
       " 4,\n",
       " 3,\n",
       " 7,\n",
       " 5,\n",
       " 2,\n",
       " 2,\n",
       " 3,\n",
       " 5,\n",
       " 2,\n",
       " 4,\n",
       " 7,\n",
       " 4,\n",
       " 7,\n",
       " 2,\n",
       " 4,\n",
       " 1,\n",
       " 7,\n",
       " 1,\n",
       " 3,\n",
       " 6,\n",
       " 5,\n",
       " 1,\n",
       " 6,\n",
       " 6,\n",
       " 4,\n",
       " 1,\n",
       " 3,\n",
       " 4,\n",
       " 2,\n",
       " 3,\n",
       " 3,\n",
       " 2,\n",
       " 5,\n",
       " 1,\n",
       " 7,\n",
       " 4,\n",
       " 4,\n",
       " 7,\n",
       " 6,\n",
       " 7,\n",
       " 2,\n",
       " 6,\n",
       " 5,\n",
       " 1,\n",
       " 6,\n",
       " 4,\n",
       " 2,\n",
       " 2,\n",
       " 3,\n",
       " 5,\n",
       " 2,\n",
       " 3,\n",
       " 6,\n",
       " 2,\n",
       " 5,\n",
       " 3,\n",
       " 7,\n",
       " 7,\n",
       " 7,\n",
       " 7,\n",
       " 7,\n",
       " 3,\n",
       " 6,\n",
       " 3,\n",
       " 7,\n",
       " 4,\n",
       " 1,\n",
       " 6,\n",
       " 4,\n",
       " 1,\n",
       " 4,\n",
       " 4,\n",
       " 7,\n",
       " 3,\n",
       " 2,\n",
       " 2,\n",
       " 3,\n",
       " 5,\n",
       " 4,\n",
       " 4,\n",
       " 3,\n",
       " 6,\n",
       " 5,\n",
       " 7,\n",
       " 5,\n",
       " 5,\n",
       " 2,\n",
       " 7,\n",
       " 4,\n",
       " 5,\n",
       " 4,\n",
       " 2,\n",
       " 5,\n",
       " 6,\n",
       " 7,\n",
       " 6,\n",
       " 4,\n",
       " 1,\n",
       " 7,\n",
       " 1,\n",
       " 5,\n",
       " 7,\n",
       " 7,\n",
       " 1,\n",
       " 1,\n",
       " 1,\n",
       " 4,\n",
       " 1,\n",
       " 1,\n",
       " 4,\n",
       " 3,\n",
       " 1,\n",
       " 3,\n",
       " 6,\n",
       " 5,\n",
       " 4,\n",
       " 6,\n",
       " 5,\n",
       " 3,\n",
       " 7,\n",
       " 6,\n",
       " 7,\n",
       " 2,\n",
       " 2,\n",
       " 1,\n",
       " 6,\n",
       " 2,\n",
       " 2,\n",
       " 6,\n",
       " 6,\n",
       " 7,\n",
       " 4,\n",
       " 2,\n",
       " 1,\n",
       " 6,\n",
       " 7,\n",
       " 7,\n",
       " 6,\n",
       " 4,\n",
       " 6,\n",
       " 7,\n",
       " 4,\n",
       " 7,\n",
       " 7,\n",
       " 1,\n",
       " 4,\n",
       " 6,\n",
       " 6,\n",
       " 6,\n",
       " 7,\n",
       " 5,\n",
       " 5,\n",
       " 4,\n",
       " 4,\n",
       " 3,\n",
       " 3,\n",
       " 7,\n",
       " 3,\n",
       " 1,\n",
       " 5,\n",
       " 4,\n",
       " 7,\n",
       " 7,\n",
       " 4,\n",
       " 1,\n",
       " 6,\n",
       " 3,\n",
       " 7,\n",
       " 7,\n",
       " 5,\n",
       " 6,\n",
       " 3,\n",
       " 3,\n",
       " 6,\n",
       " 1,\n",
       " 1,\n",
       " 1,\n",
       " 3,\n",
       " 7,\n",
       " 4,\n",
       " 6,\n",
       " 1,\n",
       " 5,\n",
       " 3,\n",
       " 4,\n",
       " 1,\n",
       " 3,\n",
       " 1,\n",
       " 4,\n",
       " 1,\n",
       " 3,\n",
       " 3,\n",
       " 3,\n",
       " 1,\n",
       " 2,\n",
       " 2,\n",
       " 4,\n",
       " 7,\n",
       " 7,\n",
       " 3,\n",
       " 1,\n",
       " 4,\n",
       " 7,\n",
       " 3,\n",
       " 1,\n",
       " 4,\n",
       " 7,\n",
       " 3,\n",
       " 3,\n",
       " 3,\n",
       " 6,\n",
       " 2,\n",
       " 4,\n",
       " 5,\n",
       " 5,\n",
       " 2,\n",
       " 6,\n",
       " 1,\n",
       " 6,\n",
       " 1,\n",
       " 3,\n",
       " 1,\n",
       " 2,\n",
       " 1,\n",
       " 7,\n",
       " 4,\n",
       " 2,\n",
       " 3,\n",
       " 4,\n",
       " 2,\n",
       " 3,\n",
       " 3,\n",
       " 7,\n",
       " 4,\n",
       " 5,\n",
       " 4,\n",
       " 7,\n",
       " 1,\n",
       " 7,\n",
       " 6,\n",
       " 5,\n",
       " 3,\n",
       " 4,\n",
       " 1,\n",
       " 3,\n",
       " 2,\n",
       " 6,\n",
       " 6,\n",
       " 3,\n",
       " 1,\n",
       " 3,\n",
       " 1,\n",
       " 1,\n",
       " 4,\n",
       " 7,\n",
       " 5,\n",
       " 7,\n",
       " 3,\n",
       " 5,\n",
       " 3,\n",
       " 1,\n",
       " 4,\n",
       " 5,\n",
       " 6,\n",
       " 5,\n",
       " 4,\n",
       " 2,\n",
       " 3,\n",
       " 6,\n",
       " 5,\n",
       " 2,\n",
       " 6,\n",
       " 1,\n",
       " 2,\n",
       " 7,\n",
       " 3,\n",
       " 3,\n",
       " 1,\n",
       " 6,\n",
       " 2,\n",
       " 4,\n",
       " 5,\n",
       " 4,\n",
       " 6,\n",
       " 5,\n",
       " 4,\n",
       " 7,\n",
       " 2,\n",
       " 2,\n",
       " 5,\n",
       " 1,\n",
       " 5,\n",
       " 6,\n",
       " 2,\n",
       " 2,\n",
       " 5,\n",
       " 7,\n",
       " 6,\n",
       " 1,\n",
       " 4,\n",
       " 2,\n",
       " 1,\n",
       " 1,\n",
       " 2,\n",
       " 6,\n",
       " 3,\n",
       " 5,\n",
       " 4,\n",
       " 7,\n",
       " 5,\n",
       " 5,\n",
       " 4,\n",
       " 6,\n",
       " 6,\n",
       " 6,\n",
       " 4,\n",
       " 6,\n",
       " 5,\n",
       " 2,\n",
       " 6,\n",
       " 7,\n",
       " 2]"
      ]
     },
     "execution_count": 7,
     "metadata": {},
     "output_type": "execute_result"
    }
   ],
   "source": [
    "x=[]\n",
    "for i in range(1000):\n",
    "    x.append(np.random.randint(1,8))\n",
    "x"
   ]
  },
  {
   "cell_type": "code",
   "execution_count": 8,
   "id": "9ba6dfe9",
   "metadata": {
    "id": "9ba6dfe9",
    "outputId": "af2e137d-8abe-422a-ef48-802fa162a614"
   },
   "outputs": [
    {
     "data": {
      "text/plain": [
       "0.442"
      ]
     },
     "execution_count": 8,
     "metadata": {},
     "output_type": "execute_result"
    }
   ],
   "source": [
    "n=0\n",
    "for i in range(len(x)):\n",
    "    if x[i]%2==0:\n",
    "        n=n+1\n",
    "n/len(x)"
   ]
  },
  {
   "cell_type": "code",
   "execution_count": 9,
   "id": "13f496cf",
   "metadata": {
    "id": "13f496cf",
    "outputId": "521ef68f-4ede-4d0f-fd58-e937bf220f82"
   },
   "outputs": [
    {
     "data": {
      "text/plain": [
       "0.42857142857142855"
      ]
     },
     "execution_count": 9,
     "metadata": {},
     "output_type": "execute_result"
    }
   ],
   "source": [
    "3/7"
   ]
  },
  {
   "cell_type": "markdown",
   "id": "8c1619c4",
   "metadata": {
    "id": "8c1619c4"
   },
   "source": [
    "Ej: Una chica tiene una blusa roja, blanca y una negra, una falda negra y otra blanca y zapatos negros y azules. Si la vestimenta de la chica se considera un evento aleatorio ¿cuál es la probabilidad de que no este completamente de negro?"
   ]
  },
  {
   "cell_type": "markdown",
   "id": "8b31b660",
   "metadata": {
    "id": "8b31b660"
   },
   "source": [
    "Aquí utilizamos otra propiedad importante\n",
    "\n",
    "$$P(E)=1-P(E^c)$$"
   ]
  },
  {
   "cell_type": "markdown",
   "id": "cb036080",
   "metadata": {
    "id": "cb036080"
   },
   "source": [
    "La probabilidad de que este de negro es\n",
    "\n",
    "$$P(E^c)=\\frac{1*1*1}{3*2*2}=\\frac{1}{12}$$"
   ]
  },
  {
   "cell_type": "markdown",
   "id": "5c65bb76",
   "metadata": {
    "id": "5c65bb76"
   },
   "source": [
    "Entonces la probabilidad de que no este completamente de negro es\n",
    "\n",
    "$$P(E)=1-\\frac{1}{12}=\\frac{11}{12}\\simeq 91.67%$$"
   ]
  },
  {
   "cell_type": "code",
   "execution_count": 10,
   "id": "894ddef0",
   "metadata": {
    "id": "894ddef0",
    "outputId": "3ec53566-c0f4-4122-b690-45bc3e066a01"
   },
   "outputs": [
    {
     "data": {
      "text/plain": [
       "0.9166666666666666"
      ]
     },
     "execution_count": 10,
     "metadata": {},
     "output_type": "execute_result"
    }
   ],
   "source": [
    "11/12"
   ]
  },
  {
   "cell_type": "markdown",
   "id": "0e22e348",
   "metadata": {
    "id": "0e22e348"
   },
   "source": [
    "def: Definimos el factorial como\n",
    "$$n!=\\prod_{i=1}^n i$$\n",
    "    \n",
    "    "
   ]
  },
  {
   "cell_type": "code",
   "execution_count": 11,
   "id": "4849242b",
   "metadata": {
    "id": "4849242b",
    "outputId": "42e80415-121f-4548-adeb-fc65e2663ce6"
   },
   "outputs": [
    {
     "data": {
      "text/plain": [
       "24"
      ]
     },
     "execution_count": 11,
     "metadata": {},
     "output_type": "execute_result"
    }
   ],
   "source": [
    "ma.factorial(4)"
   ]
  },
  {
   "cell_type": "code",
   "execution_count": 12,
   "id": "975d6cb0",
   "metadata": {
    "id": "975d6cb0",
    "outputId": "01797013-4034-4ce5-8c48-2ba4e07edd08"
   },
   "outputs": [
    {
     "name": "stdout",
     "output_type": "stream",
     "text": [
      "1\n",
      "1\n",
      "2\n",
      "6\n",
      "24\n",
      "120\n",
      "720\n",
      "5040\n",
      "40320\n",
      "362880\n"
     ]
    }
   ],
   "source": [
    "for i in range(10):\n",
    "    print(ma.factorial(i))"
   ]
  },
  {
   "cell_type": "markdown",
   "id": "ffb5309e",
   "metadata": {
    "id": "ffb5309e"
   },
   "source": [
    "Si tenemos un grupo de eventos independientes para escoger entre $n$ posibilidades y lo repetimos $k$ veces, tenemos entonces\n",
    "\n",
    "$$n^k \\text{posibilidades}$$"
   ]
  },
  {
   "cell_type": "markdown",
   "id": "e7c17095",
   "metadata": {
    "id": "e7c17095"
   },
   "source": [
    "Tarea: ¿Cuál es la probabilidad de obtener una dormida en cacho?"
   ]
  },
  {
   "cell_type": "markdown",
   "id": "cc503e0a",
   "metadata": {
    "id": "cc503e0a"
   },
   "source": [
    "Los casos posibles son $6^5$\n",
    "\n",
    "Y los casos favorables por propiedad aditiva son $6$, es decir que nuestra probabilidad es de\n",
    "\n",
    "$$P(E)=\\frac{6}{6^5}=\\frac{1}{6^4}\\simeq 0.077$$"
   ]
  },
  {
   "cell_type": "code",
   "execution_count": 13,
   "id": "2e5f8516",
   "metadata": {
    "id": "2e5f8516",
    "outputId": "56ae04c9-cbac-4434-e4bc-88cb70ae1051"
   },
   "outputs": [
    {
     "data": {
      "text/plain": [
       "(1296, 0.0007716049382716049)"
      ]
     },
     "execution_count": 13,
     "metadata": {},
     "output_type": "execute_result"
    }
   ],
   "source": [
    "6**4, 1/6**4"
   ]
  },
  {
   "cell_type": "markdown",
   "id": "e7875773",
   "metadata": {
    "id": "e7875773"
   },
   "source": [
    "Si tenemos $n$ objetos diferentes y debemos extraer de ellos $k$. ¿De cuantas maneras diferentes podemos hacerlo si el orden nos importa?  "
   ]
  },
  {
   "cell_type": "markdown",
   "id": "8734155e",
   "metadata": {
    "id": "8734155e"
   },
   "source": [
    "Para el primer objeto tenemos $n$ posibilidades\n",
    "\n",
    "Para el segundo tenemos $n-1$ posibilidades\n",
    "\n",
    "Para el tercero tenemos $n-2$ posibilidades\n",
    "\n",
    "De esta manera para el $k$-esimo tenemos $n-(k-1)$ posibilidades"
   ]
  },
  {
   "cell_type": "markdown",
   "id": "e1fde2cf",
   "metadata": {
    "id": "e1fde2cf"
   },
   "source": [
    "Por propiedad multiplicativa\n",
    "\n",
    "$$P=\\prod_{i=0}^{k-1} (n-i)$$"
   ]
  },
  {
   "cell_type": "markdown",
   "id": "dfddee44",
   "metadata": {
    "id": "dfddee44"
   },
   "source": [
    "Esto podemos expresar por medio de factoriales como\n",
    "\n",
    "$$P=\\frac{n!}{(n-k)!}$$"
   ]
  },
  {
   "cell_type": "markdown",
   "id": "f7a30425",
   "metadata": {
    "id": "f7a30425"
   },
   "source": [
    "A este conteo se denomina permutación."
   ]
  },
  {
   "cell_type": "markdown",
   "id": "9e836c89",
   "metadata": {
    "id": "9e836c89"
   },
   "source": [
    "Ej: De cuantas formas podemos escojer un comite (presidente, vicepresidente y tesorero) del curso (23 personas)?"
   ]
  },
  {
   "cell_type": "markdown",
   "id": "4310350f",
   "metadata": {
    "id": "4310350f"
   },
   "source": [
    "En este caso tenemos una permutacion de 20 con 3\n",
    "\n",
    "$$P_{23}^3=\\frac{23!}{(23-3)!}$$"
   ]
  },
  {
   "cell_type": "code",
   "execution_count": 14,
   "id": "ce880c9a",
   "metadata": {
    "id": "ce880c9a",
    "outputId": "8c0b21f1-cbc8-4a1c-ff2a-27c56c95e944"
   },
   "outputs": [
    {
     "data": {
      "text/plain": [
       "10626"
      ]
     },
     "execution_count": 14,
     "metadata": {},
     "output_type": "execute_result"
    }
   ],
   "source": [
    "23*22*21"
   ]
  },
  {
   "cell_type": "code",
   "execution_count": 15,
   "id": "f4272aab",
   "metadata": {
    "id": "f4272aab",
    "outputId": "4f79c3b5-303e-4f5d-dd61-3152b675c4e1"
   },
   "outputs": [
    {
     "data": {
      "text/plain": [
       "10626.0"
      ]
     },
     "execution_count": 15,
     "metadata": {},
     "output_type": "execute_result"
    }
   ],
   "source": [
    "ma.factorial(23)/ma.factorial(20)"
   ]
  },
  {
   "cell_type": "code",
   "execution_count": 16,
   "id": "d986526f",
   "metadata": {
    "id": "d986526f",
    "outputId": "f1c80d3e-8df1-4c45-8365-b2a6297bf439"
   },
   "outputs": [
    {
     "data": {
      "text/plain": [
       "10626"
      ]
     },
     "execution_count": 16,
     "metadata": {},
     "output_type": "execute_result"
    }
   ],
   "source": [
    "ma.perm(23,3)"
   ]
  },
  {
   "cell_type": "markdown",
   "id": "5f797365",
   "metadata": {
    "id": "5f797365"
   },
   "source": [
    "¿De cuantas maneras podemos extraer k objetos entre los n si el orden no nos importa?"
   ]
  },
  {
   "cell_type": "markdown",
   "id": "41669688",
   "metadata": {
    "id": "41669688"
   },
   "source": [
    "Primero podemos extraer $k$ objetos con orden y eso nos da $P_n^k$ posibilidades"
   ]
  },
  {
   "cell_type": "markdown",
   "id": "f1a7bcd0",
   "metadata": {
    "id": "f1a7bcd0"
   },
   "source": [
    "Entre ese grupo que hemos extraido vamos a tener $k!$ de posibilidades de acomodarlos"
   ]
  },
  {
   "cell_type": "markdown",
   "id": "2db79a11",
   "metadata": {
    "id": "2db79a11"
   },
   "source": [
    "Es decir que tenemos\n",
    "\n",
    "$$C_n^k=\\frac{P_n^k}{k!}=\\frac{n!}{(n-k)!k!}$$"
   ]
  },
  {
   "cell_type": "markdown",
   "id": "13e032fe",
   "metadata": {
    "id": "13e032fe"
   },
   "source": [
    "Ej: De cuantas maneras podemos extraer un comite de 4 personas en el curso sabiendo que somos 24\n",
    "    "
   ]
  },
  {
   "cell_type": "code",
   "execution_count": 17,
   "id": "febce48b",
   "metadata": {
    "id": "febce48b",
    "outputId": "a626b76a-b371-4db1-e80a-d8ef869f19fb"
   },
   "outputs": [
    {
     "data": {
      "text/plain": [
       "10626.0"
      ]
     },
     "execution_count": 17,
     "metadata": {},
     "output_type": "execute_result"
    }
   ],
   "source": [
    "24*23*22*21/ma.factorial(4)"
   ]
  },
  {
   "cell_type": "code",
   "execution_count": 18,
   "id": "42360171",
   "metadata": {
    "id": "42360171",
    "outputId": "2edc17ef-d3f4-4fd7-f484-d4f27e56bbe6"
   },
   "outputs": [
    {
     "data": {
      "text/plain": [
       "10626.0"
      ]
     },
     "execution_count": 18,
     "metadata": {},
     "output_type": "execute_result"
    }
   ],
   "source": [
    "ma.factorial(24)/ma.factorial(20)/ma.factorial(4)"
   ]
  },
  {
   "cell_type": "code",
   "execution_count": 19,
   "id": "9aada486",
   "metadata": {
    "id": "9aada486",
    "outputId": "48031289-f498-4b0e-8538-04da63b3ee3e"
   },
   "outputs": [
    {
     "data": {
      "text/plain": [
       "10626"
      ]
     },
     "execution_count": 19,
     "metadata": {},
     "output_type": "execute_result"
    }
   ],
   "source": [
    "ma.comb(24,4)"
   ]
  },
  {
   "cell_type": "markdown",
   "id": "b9b623c9",
   "metadata": {
    "id": "b9b623c9"
   },
   "source": [
    "Ej: En el curso queremos saber cual es la probabilidad de que escogiendo presidente, vicepresidente y tesorero extraigamos a Ruddy dentro de los representantes. Cual es la probabilidad de que Ana este dentro de un comite de 5 personas que nos van a representar con otros cursos?"
   ]
  },
  {
   "cell_type": "markdown",
   "id": "fb6b52a8",
   "metadata": {
    "id": "fb6b52a8"
   },
   "source": [
    "1er caso: Escogemos a Ruddy como presidente y los otros 2 puestos al azar, luego a Ruddy como vicepresiente y los 2 puestos al azar y finalmente a Ruddy como tesorero y los otros 2 puestos al azar\n",
    "    \n",
    "Entonces nuestros casos favorables son\n",
    "\n",
    "$$|E|=3P_{23}^2$$"
   ]
  },
  {
   "cell_type": "markdown",
   "id": "13b9082d",
   "metadata": {
    "id": "13b9082d"
   },
   "source": [
    "Y los casos posibles son\n",
    "\n",
    "$$|\\Omega|=P_{24}^3$$"
   ]
  },
  {
   "cell_type": "markdown",
   "id": "ee99092c",
   "metadata": {
    "id": "ee99092c"
   },
   "source": [
    "Entonces la probabilidad es\n",
    "\n",
    "$$P(E)=\\frac{3P_{23}^2}{P_{24}^3}=0.125$$"
   ]
  },
  {
   "cell_type": "code",
   "execution_count": 20,
   "id": "0718ff74",
   "metadata": {
    "id": "0718ff74",
    "outputId": "b543c1c2-b7d9-4beb-a83f-a4b30af45346"
   },
   "outputs": [
    {
     "data": {
      "text/plain": [
       "0.125"
      ]
     },
     "execution_count": 20,
     "metadata": {},
     "output_type": "execute_result"
    }
   ],
   "source": [
    "3*ma.perm(23,2)/ma.perm(24,3)"
   ]
  },
  {
   "cell_type": "markdown",
   "id": "058a2591",
   "metadata": {
    "id": "058a2591"
   },
   "source": [
    "Tenemos 12.5%  de probabilidades de que Ruddy este dentro de los representantes"
   ]
  },
  {
   "cell_type": "markdown",
   "id": "9a874af9",
   "metadata": {
    "id": "9a874af9"
   },
   "source": [
    "Para que Ana este dentro del comite, la escogemos a ella y vamos a escoger sin importar el orden a las 4 personas que nos quedan de los 23.\n",
    "\n",
    "$$|E|=C_{23}^{4}$$\n",
    "\n",
    "y nuestros casos posibles son\n",
    "\n",
    "$$|\\Omega|=C_{24}^{5}$$"
   ]
  },
  {
   "cell_type": "markdown",
   "id": "b4825167",
   "metadata": {
    "id": "b4825167"
   },
   "source": [
    "Es decir que la probabilidad es de\n",
    "\n",
    "$$P(E)=\\frac{C_{23}^4}{C_{24}^5}\\simeq 0.2083$$"
   ]
  },
  {
   "cell_type": "code",
   "execution_count": 21,
   "id": "dfc447d5",
   "metadata": {
    "id": "dfc447d5",
    "outputId": "089fd816-6bc5-4fa6-f448-44d5b1b8fcfd"
   },
   "outputs": [
    {
     "data": {
      "text/plain": [
       "0.20833333333333334"
      ]
     },
     "execution_count": 21,
     "metadata": {},
     "output_type": "execute_result"
    }
   ],
   "source": [
    "ma.comb(23,4)/ma.comb(24,5)"
   ]
  },
  {
   "cell_type": "markdown",
   "id": "c615fe86",
   "metadata": {
    "id": "c615fe86"
   },
   "source": [
    "Tenemos entonces 20.83% de probabilidades de que Ana este dentro del mencionado comité"
   ]
  },
  {
   "cell_type": "markdown",
   "id": "73d94b28",
   "metadata": {
    "id": "73d94b28"
   },
   "source": [
    "#### Leyes de distribución de probabilidad  "
   ]
  },
  {
   "cell_type": "markdown",
   "id": "cce4862e",
   "metadata": {
    "id": "cce4862e"
   },
   "source": [
    "Existen 2 tipos de distribuciones, las distribuciones discretas y las distribuciones continuas"
   ]
  },
  {
   "cell_type": "markdown",
   "id": "f9bf996b",
   "metadata": {
    "id": "f9bf996b"
   },
   "source": [
    "* Distribucion uniforme discreta"
   ]
  },
  {
   "cell_type": "markdown",
   "id": "741b7f50",
   "metadata": {
    "id": "741b7f50"
   },
   "source": [
    "Tenemos $n$ objetos y cada uno de ellos va a tener la misma probabilidad de ser seleccionado, es decir que cada objeto tiene $1/n$ de probabilidad de ser seleccionado"
   ]
  },
  {
   "cell_type": "markdown",
   "id": "b4603d58",
   "metadata": {
    "id": "b4603d58"
   },
   "source": [
    "Rem: La suma de todos los casos posibles en las leyes de distribucion discretas debe ser forzosamente igual a 1"
   ]
  },
  {
   "cell_type": "markdown",
   "id": "846b1d24",
   "metadata": {
    "id": "846b1d24"
   },
   "source": [
    "$$P(X=x_i)=\\frac{1}{n}, i=1,...,n$$"
   ]
  },
  {
   "cell_type": "markdown",
   "id": "4f01fc1a",
   "metadata": {
    "id": "4f01fc1a"
   },
   "source": [
    "Ahora vamos a definir 2 objetos importantes que son utiles para representar a las leyes de probabilidad discretas\n",
    "\n",
    "def: Definimos la esperanza matematica de una distribución como\n",
    "\n",
    "$$E[X]=\\sum_{i=1}^n x_iP(X=x_i)=\\mu$$"
   ]
  },
  {
   "cell_type": "markdown",
   "id": "64aa881f",
   "metadata": {
    "id": "64aa881f"
   },
   "source": [
    "def: Definimos la varianza matemática de una distribución como\n",
    "    \n",
    "$$var(X)=\\sum_{i=1}^n(x_i-\\mu)^2P(X=x_i)$$"
   ]
  },
  {
   "cell_type": "markdown",
   "id": "b7d5ab22",
   "metadata": {
    "id": "b7d5ab22"
   },
   "source": [
    "En el caso de la distribucion uniforme\n",
    "\n",
    "$$E[X]=\\frac{1}{n}\\sum_{i=1}^nx_i=\\mu$$"
   ]
  },
  {
   "cell_type": "markdown",
   "id": "93b24787",
   "metadata": {
    "id": "93b24787"
   },
   "source": [
    "Y su varianza es\n",
    "\n",
    "$$var(X)=\\frac{1}{n}\\sum_{i=1}^n (x_i-\\mu)^2$$"
   ]
  },
  {
   "cell_type": "markdown",
   "id": "fadc3cb0",
   "metadata": {
    "id": "fadc3cb0"
   },
   "source": [
    "Ej: En el caso de un dado"
   ]
  },
  {
   "cell_type": "markdown",
   "id": "2b0c9981",
   "metadata": {
    "id": "2b0c9981"
   },
   "source": [
    "$$E[X]=\\frac{1}{6}\\sum_{i=1}^6 i=21/6=3.5$$"
   ]
  },
  {
   "cell_type": "code",
   "execution_count": 22,
   "id": "2653212a",
   "metadata": {
    "id": "2653212a",
    "outputId": "3c4f1587-9d39-4b21-c1b9-610db30a7d81"
   },
   "outputs": [
    {
     "data": {
      "text/plain": [
       "(21, 3.5)"
      ]
     },
     "execution_count": 22,
     "metadata": {},
     "output_type": "execute_result"
    }
   ],
   "source": [
    "1+2+3+4+5+6, 21/6"
   ]
  },
  {
   "cell_type": "code",
   "execution_count": 23,
   "id": "911dbd7f",
   "metadata": {
    "id": "911dbd7f",
    "outputId": "558de53d-1b1c-4a89-affa-1a34823d7342"
   },
   "outputs": [
    {
     "data": {
      "text/plain": [
       "np.float64(3.5)"
      ]
     },
     "execution_count": 23,
     "metadata": {},
     "output_type": "execute_result"
    }
   ],
   "source": [
    "x=np.array([1,2,3,4,5,6])\n",
    "mu=x.mean()\n",
    "mu"
   ]
  },
  {
   "cell_type": "code",
   "execution_count": 24,
   "id": "3e51ccb4",
   "metadata": {
    "id": "3e51ccb4",
    "outputId": "b9c39083-f66a-4bf9-9ef9-082078c67335"
   },
   "outputs": [
    {
     "data": {
      "text/plain": [
       "np.float64(2.9166666666666665)"
      ]
     },
     "execution_count": 24,
     "metadata": {},
     "output_type": "execute_result"
    }
   ],
   "source": [
    "np.sum((x-mu)**2)/6 # Varianza"
   ]
  },
  {
   "cell_type": "markdown",
   "id": "af420577",
   "metadata": {
    "id": "af420577"
   },
   "source": [
    "En el caso del dado tenemos una varianza de $var(X)=2.92$"
   ]
  },
  {
   "cell_type": "markdown",
   "id": "00ee1cee",
   "metadata": {
    "id": "00ee1cee"
   },
   "source": [
    "Si la variable aleatoria $X$ sigue una distribucion uniforme denotamos\n",
    "\n",
    "$$X\\rightarrow \\mathcal{U}_n$$"
   ]
  },
  {
   "cell_type": "markdown",
   "id": "835ddb0c",
   "metadata": {
    "id": "835ddb0c"
   },
   "source": [
    "#### Distribución de Bernoulli"
   ]
  },
  {
   "cell_type": "markdown",
   "id": "4981f84c",
   "metadata": {
    "id": "4981f84c"
   },
   "source": [
    "Es el caso donde tenemos un evento aleatorio en 2 posibilidades, donde el exito tendrá una probabilidad $p$ y el fracaso una probabilidad $1-p$"
   ]
  },
  {
   "cell_type": "markdown",
   "id": "0cf35c58",
   "metadata": {
    "id": "0cf35c58"
   },
   "source": [
    "Podemos escribir la probabilidad como\n",
    "\n",
    "$$P(X=x)=p^x(1-p)^{1-x}, x=0,1$$"
   ]
  },
  {
   "cell_type": "markdown",
   "id": "2d19e7dd",
   "metadata": {
    "id": "2d19e7dd"
   },
   "source": [
    "Su esperanza matematica es\n",
    "\n",
    "$$E[X]=p$$"
   ]
  },
  {
   "cell_type": "markdown",
   "id": "5e4da0ee",
   "metadata": {
    "id": "5e4da0ee"
   },
   "source": [
    "su varianza será\n",
    "\n",
    "$$var(X)=p(1-p)$$"
   ]
  },
  {
   "cell_type": "markdown",
   "id": "7602978e",
   "metadata": {
    "id": "7602978e"
   },
   "source": [
    "Si la variable aleatoria $X$ sigue una distribucion de Bernoulli denotamos\n",
    "$$X\\rightarrow \\mathcal{B}(p)$$"
   ]
  },
  {
   "cell_type": "markdown",
   "id": "dc927bcc",
   "metadata": {
    "id": "dc927bcc"
   },
   "source": [
    "#### Distribucion binomial"
   ]
  },
  {
   "cell_type": "markdown",
   "id": "d8933496",
   "metadata": {
    "id": "d8933496"
   },
   "source": [
    "La distribución binomial es la distribución donde tenemos $n$ ensayos de Bernoulli y contamos el numero de exitos\n",
    "\n"
   ]
  },
  {
   "cell_type": "markdown",
   "id": "70ef1fd4",
   "metadata": {
    "id": "70ef1fd4"
   },
   "source": [
    "$$P(X=k)=C_n^kp^k(1-p)^{n-k}$$"
   ]
  },
  {
   "cell_type": "markdown",
   "id": "56c62824",
   "metadata": {
    "id": "56c62824"
   },
   "source": [
    "Y su esperanza matematica es\n",
    "\n",
    "$$E[X]=np$$"
   ]
  },
  {
   "cell_type": "markdown",
   "id": "a153b04f",
   "metadata": {
    "id": "a153b04f"
   },
   "source": [
    "Y su varianza es\n",
    "\n",
    "$$var(X)=np(1-p)$$"
   ]
  },
  {
   "cell_type": "markdown",
   "id": "89f4cf83",
   "metadata": {
    "id": "89f4cf83"
   },
   "source": [
    "Ej: En una tienda se estima que se venden a 1 persona de 4 personas que entran en la tienda. Si hoy entraron en la tienda 50 personas, cual es la probabilidad de que se hayan vendido entre 15 y 25 productos, menos de 10, o mas de 15. Adicionalmente calcular cuantos productos se esperaría vender?.Se considera que se vende un solo producto por venta"
   ]
  },
  {
   "cell_type": "code",
   "execution_count": 63,
   "id": "8bf1d301",
   "metadata": {
    "id": "8bf1d301"
   },
   "outputs": [],
   "source": [
    "import scipy.stats as st"
   ]
  },
  {
   "cell_type": "code",
   "execution_count": 64,
   "id": "4613273c",
   "metadata": {
    "id": "4613273c",
    "outputId": "33ae7f9e-6ac6-4769-f248-dc6e8d7758b0"
   },
   "outputs": [
    {
     "data": {
      "text/plain": [
       "np.float64(0.0016101713268533721)"
      ]
     },
     "execution_count": 64,
     "metadata": {},
     "output_type": "execute_result"
    }
   ],
   "source": [
    "n=4 # cantidad de personas compren\n",
    "poblacion=50 # la cantidad de poblacion\n",
    "probabilida=1/4 # el el 0.25\n",
    "st.binom.pmf(n,poblacion,probabilida)\n",
    "# pmf es probability ms funcion, osea la probabilidad de un punto, probabilidad puntual\n",
    "# Esto nos esta calculando la probabilidad de vender exactamente 4 productos en las 50 visitas con probabilidad de 1/4"
   ]
  },
  {
   "cell_type": "code",
   "execution_count": 65,
   "id": "0ce8bea8",
   "metadata": {
    "id": "0ce8bea8",
    "outputId": "2fc4e167-ab04-46d2-c2c2-96cad5aeb143"
   },
   "outputs": [
    {
     "data": {
      "text/plain": [
       "np.float64(0.9999619784950493)"
      ]
     },
     "execution_count": 65,
     "metadata": {},
     "output_type": "execute_result"
    }
   ],
   "source": [
    "hasta=25 # que 25 personad compren\n",
    "pob=50\n",
    "prob=1/4\n",
    "st.binom.cdf(hasta,pob,prob)\n",
    "# cdf es la distribucion acumulada ya no es punual\n",
    "# Probabilidad de que se vendan hasta 25 productos en las 50 visitas y con la probabilidad de 1/4, de 0 a 25 productos"
   ]
  },
  {
   "cell_type": "code",
   "execution_count": 66,
   "id": "5de22a5d",
   "metadata": {
    "id": "5de22a5d",
    "outputId": "864d6e15-df30-4988-a575-37fd99d74557"
   },
   "outputs": [
    {
     "data": {
      "text/plain": [
       "np.float64(0.2518808339722892)"
      ]
     },
     "execution_count": 66,
     "metadata": {},
     "output_type": "execute_result"
    }
   ],
   "source": [
    "# para saber entre 15 y 25 es , si mido con 15 realemnte debo poner 14 porqiue al poner 14 cuenta para arriba\n",
    "nmayor=25\n",
    "nmenor=15\n",
    "pob=50\n",
    "prob=1/4\n",
    "st.binom.cdf(nmayor,pob,prob)-st.binom.cdf(nmenor-1,pob,prob)\n",
    "# Probabilidad de vender entre 15 y 25 productos. Ponemos la probabilidad de vender hasta 25 y le quitamos la probabilidad de\n",
    "# vender hasta 14 productos"
   ]
  },
  {
   "cell_type": "code",
   "execution_count": 67,
   "id": "aae5bf07",
   "metadata": {
    "id": "aae5bf07",
    "outputId": "f3ff42ac-8219-4f4a-a1bd-7e1258f9d729"
   },
   "outputs": [
    {
     "data": {
      "text/plain": [
       "np.float64(0.16368390025009155)"
      ]
     },
     "execution_count": 67,
     "metadata": {},
     "output_type": "execute_result"
    }
   ],
   "source": [
    "menosde=10\n",
    "pon=50\n",
    "prob=1/4\n",
    "st.binom.cdf(menosde-1,pob,prob)\n",
    "# probabilidad de vender menos de 10 productos que es equivalente a la probabilidad de vender hasta 9 productos"
   ]
  },
  {
   "cell_type": "code",
   "execution_count": null,
   "id": "9cfd4bcd",
   "metadata": {
    "id": "9cfd4bcd",
    "outputId": "882c16dd-7c18-4ea2-fb5b-741c618c33e8"
   },
   "outputs": [
    {
     "data": {
      "text/plain": [
       "np.float64(0.16308327146260382)"
      ]
     },
     "execution_count": 30,
     "metadata": {},
     "output_type": "execute_result"
    }
   ],
   "source": [
    "1-st.binom.cdf(15,50,1/4)\n",
    "# aca como es mas de 15 esta bien usar 15\n",
    "# Probabilidad de vender mas de 15 productos. Le quitamos la probabilidad de vender hasta 15 productos"
   ]
  },
  {
   "cell_type": "code",
   "execution_count": 31,
   "id": "132cc19b",
   "metadata": {
    "id": "132cc19b",
    "outputId": "359a2c96-0b08-419c-c746-a207710175e3"
   },
   "outputs": [
    {
     "data": {
      "text/plain": [
       "12.5"
      ]
     },
     "execution_count": 31,
     "metadata": {},
     "output_type": "execute_result"
    }
   ],
   "source": [
    "E=50*1/4\n",
    "E\n",
    "# Según la esperanza de la distribución se puede esperar vender np=50*1/4 cantidad de productos"
   ]
  },
  {
   "cell_type": "markdown",
   "id": "d1f3f04f",
   "metadata": {
    "id": "d1f3f04f"
   },
   "source": [
    "La proabilidad de vender entre 15 y 25 productos es de 25.19%, de vender menos de 10 productos es de 16.37%, de vender más de 15 productos es de 16.31% y la cantidad de productos que se espera vender es de 12.5 (12 o 13 productos)"
   ]
  },
  {
   "cell_type": "markdown",
   "id": "96983ce7",
   "metadata": {
    "id": "96983ce7"
   },
   "source": [
    "Si una variable aleatoria sigue una distribución binomial de parametros $n, p$ denotamos\n",
    "$$X\\rightarrow \\mathcal{B}(n,p)$$"
   ]
  },
  {
   "cell_type": "code",
   "execution_count": null,
   "id": "um-vmrJp05X_",
   "metadata": {
    "id": "um-vmrJp05X_"
   },
   "outputs": [],
   "source": []
  },
  {
   "cell_type": "markdown",
   "id": "0882e544",
   "metadata": {
    "id": "0882e544"
   },
   "source": [
    "#### Distribución Geométrica"
   ]
  },
  {
   "cell_type": "code",
   "execution_count": 68,
   "id": "e86749e1",
   "metadata": {},
   "outputs": [],
   "source": [
    "# Contar el numero de fracasos antes del primer éxito"
   ]
  },
  {
   "cell_type": "markdown",
   "id": "ddde493f",
   "metadata": {
    "id": "ddde493f"
   },
   "source": [
    "En la distribución geométrica vamos a tener un número infinito de ensayos de Bernoulli hasta que tengamos un fracaso. En este caso la variable aleatoria $X$ puede tomar el valor de todos los números naturales"
   ]
  },
  {
   "cell_type": "markdown",
   "id": "f42d77c8",
   "metadata": {
    "id": "f42d77c8"
   },
   "source": [
    "Ej: $$(EFFFFE...)\\rightarrow X=0$$\n",
    "$$(FFFFEEFFF...)\\rightarrow X=4$$    \n",
    "    "
   ]
  },
  {
   "cell_type": "markdown",
   "id": "c9474738",
   "metadata": {
    "id": "c9474738"
   },
   "source": [
    "Esto podemos modelizar por\n",
    "\n",
    "$$P(X=x)=p(1-p)^x,x=0,1,... $$"
   ]
  },
  {
   "cell_type": "markdown",
   "id": "53a686d0",
   "metadata": {
    "id": "53a686d0"
   },
   "source": [
    "Y tenemos en este caso la esperanza y la varianza siguientes\n",
    "\n",
    "$$E[X]=\\frac{1-p}{p}$$"
   ]
  },
  {
   "cell_type": "markdown",
   "id": "2db7c343",
   "metadata": {
    "id": "2db7c343"
   },
   "source": [
    "$$var(X)=\\frac{1-p}{p^2}$$"
   ]
  },
  {
   "cell_type": "markdown",
   "id": "c361c6e4",
   "metadata": {
    "id": "c361c6e4"
   },
   "source": [
    "Ej: Si nuestro record de aciertos en tiro al arco (alcanzar la Diana) es de 15%, ¿cuál es la probabilidad de que acertemos en el 3er intento?, ¿Entre el 5to y el 8vo?, ¿despues de 4to intento?, ¿antes del 5to intento?. Al cabo de cuantos intentos podría esperar acertar"
   ]
  },
  {
   "cell_type": "code",
   "execution_count": 70,
   "id": "8bd07e7c",
   "metadata": {
    "id": "8bd07e7c",
    "outputId": "4b2a07b6-4f46-4829-dd2d-58074470da89"
   },
   "outputs": [
    {
     "data": {
      "text/plain": [
       "np.float64(0.1275)"
      ]
     },
     "execution_count": 70,
     "metadata": {},
     "output_type": "execute_result"
    }
   ],
   "source": [
    "exito_tiro_al_arco=0.15\n",
    "numero_de_intento=3\n",
    "st.geom.pmf(numero_de_intento-1,exito_tiro_al_arco) # Acertar al 3 intento quiere decir que hemos fracasado 2 veces"
   ]
  },
  {
   "cell_type": "code",
   "execution_count": 71,
   "id": "ba01349d",
   "metadata": {
    "id": "ba01349d",
    "outputId": "5723f148-3c45-4200-bb93-60291dfbf090"
   },
   "outputs": [
    {
     "data": {
      "text/plain": [
       "np.float64(0.20142916171875008)"
      ]
     },
     "execution_count": 71,
     "metadata": {},
     "output_type": "execute_result"
    }
   ],
   "source": [
    "octavo_intento=8\n",
    "quinto_intento=5\n",
    "st.geom.cdf(octavo_intento-1,exito_tiro_al_arco)-st.geom.cdf(quinto_intento-1,exito_tiro_al_arco) # Acertar entre el 5to y el 8vo intento"
   ]
  },
  {
   "cell_type": "code",
   "execution_count": 72,
   "id": "03f0e999",
   "metadata": {
    "id": "03f0e999",
    "outputId": "56c91ed4-fd2f-49b3-dfb1-5812835c77c7"
   },
   "outputs": [
    {
     "data": {
      "text/plain": [
       "np.float64(0.52200625)"
      ]
     },
     "execution_count": 72,
     "metadata": {},
     "output_type": "execute_result"
    }
   ],
   "source": [
    "quinto_intento=5\n",
    "1-st.geom.cdf(quinto_intento-1,exito_tiro_al_arco) # Acertar despues del 5to intento"
   ]
  },
  {
   "cell_type": "code",
   "execution_count": 35,
   "id": "3ea49eee",
   "metadata": {
    "id": "3ea49eee",
    "outputId": "c6a7d0e0-d1fe-4343-9341-3337de8ccc18"
   },
   "outputs": [
    {
     "data": {
      "text/plain": [
       "np.float64(0.47799374999999994)"
      ]
     },
     "execution_count": 35,
     "metadata": {},
     "output_type": "execute_result"
    }
   ],
   "source": [
    "st.geom.cdf(4,0.15)"
   ]
  },
  {
   "cell_type": "code",
   "execution_count": 36,
   "id": "0aee4cc3",
   "metadata": {
    "id": "0aee4cc3",
    "outputId": "b258ca1b-f1bb-44a5-f185-264c228ccfe3"
   },
   "outputs": [
    {
     "data": {
      "text/plain": [
       "5.666666666666667"
      ]
     },
     "execution_count": 36,
     "metadata": {},
     "output_type": "execute_result"
    }
   ],
   "source": [
    "E=(1-0.15)/0.15\n",
    "E # La esperanza de nuestra distribución que es equivalente al número de repetición en la que esperamos acertar"
   ]
  },
  {
   "cell_type": "markdown",
   "id": "dbaf9103",
   "metadata": {
    "id": "dbaf9103"
   },
   "source": [
    "Si una variable aleatoria $X$ sigue una distribución geométrica de parámetro $p$ denotamos\n",
    "\n",
    "$$X\\rightarrow \\mathcal{G}(p)$$"
   ]
  },
  {
   "cell_type": "markdown",
   "id": "46200c37",
   "metadata": {
    "id": "46200c37"
   },
   "source": [
    "#### Distribución de Poisson"
   ]
  },
  {
   "cell_type": "markdown",
   "id": "cddd9ebd",
   "metadata": {
    "id": "cddd9ebd"
   },
   "source": [
    "La distribución de Poisson modela el número de ocurrencias en un intervalo de tiempo dado.\n"
   ]
  },
  {
   "cell_type": "markdown",
   "id": "a2b08d40",
   "metadata": {
    "id": "a2b08d40"
   },
   "source": [
    "$$P(X=x)=\\frac{e^{-\\lambda}\\lambda^x}{x!}, x=0,1,2,...$$"
   ]
  },
  {
   "cell_type": "markdown",
   "id": "df333be7",
   "metadata": {
    "id": "df333be7"
   },
   "source": [
    "donde $\\lambda$ es la tasa de ocurrencia media"
   ]
  },
  {
   "cell_type": "markdown",
   "id": "d9b91008",
   "metadata": {
    "id": "d9b91008"
   },
   "source": [
    "Su esperanza y su varianza son\n",
    "\n",
    "$$E[X]=\\lambda$$\n",
    "\n",
    "$$var(X)=\\lambda$$"
   ]
  },
  {
   "cell_type": "markdown",
   "id": "77a6c385",
   "metadata": {
    "id": "77a6c385"
   },
   "source": [
    "Ej: En una peluquería se recibe en promedio 3 clientes por hora, ¿Cuál es la probabilidad de que recibamos 2 clientes en la próxima hora?, ¿que recibamos 2 la próxima media hora?, ¿Entre 3 y 5 en las próximas 2 horas?, ¿al menos 1 cliente en los próximos 15 min?, ¿más de 4 clientes en la próxima hora?"
   ]
  },
  {
   "cell_type": "code",
   "execution_count": 73,
   "id": "a7fd7312",
   "metadata": {
    "id": "a7fd7312",
    "outputId": "42f30ed5-4985-4561-fe63-ae0c8bb734ff"
   },
   "outputs": [
    {
     "data": {
      "text/plain": [
       "np.float64(0.22404180765538775)"
      ]
     },
     "execution_count": 73,
     "metadata": {},
     "output_type": "execute_result"
    }
   ],
   "source": [
    "clientes_por_hora=3\n",
    "\n",
    "st.poisson.pmf(2,clientes_por_hora) # Probabilidad de recibir 2 clientes la próxima hora"
   ]
  },
  {
   "cell_type": "markdown",
   "id": "b9f35bd6",
   "metadata": {
    "id": "b9f35bd6"
   },
   "source": [
    "Hay que adaptar el $\\lambda$ si recibimos 3 clientes en una hora esperamos recibir 1.5 cliente en la media hora."
   ]
  },
  {
   "cell_type": "code",
   "execution_count": 74,
   "id": "0009421d",
   "metadata": {
    "id": "0009421d",
    "outputId": "63b1f5b5-58e9-4cca-8814-4c607442596d"
   },
   "outputs": [
    {
     "data": {
      "text/plain": [
       "np.float64(0.25102143016698353)"
      ]
     },
     "execution_count": 74,
     "metadata": {},
     "output_type": "execute_result"
    }
   ],
   "source": [
    "clientes_por_hora=3\n",
    "st.poisson.pmf(2,clientes_por_hora/2) # Probabilidad de recibir 2 clientes la próxima 1/2 hora"
   ]
  },
  {
   "cell_type": "markdown",
   "id": "6dd6b4a1",
   "metadata": {
    "id": "6dd6b4a1"
   },
   "source": [
    "Para el siguiente caso esperamos recibir 6 clientes en las próximas 2h. Adaptando el $\\lambda$"
   ]
  },
  {
   "cell_type": "code",
   "execution_count": 78,
   "id": "a004ce8a",
   "metadata": {
    "id": "a004ce8a",
    "outputId": "341f7f91-b1b1-4696-b06b-d1816f321fd2"
   },
   "outputs": [
    {
     "data": {
      "text/plain": [
       "np.float64(0.383710836947952)"
      ]
     },
     "execution_count": 78,
     "metadata": {},
     "output_type": "execute_result"
    }
   ],
   "source": [
    "clientes_por_hora=3\n",
    "horas=2\n",
    "st.poisson.cdf(5,clientes_por_hora*horas)-st.poisson.cdf(2,clientes_por_hora*horas) #Probabilidad de recibir entre 3 y 5 clientes en las próximas 2h"
   ]
  },
  {
   "cell_type": "code",
   "execution_count": 79,
   "id": "bd1084bd",
   "metadata": {
    "id": "bd1084bd",
    "outputId": "1f5e3f48-b24b-4f66-9327-790dcb233527"
   },
   "outputs": [
    {
     "data": {
      "text/plain": [
       "np.float64(0.38371083694795216)"
      ]
     },
     "execution_count": 79,
     "metadata": {},
     "output_type": "execute_result"
    }
   ],
   "source": [
    "clientes_por_hora=3\n",
    "horas=2\n",
    "st.poisson.pmf(3,clientes_por_hora*horas)+st.poisson.pmf(4,clientes_por_hora*horas)+st.poisson.pmf(5,clientes_por_hora*horas)"
   ]
  },
  {
   "cell_type": "markdown",
   "id": "7fcbd268",
   "metadata": {
    "id": "7fcbd268"
   },
   "source": [
    "Otra vez adaptando el $\\lambda$ esperamos recibir 0.75 clientes por cada 15 min"
   ]
  },
  {
   "cell_type": "code",
   "execution_count": 41,
   "id": "d3ad71ba",
   "metadata": {
    "id": "d3ad71ba",
    "outputId": "7e3b0c4e-43a1-4e0a-a1a4-ac0e9af8815e"
   },
   "outputs": [
    {
     "data": {
      "text/plain": [
       "np.float64(0.5276334472589853)"
      ]
     },
     "execution_count": 41,
     "metadata": {},
     "output_type": "execute_result"
    }
   ],
   "source": [
    "1-st.poisson.pmf(0,0.75) # 1-Probabilidad de no tener clientes durante el periodo= al menos un cliente en el periodo"
   ]
  },
  {
   "cell_type": "code",
   "execution_count": 42,
   "id": "8286716b",
   "metadata": {
    "id": "8286716b",
    "outputId": "fb1a843f-da35-4ced-a76e-d322e66fd655"
   },
   "outputs": [
    {
     "data": {
      "text/plain": [
       "np.float64(0.5276334472589851)"
      ]
     },
     "execution_count": 42,
     "metadata": {},
     "output_type": "execute_result"
    }
   ],
   "source": [
    "1-st.poisson.cdf(0,0.75)"
   ]
  },
  {
   "cell_type": "code",
   "execution_count": 43,
   "id": "16d7d651",
   "metadata": {
    "id": "16d7d651",
    "outputId": "32024198-ffe1-48b4-eb96-3c4a0962ba82"
   },
   "outputs": [
    {
     "data": {
      "text/plain": [
       "np.float64(0.1847367554762278)"
      ]
     },
     "execution_count": 43,
     "metadata": {},
     "output_type": "execute_result"
    }
   ],
   "source": [
    "1-st.poisson.cdf(4,3) # Probabilidad de tener más de 4 clientes en la hora"
   ]
  },
  {
   "cell_type": "code",
   "execution_count": 80,
   "id": "b8796986",
   "metadata": {
    "id": "b8796986",
    "outputId": "8366a327-aa27-4e6f-874e-48f46a5ed84c"
   },
   "outputs": [
    {
     "name": "stdout",
     "output_type": "stream",
     "text": [
      "0.049787068367863944\n",
      "0.14936120510359185\n",
      "0.22404180765538775\n",
      "0.22404180765538775\n",
      "0.16803135574154085\n",
      "0.10081881344492458\n",
      "0.05040940672246224\n",
      "0.02160403145248382\n",
      "0.008101511794681432\n",
      "0.002700503931560479\n"
     ]
    }
   ],
   "source": [
    "clientes_por_hora=3\n",
    "for i in range(10):\n",
    "    print(st.poisson.pmf(i,clientes_por_hora))"
   ]
  },
  {
   "cell_type": "code",
   "execution_count": 81,
   "id": "38d27d5a",
   "metadata": {
    "id": "38d27d5a",
    "outputId": "3ce702f3-42a7-4405-8355-83397d7b90da"
   },
   "outputs": [
    {
     "name": "stdout",
     "output_type": "stream",
     "text": [
      "0.04978706836786395\n",
      "0.1991482734714558\n",
      "0.42319008112684364\n",
      "0.6472318887822313\n",
      "0.8152632445237722\n",
      "0.9160820579686966\n",
      "0.9664914646911588\n",
      "0.9880954961436426\n",
      "0.996197007938324\n",
      "0.9988975118698845\n"
     ]
    }
   ],
   "source": [
    "clientes_por_hora\n",
    "for i in range(10):\n",
    "    print(st.poisson.cdf(i,clientes_por_hora))"
   ]
  },
  {
   "cell_type": "markdown",
   "id": "bbad52df",
   "metadata": {
    "id": "bbad52df"
   },
   "source": [
    "Prop: Si $X\\rightarrow \\mathcal{B}(n,p)$ y si $np=\\lambda$ haciendo que $n\\rightarrow \\infty$ y $p\\rightarrow =0$. Entonces\n",
    "    $$X\\rightarrow \\mathcal{P}(\\lambda)=\\mathcal{P}(np)$$"
   ]
  },
  {
   "cell_type": "markdown",
   "id": "a0cb456c",
   "metadata": {
    "id": "a0cb456c"
   },
   "source": [
    "Ej: En una fabrica se estima que 1 de cada 100 productos es defectuoso. En un lote de 1500 unidades cual es la probabilidad de que tengamos al menos 10 productos defectuosos"
   ]
  },
  {
   "cell_type": "code",
   "execution_count": 82,
   "id": "3bc7d459",
   "metadata": {
    "id": "3bc7d459",
    "outputId": "37fe6815-f576-46c5-fde3-0e16c050fbde"
   },
   "outputs": [
    {
     "data": {
      "text/plain": [
       "0"
      ]
     },
     "execution_count": 82,
     "metadata": {},
     "output_type": "execute_result"
    }
   ],
   "source": [
    "lote=1500\n",
    "defectuosos=10\n",
    "ma.comb(defectuosos,lote)"
   ]
  },
  {
   "cell_type": "markdown",
   "id": "62ab2272",
   "metadata": {
    "id": "62ab2272"
   },
   "source": [
    "En este caso $\\lambda=np=1500*0.01=15$"
   ]
  },
  {
   "cell_type": "code",
   "execution_count": null,
   "id": "877c98a9",
   "metadata": {
    "id": "877c98a9",
    "outputId": "257ea649-3e0c-4232-efd4-3f94985024de"
   },
   "outputs": [
    {
     "data": {
      "text/plain": [
       "np.float64(0.9301463393005901)"
      ]
     },
     "execution_count": 84,
     "metadata": {},
     "output_type": "execute_result"
    }
   ],
   "source": [
    "prob=1/100\n",
    "media=lote*prob\n",
    "1-st.poisson.cdf(9,media) # con esto vemos la probabilidad de que los 10 productos defectuosos\n"
   ]
  },
  {
   "cell_type": "markdown",
   "id": "f29f60cb",
   "metadata": {
    "id": "f29f60cb"
   },
   "source": [
    "Tenemos 93% de probabilidades de encontrar al menos 10 productos defectuosos"
   ]
  },
  {
   "cell_type": "markdown",
   "id": "962deb83",
   "metadata": {
    "id": "962deb83"
   },
   "source": [
    "#### Distribuciones continuas"
   ]
  },
  {
   "cell_type": "markdown",
   "id": "c0615b42",
   "metadata": {
    "id": "c0615b42"
   },
   "source": [
    "Nuestras variables en este caso serán continuas y no discretas\n"
   ]
  },
  {
   "cell_type": "markdown",
   "id": "68e50529",
   "metadata": {
    "id": "68e50529"
   },
   "source": [
    "La probabilidad puntual esta dada por funciones de densidad pero la probabilidad puntual es infinitamente pequeña dado que un punto es despreciable para un intervalo dado\n",
    "\n",
    "\n"
   ]
  },
  {
   "cell_type": "markdown",
   "id": "a9b6f6dc",
   "metadata": {
    "id": "a9b6f6dc"
   },
   "source": [
    "La probabilidad acumulativa esta dada por las funciones de distribución de probabilidad\n",
    "\n"
   ]
  },
  {
   "cell_type": "markdown",
   "id": "cba77290",
   "metadata": {
    "id": "cba77290"
   },
   "source": [
    "$$P(X\\leq x)=F(x)=\\int_{-\\infty}^{x}f(t)dt$$"
   ]
  },
  {
   "cell_type": "markdown",
   "id": "5f46d717",
   "metadata": {
    "id": "5f46d717"
   },
   "source": [
    "donde $f(x)$ es la función de densidad de probabilidad"
   ]
  },
  {
   "cell_type": "markdown",
   "id": "d0432c40",
   "metadata": {
    "id": "d0432c40"
   },
   "source": [
    "Y podemos definir la esperanza y la varianza de la distribución como\n",
    "\n",
    "$$E[X]=\\int_{-\\infty}^{\\infty} xf(x)dx$$\n",
    "\n",
    "$$var(X)=\\int_{-\\infty}^{\\infty} (x-\\mu)^2f(x)dx$$"
   ]
  },
  {
   "cell_type": "markdown",
   "id": "985297a4",
   "metadata": {
    "id": "985297a4"
   },
   "source": [
    "Rem: Una función de densidad debe cumplir 2 cosas\n",
    "1. Debe ser positiva para todo punto.\n",
    "2. $$\\int_{-\\infty}^{\\infty}f(x)dx=1$$"
   ]
  },
  {
   "cell_type": "markdown",
   "id": "f394ae6f",
   "metadata": {
    "id": "f394ae6f"
   },
   "source": [
    "#### Distribución uniforme"
   ]
  },
  {
   "cell_type": "markdown",
   "id": "aa031e93",
   "metadata": {
    "id": "aa031e93"
   },
   "source": [
    "La distribución uniforme es la distribución que tiene las mismas probabilidades para todo los puntos de un intervalo dado\n",
    "\n",
    "$$f(x)=\\frac{1}{b-a}, x\\in [a,b]$$"
   ]
  },
  {
   "cell_type": "code",
   "execution_count": 48,
   "id": "2ec609fb",
   "metadata": {
    "id": "2ec609fb",
    "outputId": "1393ba28-c74f-4176-ee69-2ef330982a67"
   },
   "outputs": [
    {
     "data": {
      "text/plain": [
       "0.7860569701187147"
      ]
     },
     "execution_count": 48,
     "metadata": {},
     "output_type": "execute_result"
    }
   ],
   "source": [
    "np.random.rand() # esta función nos da números aleatorios del 0 al 1 siguiendo una distribución uniforme"
   ]
  },
  {
   "cell_type": "markdown",
   "id": "b30730ef",
   "metadata": {
    "id": "b30730ef"
   },
   "source": [
    "Y su distribución de probabilidad es\n",
    "\n",
    "$$P(X\\leq x)=\\int_{-\\infty}^x f(t)dt=\\left. \\frac{t}{b-a}\\right|_a^x=\\frac{x-a}{b-a}$$"
   ]
  },
  {
   "cell_type": "markdown",
   "id": "c754840b",
   "metadata": {
    "id": "c754840b"
   },
   "source": [
    "Siguiendo las formulas tenemos\n",
    "\n",
    "$$E[X]=\\frac{a+b}{2}$$\n",
    "\n",
    "$$var(X)=\\frac{(a-b)^2}{12}$$"
   ]
  },
  {
   "cell_type": "markdown",
   "id": "93a7b841",
   "metadata": {
    "id": "93a7b841"
   },
   "source": [
    "Ej: Si escogemos un número al azar entre 0 y 1, ¿cuál es la probabilidad que se encuentre entre 0.4 y 0.7?, ¿que sea mayor a 0.45?"
   ]
  },
  {
   "cell_type": "markdown",
   "id": "a4496ccd",
   "metadata": {
    "id": "a4496ccd"
   },
   "source": [
    "En el primer caso tenemos una probabilidad de 0.3\n",
    "\n",
    "$$F(0.7)-F(0.4)=\\frac{0.7-0}{1-0}-\\frac{0.4-0}{1-0}=0.7-0.4=0.3$$"
   ]
  },
  {
   "cell_type": "markdown",
   "id": "0271345f",
   "metadata": {
    "id": "0271345f"
   },
   "source": [
    "Que sea mayor a 0.45 nos da 0.55\n",
    "\n",
    "$$1-F(0.45)=1-0.45=0.55$$"
   ]
  },
  {
   "cell_type": "code",
   "execution_count": 49,
   "id": "1e34313e",
   "metadata": {
    "id": "1e34313e",
    "outputId": "d3e37af0-dbb9-4c75-ff61-ff4150c228d1"
   },
   "outputs": [
    {
     "data": {
      "text/plain": [
       "np.float64(0.29999999999999993)"
      ]
     },
     "execution_count": 49,
     "metadata": {},
     "output_type": "execute_result"
    }
   ],
   "source": [
    "st.uniform.cdf(0.7,0,1)-st.uniform.cdf(0.4,0,1)"
   ]
  },
  {
   "cell_type": "code",
   "execution_count": 50,
   "id": "7b853086",
   "metadata": {
    "id": "7b853086",
    "outputId": "40b8330c-feac-4e3b-9d09-d82b530439db"
   },
   "outputs": [
    {
     "data": {
      "text/plain": [
       "np.float64(0.55)"
      ]
     },
     "execution_count": 50,
     "metadata": {},
     "output_type": "execute_result"
    }
   ],
   "source": [
    "1-st.uniform.cdf(0.45)"
   ]
  },
  {
   "cell_type": "markdown",
   "id": "4d98a98f",
   "metadata": {
    "id": "4d98a98f"
   },
   "source": [
    "#### Distribución exponencial"
   ]
  },
  {
   "cell_type": "markdown",
   "id": "a489116a",
   "metadata": {
    "id": "a489116a"
   },
   "source": [
    "La distribución exponencial sirve para modelar la ocurrencia de eventos y sigue una función de densidad\n",
    "\n",
    "$$f(x)=\\lambda e^{-\\lambda x}, x>0, \\lambda >0$$"
   ]
  },
  {
   "cell_type": "markdown",
   "id": "ae22da62",
   "metadata": {
    "id": "ae22da62"
   },
   "source": [
    "Su función de distribución es entonces\n",
    "\n",
    "$$F(x)=1-e^{-\\lambda x}$$\n",
    "\n",
    "Y su esperanza y su varianza son\n",
    "\n",
    "$$E[X]=\\frac{1}{\\lambda}$$\n",
    "\n",
    "$$var(X)=\\frac{1}{\\lambda^2}$$"
   ]
  },
  {
   "cell_type": "markdown",
   "id": "8e4e6216",
   "metadata": {
    "id": "8e4e6216"
   },
   "source": [
    "Ej: Se estima que un empleado de cierta empresa tarda en promedio 5 minutos en revisar su email. ¿Cuál es la probabilidad de que el día de hoy tarde menos de 1 min?, ¿que tarde entre 2 y 6 minutos?, ¿al menos 4 minutos?, ¿cuanto se esperaría que tarde?"
   ]
  },
  {
   "cell_type": "markdown",
   "id": "8e2c1aa4",
   "metadata": {
    "id": "8e2c1aa4"
   },
   "source": [
    "El promedio de 5 min será su esperanza\n",
    "\n",
    "$$5=E[X]=\\frac{1}{\\lambda}$$\n",
    "\n",
    "por lo cuál $\\lambda=\\frac{1}{5}$"
   ]
  },
  {
   "cell_type": "code",
   "execution_count": 51,
   "id": "16c8c210",
   "metadata": {
    "id": "16c8c210",
    "outputId": "b691a4f5-3bdb-4c16-adc5-cb7e6a3b0711"
   },
   "outputs": [
    {
     "data": {
      "text/plain": [
       "np.float64(0.18126924692201815)"
      ]
     },
     "execution_count": 51,
     "metadata": {},
     "output_type": "execute_result"
    }
   ],
   "source": [
    "st.expon.cdf(1,scale=5) # Tenemos 18% de probabilidades de que tarde menos de 1 min"
   ]
  },
  {
   "cell_type": "code",
   "execution_count": 52,
   "id": "87a75d48",
   "metadata": {
    "id": "87a75d48",
    "outputId": "964c67f9-eba4-417d-de8e-544e11af95b3"
   },
   "outputs": [
    {
     "data": {
      "text/plain": [
       "np.float64(0.36912583412343714)"
      ]
     },
     "execution_count": 52,
     "metadata": {},
     "output_type": "execute_result"
    }
   ],
   "source": [
    "st.expon.cdf(6,scale=5)-st.expon.cdf(2,scale=5) # Tenemos 36.91% de probabilidades de que tarde entre 2 y 6 minutos"
   ]
  },
  {
   "cell_type": "code",
   "execution_count": 53,
   "id": "7ef4d720",
   "metadata": {
    "id": "7ef4d720",
    "outputId": "3f0f4151-4dd2-4a48-dfce-f9fa4d041f02"
   },
   "outputs": [
    {
     "data": {
      "text/plain": [
       "np.float64(0.44932896411722156)"
      ]
     },
     "execution_count": 53,
     "metadata": {},
     "output_type": "execute_result"
    }
   ],
   "source": [
    "1-st.expon.cdf(4,scale=5)# Tenemos 44.93% de probabilidades de que tarde al menos 4 minutos"
   ]
  },
  {
   "cell_type": "markdown",
   "id": "ee554e2c",
   "metadata": {
    "id": "ee554e2c"
   },
   "source": [
    "Se esperaria que tarde 5 min"
   ]
  },
  {
   "cell_type": "markdown",
   "id": "26688ac0",
   "metadata": {
    "id": "26688ac0"
   },
   "source": [
    "#### Distribución Normal"
   ]
  },
  {
   "cell_type": "markdown",
   "id": "702a5d92",
   "metadata": {
    "id": "702a5d92"
   },
   "source": [
    "La distribución Normal sirve para modelar un evento que se repite suficientes veces\n",
    "\n"
   ]
  },
  {
   "cell_type": "markdown",
   "id": "46def6d2",
   "metadata": {
    "id": "46def6d2"
   },
   "source": [
    "Su función de densidad es\n",
    "$$f(x)=\\frac{1}{\\sqrt{2\\pi\\sigma^2}}e^{-\\frac{(x-\\mu)^2}{2\\sigma^2}}$$"
   ]
  },
  {
   "cell_type": "markdown",
   "id": "f3fbdfeb",
   "metadata": {
    "id": "f3fbdfeb"
   },
   "source": [
    "Y su función de distribución de probabilidad no posee integral elemental\n",
    "\n",
    "La función de distribución es\n",
    "$$F(x)=\\frac{1}{\\sqrt{2\\pi \\sigma^2}}\\int_{-\\infty}^{x}e^{-\\frac{(t-\\mu)^2}{2\\sigma^2}}dt$$"
   ]
  },
  {
   "cell_type": "markdown",
   "id": "3274085b",
   "metadata": {
    "id": "3274085b"
   },
   "source": [
    "con $\\mu\\in \\mathbb{R}$, $\\sigma >0$ y $x\\in \\mathbb{R}$"
   ]
  },
  {
   "cell_type": "markdown",
   "id": "60bfe948",
   "metadata": {
    "id": "60bfe948"
   },
   "source": [
    "su esperanza y varianza son\n",
    "$$E[X]=\\mu$$\n",
    "\n",
    "$$var(X)=\\sigma^2$$"
   ]
  },
  {
   "cell_type": "markdown",
   "id": "9eb2d909",
   "metadata": {
    "id": "9eb2d909"
   },
   "source": [
    "Ej: Una fábrica produce clavos con una media de 3 cm y una desviación estandar de 0.05 cm. ¿Cuál es la probabilidad de que un clavo mida más de 3.1cm?, ¿que mida entre 2.95 y 3.05 cm?, ¿Cuanto debería la cota más alta para que estemos seguros que el 95% de los clavos tienen un tamaño más pequeño?"
   ]
  },
  {
   "cell_type": "code",
   "execution_count": 54,
   "id": "8ddb98c0",
   "metadata": {
    "id": "8ddb98c0",
    "outputId": "9a6b3086-288b-4feb-8266-3e23b162c91a"
   },
   "outputs": [
    {
     "data": {
      "text/plain": [
       "np.float64(0.022750131948179098)"
      ]
     },
     "execution_count": 54,
     "metadata": {},
     "output_type": "execute_result"
    }
   ],
   "source": [
    "1-st.norm.cdf(3.1,3,0.05) # La probabilidad de que mida más de 3.1 cm es del 2.28%"
   ]
  },
  {
   "cell_type": "code",
   "execution_count": 55,
   "id": "316b16bd",
   "metadata": {
    "id": "316b16bd",
    "outputId": "0e000d63-8a28-467f-c7c9-51e2714a89f7"
   },
   "outputs": [
    {
     "data": {
      "text/plain": [
       "np.float64(0.6826894921370843)"
      ]
     },
     "execution_count": 55,
     "metadata": {},
     "output_type": "execute_result"
    }
   ],
   "source": [
    "st.norm.cdf(3.05,3,0.05)-st.norm.cdf(2.95,3,0.05) # La probabilidad de que mida entre 2.95 y 3.05 es del 68.27%"
   ]
  },
  {
   "cell_type": "code",
   "execution_count": 56,
   "id": "57e59974",
   "metadata": {
    "id": "57e59974",
    "outputId": "05472ae2-c2f3-42ca-ee84-a305a55c4db0"
   },
   "outputs": [
    {
     "data": {
      "text/plain": [
       "np.float64(3.06407757827723)"
      ]
     },
     "execution_count": 56,
     "metadata": {},
     "output_type": "execute_result"
    }
   ],
   "source": [
    "st.norm.ppf(0.9,3,0.05) # Los clavos deben medir menos de 3.o6 cm para que el 90% de ellos este por debajo."
   ]
  },
  {
   "cell_type": "markdown",
   "id": "4c646cd8",
   "metadata": {
    "id": "4c646cd8"
   },
   "source": [
    "#### Distribución Gamma"
   ]
  },
  {
   "cell_type": "markdown",
   "id": "1fb16030",
   "metadata": {
    "id": "1fb16030"
   },
   "source": [
    "Esta distribución esta basada en la función $\\Gamma$ que es la interpola al factorial"
   ]
  },
  {
   "cell_type": "markdown",
   "id": "2a7da76f",
   "metadata": {
    "id": "2a7da76f"
   },
   "source": [
    "Existen las relaciones\n",
    "\n",
    "$$\\Gamma(n+1)=n!$$\n",
    "\n",
    "$$\\Gamma(1/2)=\\sqrt{\\pi}$$\n",
    "\n",
    "$$\\Gamma(\\alpha+1)=\\alpha\\Gamma(\\alpha)$$"
   ]
  },
  {
   "cell_type": "code",
   "execution_count": 57,
   "id": "0117dced",
   "metadata": {
    "id": "0117dced",
    "outputId": "f41f79d9-1e43-463f-a6c9-645d6a3be167"
   },
   "outputs": [
    {
     "data": {
      "text/plain": [
       "(np.float64(1.7724538509055159), np.float64(1.7724538509055159))"
      ]
     },
     "execution_count": 57,
     "metadata": {},
     "output_type": "execute_result"
    }
   ],
   "source": [
    "import scipy as sci\n",
    "sci.special.gamma(1/2),np.sqrt(np.pi)"
   ]
  },
  {
   "cell_type": "code",
   "execution_count": 58,
   "id": "5eb22a59",
   "metadata": {
    "id": "5eb22a59",
    "outputId": "e825367f-7012-4a72-eea4-4026608454af"
   },
   "outputs": [
    {
     "data": {
      "text/plain": [
       "(np.float64(4.42298841046025), np.float64(4.42298841046025))"
      ]
     },
     "execution_count": 58,
     "metadata": {},
     "output_type": "execute_result"
    }
   ],
   "source": [
    "sci.special.gamma(3.75),2.75*sci.special.gamma(2.75)"
   ]
  },
  {
   "cell_type": "markdown",
   "id": "33588685",
   "metadata": {
    "id": "33588685"
   },
   "source": [
    "Tiene una función de densidad\n",
    "\n",
    "$$f(x)=\\frac{(\\lambda x)^{n-1}}{\\Gamma(n)}(\\lambda e^{-\\lambda x}), \\lambda >0, n>0, x>0$$"
   ]
  },
  {
   "cell_type": "markdown",
   "id": "79338917",
   "metadata": {
    "id": "79338917"
   },
   "source": [
    "Una función de distribución\n",
    "\n",
    "$$F(x)=1-\\sum_{i=0}^{n-1}\\frac{(\\lambda x)^i}{i!}e^{-\\lambda x}=\\sum_{i=n}^{\\infty}\\frac{(\\lambda x)^i}{i!}e^{-\\lambda x}$$"
   ]
  },
  {
   "cell_type": "markdown",
   "id": "64fcc929",
   "metadata": {
    "id": "64fcc929"
   },
   "source": [
    "Y una esperanza y varianza de\n",
    "\n",
    "$$E[X]=\\frac{n}{\\lambda}$$\n",
    "\n",
    "$$var(X)=\\frac{n}{\\lambda^2}$$"
   ]
  },
  {
   "cell_type": "markdown",
   "id": "b68a0b81",
   "metadata": {
    "id": "b68a0b81"
   },
   "source": [
    "Ej: El tiempo de duración de una cierta pieza de un equipo se distribuye según la distribución $\\Gamma$ con parámetros $\\lambda=3$ y $n=2$ en semanas. ¿Cuál es la probabilidad que una pieza dure menos de 12 semanas?, ¿Cuál es la probabilidad de que dure entre 5 y 10 semanas?, ¿Cuál es la probabilidad que la pieza dure al menos 10 semanas?, ¿Con 90% de confiabilidad cuanto duraría una pieza?"
   ]
  },
  {
   "cell_type": "code",
   "execution_count": 59,
   "id": "4c99d490",
   "metadata": {
    "id": "4c99d490",
    "outputId": "2a196e7e-0226-442d-a00c-aeead6e25923"
   },
   "outputs": [
    {
     "data": {
      "text/plain": [
       "np.float64(0.9972306042844884)"
      ]
     },
     "execution_count": 59,
     "metadata": {},
     "output_type": "execute_result"
    }
   ],
   "source": [
    "st.gamma.cdf(12,3,2) # Tenemos 99.72% de probabilidades de que la pieza dure menos de 12 semanas"
   ]
  },
  {
   "cell_type": "code",
   "execution_count": 60,
   "id": "0fac76f2",
   "metadata": {
    "id": "0fac76f2",
    "outputId": "0ed3fd36-a62c-4e92-9db8-b194956d9c74"
   },
   "outputs": [
    {
     "data": {
      "text/plain": [
       "np.float64(0.40943611338284047)"
      ]
     },
     "execution_count": 60,
     "metadata": {},
     "output_type": "execute_result"
    }
   ],
   "source": [
    "st.gamma.cdf(10,3,2)-st.gamma.cdf(5,3,2) # Tenemos 40.94% de probabilidades de que la pieza dure entre 5 y 10 semanas"
   ]
  },
  {
   "cell_type": "code",
   "execution_count": 61,
   "id": "f6bbf188",
   "metadata": {
    "id": "f6bbf188",
    "outputId": "a3eaf719-ecad-475d-a8ca-d9bb2af07d98"
   },
   "outputs": [
    {
     "data": {
      "text/plain": [
       "np.float64(0.013753967744002948)"
      ]
     },
     "execution_count": 61,
     "metadata": {},
     "output_type": "execute_result"
    }
   ],
   "source": [
    "1-st.gamma.cdf(10,3,2) # Tenemos 1.38% de probabilidades de que la pieza dure más de 10 semanas"
   ]
  },
  {
   "cell_type": "code",
   "execution_count": 62,
   "id": "9f49685d",
   "metadata": {
    "id": "9f49685d",
    "outputId": "9dd09496-1255-4e33-ad8f-1cbbbbfc0b07"
   },
   "outputs": [
    {
     "data": {
      "text/plain": [
       "np.float64(7.322320337834211)"
      ]
     },
     "execution_count": 62,
     "metadata": {},
     "output_type": "execute_result"
    }
   ],
   "source": [
    "st.gamma.ppf(0.9,3,2) # La pieza no va a durar mas de 7.32 semanas al 90% de confiabilidad"
   ]
  },
  {
   "cell_type": "markdown",
   "id": "ZlSAt1MjJkao",
   "metadata": {
    "id": "ZlSAt1MjJkao"
   },
   "source": [
    "import numpy as np\n",
    "import scipy.stats as stats\n",
    "\n",
    "# Datos de la muestra\n",
    "rendimiento_muestra = np.array([5.16] * 20)  # Consideramos que el rendimiento es constante\n",
    "\n",
    "# Nivel de significación\n",
    "nivel_significacion = 0.01\n",
    "\n",
    "# Parámetros de las afirmaciones de las empresas\n",
    "afirmaciones_empresas = [4.5, 6.2]\n",
    "\n",
    "for i, afirmacion_empresa in enumerate(afirmaciones_empresas):\n",
    "    # Realizar un test t de una muestra\n",
    "    t_stat, p_valor = stats.ttest_1samp(rendimiento_muestra, afirmacion_empresa)\n",
    "\n",
    "    # Comprobar si se puede creer la afirmación de la empresa con un nivel de significación del 1%\n",
    "    if p_valor < nivel_significacion:\n",
    "        print(f\"La afirmación de la empresa {['XYZ', 'ACB'][i]} es creíble.\")\n",
    "    else:\n",
    "        print(f\"La afirmación de la empresa {['XYZ', 'ACB'][i]} no es creíble.\")"
   ]
  }
 ],
 "metadata": {
  "colab": {
   "provenance": []
  },
  "kernelspec": {
   "display_name": "venv",
   "language": "python",
   "name": "python3"
  },
  "language_info": {
   "codemirror_mode": {
    "name": "ipython",
    "version": 3
   },
   "file_extension": ".py",
   "mimetype": "text/x-python",
   "name": "python",
   "nbconvert_exporter": "python",
   "pygments_lexer": "ipython3",
   "version": "3.13.1"
  }
 },
 "nbformat": 4,
 "nbformat_minor": 5
}
