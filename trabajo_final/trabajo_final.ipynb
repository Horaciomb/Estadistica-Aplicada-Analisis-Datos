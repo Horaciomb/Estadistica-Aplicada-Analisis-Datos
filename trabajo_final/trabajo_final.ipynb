{
 "cells": [
  {
   "cell_type": "markdown",
   "metadata": {},
   "source": [
    "# Trabajo Final\n",
    "### Integrantes Grupo 1:\n",
    "*   Juan Pablo Arrázola\n",
    "*   Paolo Brito\n",
    "*   José Gutierrez\n",
    "*   Horacio Molina"
   ]
  },
  {
   "cell_type": "code",
   "execution_count": 99,
   "metadata": {},
   "outputs": [],
   "source": [
    "import pandas as pd\n",
    "import seaborn as sns\n",
    "import matplotlib.pyplot as plt\n",
    "import numpy as np\n",
    "import scipy.stats as stats"
   ]
  },
  {
   "cell_type": "markdown",
   "metadata": {},
   "source": [
    "# UPB POSGRADO ESTADÍSTICA APLICADA A CIENCIA DE DATOS TRABAJO FINAL Julio 2024 \n",
    "### Tarea Estadística Inferencial"
   ]
  },
  {
   "cell_type": "markdown",
   "metadata": {},
   "source": [
    "### 1. Carga el dataset de tu número de grupo de la carpeta base de datos de Moodle "
   ]
  },
  {
   "cell_type": "code",
   "execution_count": 100,
   "metadata": {},
   "outputs": [],
   "source": [
    "df=pd.read_csv('RetailNuevo1.csv')"
   ]
  },
  {
   "cell_type": "code",
   "execution_count": 101,
   "metadata": {},
   "outputs": [
    {
     "data": {
      "text/plain": [
       "(2000, 14)"
      ]
     },
     "execution_count": 101,
     "metadata": {},
     "output_type": "execute_result"
    }
   ],
   "source": [
    "df.shape"
   ]
  },
  {
   "cell_type": "code",
   "execution_count": 102,
   "metadata": {},
   "outputs": [
    {
     "data": {
      "text/plain": [
       "Index(['Unnamed: 0', 'Ship Mode', 'Segment', 'Country', 'City', 'State',\n",
       "       'Postal Code', 'Region', 'Category', 'Sub-Category', 'Sales',\n",
       "       'Quantity', 'Discount', 'Profit'],\n",
       "      dtype='object')"
      ]
     },
     "execution_count": 102,
     "metadata": {},
     "output_type": "execute_result"
    }
   ],
   "source": [
    "df.columns"
   ]
  },
  {
   "cell_type": "markdown",
   "metadata": {},
   "source": [
    "### 2. Expresa las ventas segmentadas por estado, por modo de entrega (Ship Mode) y por subcategoría."
   ]
  },
  {
   "cell_type": "code",
   "execution_count": 103,
   "metadata": {},
   "outputs": [
    {
     "data": {
      "application/vnd.microsoft.datawrangler.viewer.v0+json": {
       "columns": [
        {
         "name": "index",
         "rawType": "int64",
         "type": "integer"
        },
        {
         "name": "State",
         "rawType": "object",
         "type": "string"
        },
        {
         "name": "Ship Mode",
         "rawType": "object",
         "type": "string"
        },
        {
         "name": "Sub-Category",
         "rawType": "object",
         "type": "string"
        },
        {
         "name": "Sales",
         "rawType": "float64",
         "type": "float"
        }
       ],
       "conversionMethod": "pd.DataFrame",
       "ref": "cacb9e3d-e0ae-44cd-b17b-1471de4cbb3d",
       "rows": [
        [
         "0",
         "Alabama",
         "Second Class",
         "Accessories",
         "1319.96"
        ],
        [
         "1",
         "Alabama",
         "Second Class",
         "Art",
         "15.47"
        ],
        [
         "2",
         "Alabama",
         "Second Class",
         "Binders",
         "22.75"
        ],
        [
         "3",
         "Alabama",
         "Second Class",
         "Labels",
         "491.55"
        ],
        [
         "4",
         "Alabama",
         "Second Class",
         "Paper",
         "629.1"
        ],
        [
         "5",
         "Alabama",
         "Standard Class",
         "Art",
         "19.56"
        ],
        [
         "6",
         "Alabama",
         "Standard Class",
         "Chairs",
         "1549.8"
        ],
        [
         "7",
         "Alabama",
         "Standard Class",
         "Paper",
         "13.08"
        ],
        [
         "8",
         "Alabama",
         "Standard Class",
         "Phones",
         "59.97"
        ],
        [
         "9",
         "Alabama",
         "Standard Class",
         "Tables",
         "2017.88"
        ],
        [
         "10",
         "Arizona",
         "First Class",
         "Accessories",
         "239.952"
        ],
        [
         "11",
         "Arizona",
         "First Class",
         "Art",
         "2.912"
        ],
        [
         "12",
         "Arizona",
         "First Class",
         "Chairs",
         "899.136"
        ],
        [
         "13",
         "Arizona",
         "First Class",
         "Envelopes",
         "108.72"
        ],
        [
         "14",
         "Arizona",
         "First Class",
         "Paper",
         "307.84"
        ],
        [
         "15",
         "Arizona",
         "First Class",
         "Phones",
         "318.4"
        ],
        [
         "16",
         "Arizona",
         "Same Day",
         "Binders",
         "17.928"
        ],
        [
         "17",
         "Arizona",
         "Second Class",
         "Accessories",
         "23.2"
        ],
        [
         "18",
         "Arizona",
         "Second Class",
         "Bookcases",
         "127.764"
        ],
        [
         "19",
         "Arizona",
         "Second Class",
         "Envelopes",
         "43.92"
        ],
        [
         "20",
         "Arizona",
         "Standard Class",
         "Accessories",
         "241.48000000000002"
        ],
        [
         "21",
         "Arizona",
         "Standard Class",
         "Art",
         "1208.224"
        ],
        [
         "22",
         "Arizona",
         "Standard Class",
         "Binders",
         "1052.205"
        ],
        [
         "23",
         "Arizona",
         "Standard Class",
         "Envelopes",
         "10.64"
        ],
        [
         "24",
         "Arizona",
         "Standard Class",
         "Furnishings",
         "834.48"
        ],
        [
         "25",
         "Arizona",
         "Standard Class",
         "Labels",
         "5.04"
        ],
        [
         "26",
         "Arizona",
         "Standard Class",
         "Paper",
         "21.52"
        ],
        [
         "27",
         "Arizona",
         "Standard Class",
         "Phones",
         "283.76"
        ],
        [
         "28",
         "Arizona",
         "Standard Class",
         "Storage",
         "316.776"
        ],
        [
         "29",
         "Arizona",
         "Standard Class",
         "Tables",
         "109.36000000000001"
        ],
        [
         "30",
         "Arkansas",
         "First Class",
         "Binders",
         "691.96"
        ],
        [
         "31",
         "Arkansas",
         "First Class",
         "Phones",
         "59.98"
        ],
        [
         "32",
         "Arkansas",
         "Second Class",
         "Paper",
         "44.96"
        ],
        [
         "33",
         "Arkansas",
         "Second Class",
         "Storage",
         "367.96"
        ],
        [
         "34",
         "Arkansas",
         "Standard Class",
         "Accessories",
         "339.96"
        ],
        [
         "35",
         "Arkansas",
         "Standard Class",
         "Art",
         "13.36"
        ],
        [
         "36",
         "Arkansas",
         "Standard Class",
         "Binders",
         "24.200000000000003"
        ],
        [
         "37",
         "Arkansas",
         "Standard Class",
         "Furnishings",
         "198.51999999999998"
        ],
        [
         "38",
         "Arkansas",
         "Standard Class",
         "Paper",
         "393.66"
        ],
        [
         "39",
         "Arkansas",
         "Standard Class",
         "Phones",
         "881.93"
        ],
        [
         "40",
         "California",
         "First Class",
         "Accessories",
         "440.71"
        ],
        [
         "41",
         "California",
         "First Class",
         "Appliances",
         "45.28"
        ],
        [
         "42",
         "California",
         "First Class",
         "Art",
         "27.7"
        ],
        [
         "43",
         "California",
         "First Class",
         "Binders",
         "582.336"
        ],
        [
         "44",
         "California",
         "First Class",
         "Bookcases",
         "768.332"
        ],
        [
         "45",
         "California",
         "First Class",
         "Chairs",
         "2965.7760000000003"
        ],
        [
         "46",
         "California",
         "First Class",
         "Copiers",
         "1199.976"
        ],
        [
         "47",
         "California",
         "First Class",
         "Envelopes",
         "4.08"
        ],
        [
         "48",
         "California",
         "First Class",
         "Fasteners",
         "38.77"
        ],
        [
         "49",
         "California",
         "First Class",
         "Furnishings",
         "884.65"
        ]
       ],
       "shape": {
        "columns": 4,
        "rows": 808
       }
      },
      "text/html": [
       "<div>\n",
       "<style scoped>\n",
       "    .dataframe tbody tr th:only-of-type {\n",
       "        vertical-align: middle;\n",
       "    }\n",
       "\n",
       "    .dataframe tbody tr th {\n",
       "        vertical-align: top;\n",
       "    }\n",
       "\n",
       "    .dataframe thead th {\n",
       "        text-align: right;\n",
       "    }\n",
       "</style>\n",
       "<table border=\"1\" class=\"dataframe\">\n",
       "  <thead>\n",
       "    <tr style=\"text-align: right;\">\n",
       "      <th></th>\n",
       "      <th>State</th>\n",
       "      <th>Ship Mode</th>\n",
       "      <th>Sub-Category</th>\n",
       "      <th>Sales</th>\n",
       "    </tr>\n",
       "  </thead>\n",
       "  <tbody>\n",
       "    <tr>\n",
       "      <th>0</th>\n",
       "      <td>Alabama</td>\n",
       "      <td>Second Class</td>\n",
       "      <td>Accessories</td>\n",
       "      <td>1319.96</td>\n",
       "    </tr>\n",
       "    <tr>\n",
       "      <th>1</th>\n",
       "      <td>Alabama</td>\n",
       "      <td>Second Class</td>\n",
       "      <td>Art</td>\n",
       "      <td>15.47</td>\n",
       "    </tr>\n",
       "    <tr>\n",
       "      <th>2</th>\n",
       "      <td>Alabama</td>\n",
       "      <td>Second Class</td>\n",
       "      <td>Binders</td>\n",
       "      <td>22.75</td>\n",
       "    </tr>\n",
       "    <tr>\n",
       "      <th>3</th>\n",
       "      <td>Alabama</td>\n",
       "      <td>Second Class</td>\n",
       "      <td>Labels</td>\n",
       "      <td>491.55</td>\n",
       "    </tr>\n",
       "    <tr>\n",
       "      <th>4</th>\n",
       "      <td>Alabama</td>\n",
       "      <td>Second Class</td>\n",
       "      <td>Paper</td>\n",
       "      <td>629.10</td>\n",
       "    </tr>\n",
       "    <tr>\n",
       "      <th>...</th>\n",
       "      <td>...</td>\n",
       "      <td>...</td>\n",
       "      <td>...</td>\n",
       "      <td>...</td>\n",
       "    </tr>\n",
       "    <tr>\n",
       "      <th>803</th>\n",
       "      <td>Wisconsin</td>\n",
       "      <td>Standard Class</td>\n",
       "      <td>Binders</td>\n",
       "      <td>17.52</td>\n",
       "    </tr>\n",
       "    <tr>\n",
       "      <th>804</th>\n",
       "      <td>Wisconsin</td>\n",
       "      <td>Standard Class</td>\n",
       "      <td>Bookcases</td>\n",
       "      <td>459.92</td>\n",
       "    </tr>\n",
       "    <tr>\n",
       "      <th>805</th>\n",
       "      <td>Wisconsin</td>\n",
       "      <td>Standard Class</td>\n",
       "      <td>Chairs</td>\n",
       "      <td>680.01</td>\n",
       "    </tr>\n",
       "    <tr>\n",
       "      <th>806</th>\n",
       "      <td>Wisconsin</td>\n",
       "      <td>Standard Class</td>\n",
       "      <td>Furnishings</td>\n",
       "      <td>47.40</td>\n",
       "    </tr>\n",
       "    <tr>\n",
       "      <th>807</th>\n",
       "      <td>Wisconsin</td>\n",
       "      <td>Standard Class</td>\n",
       "      <td>Phones</td>\n",
       "      <td>1721.35</td>\n",
       "    </tr>\n",
       "  </tbody>\n",
       "</table>\n",
       "<p>808 rows × 4 columns</p>\n",
       "</div>"
      ],
      "text/plain": [
       "         State       Ship Mode Sub-Category    Sales\n",
       "0      Alabama    Second Class  Accessories  1319.96\n",
       "1      Alabama    Second Class          Art    15.47\n",
       "2      Alabama    Second Class      Binders    22.75\n",
       "3      Alabama    Second Class       Labels   491.55\n",
       "4      Alabama    Second Class        Paper   629.10\n",
       "..         ...             ...          ...      ...\n",
       "803  Wisconsin  Standard Class      Binders    17.52\n",
       "804  Wisconsin  Standard Class    Bookcases   459.92\n",
       "805  Wisconsin  Standard Class       Chairs   680.01\n",
       "806  Wisconsin  Standard Class  Furnishings    47.40\n",
       "807  Wisconsin  Standard Class       Phones  1721.35\n",
       "\n",
       "[808 rows x 4 columns]"
      ]
     },
     "execution_count": 103,
     "metadata": {},
     "output_type": "execute_result"
    }
   ],
   "source": [
    "ventas_segmentadas = df.groupby(['State', 'Ship Mode', 'Sub-Category'])['Sales'].sum().reset_index()\n",
    "\n",
    "ventas_segmentadas"
   ]
  },
  {
   "cell_type": "markdown",
   "metadata": {},
   "source": [
    "### 3. Por cada categoría haga un diagrama de torta que exprese el porcentaje de ventas de cada subcategoría."
   ]
  },
  {
   "cell_type": "code",
   "execution_count": 104,
   "metadata": {},
   "outputs": [
    {
     "data": {
      "image/png": "[encoded data removed]",
      "text/plain": [
       "<Figure size 800x800 with 1 Axes>"
      ]
     },
     "metadata": {},
     "output_type": "display_data"
    },
    {
     "data": {
      "image/png": "[encoded data removed]",
      "text/plain": [
       "<Figure size 800x800 with 1 Axes>"
      ]
     },
     "metadata": {},
     "output_type": "display_data"
    },
    {
     "data": {
      "image/png": "[encoded data removed]",
      "text/plain": [
       "<Figure size 800x800 with 1 Axes>"
      ]
     },
     "metadata": {},
     "output_type": "display_data"
    }
   ],
   "source": [
    "df_agrupado_categoria = df.groupby(['Category', 'Sub-Category'])['Sales'].sum().reset_index()\n",
    "\n",
    "categorias = df_agrupado_categoria['Category'].unique()\n",
    "\n",
    "for categoria in categorias:\n",
    "    df_filtrado = df_agrupado_categoria[df_agrupado_categoria['Category'] == categoria]\n",
    "\n",
    "    plt.figure(figsize=(8,8))\n",
    "    plt.pie(df_filtrado['Sales'], labels=df_filtrado['Sub-Category'], autopct='%1.1f%%')\n",
    "    plt.title(f'Porcentaje de Ventas por Subcategoría en {categoria}')\n",
    "    plt.show()"
   ]
  },
  {
   "cell_type": "markdown",
   "metadata": {},
   "source": [
    "### 4. Da un intervalo de confianza para la media de ventas de la tienda principal (la de mayor venta) al 90% y al 98% de confiabilidad. Si consideramos que se van a realizar 500 ventas en dicha tienda da una estimación de cuanto podemos ganar en dicha tienda a las mismas confiabilidades que hemos considerado en el punto anterior."
   ]
  },
  {
   "cell_type": "code",
   "execution_count": 105,
   "metadata": {},
   "outputs": [
    {
     "data": {
      "text/plain": [
       "(174, 14)"
      ]
     },
     "execution_count": 105,
     "metadata": {},
     "output_type": "execute_result"
    }
   ],
   "source": [
    "tienda_principal =df.groupby('City')['Sales'].sum().sort_values(ascending=False).idxmax()\n",
    "df_tienda = df[df['City'] == tienda_principal]  \n",
    "\n",
    "df_tienda.shape"
   ]
  },
  {
   "cell_type": "code",
   "execution_count": 106,
   "metadata": {},
   "outputs": [
    {
     "name": "stdout",
     "output_type": "stream",
     "text": [
      "174 267.0991034482758 905.8564911874763\n"
     ]
    }
   ],
   "source": [
    "n = len(df_tienda)\n",
    "media = df_tienda['Sales'].mean()\n",
    "desv_est = df_tienda['Sales'].std()\n",
    "print(n,media,desv_est)"
   ]
  },
  {
   "cell_type": "code",
   "execution_count": 107,
   "metadata": {},
   "outputs": [],
   "source": [
    "confianzas = [0.90, 0.98]\n",
    "ventas_estimadas=500"
   ]
  },
  {
   "cell_type": "code",
   "execution_count": 108,
   "metadata": {},
   "outputs": [
    {
     "name": "stdout",
     "output_type": "stream",
     "text": [
      "Intervalo de confianza al 90%: (153.53, 380.66)\n",
      "Estimación de ganancias en 500 ventas al 90%: (76767.13, 190331.97)\n",
      "\n",
      "Intervalo de confianza al 98%: (105.85, 428.35)\n",
      "Estimación de ganancias en 500 ventas al 98%: (52924.40, 214174.71)\n",
      "\n"
     ]
    }
   ],
   "source": [
    "for confianza in confianzas:\n",
    "    alpha = 1 - confianza  \n",
    "    t_critico = stats.t.ppf(1 - alpha/2, df=n-1) \n",
    "    margen_error = t_critico * (desv_est / np.sqrt(n))\n",
    "    \n",
    "    intervalo_inf = media - margen_error\n",
    "    intervalo_sup = media + margen_error\n",
    "    \n",
    "    print(f\"Intervalo de confianza al {int(confianza*100)}%: ({intervalo_inf:.2f}, {intervalo_sup:.2f})\")\n",
    "\n",
    "    ganancia_min = intervalo_inf * ventas_estimadas\n",
    "    ganancia_max = intervalo_sup * ventas_estimadas\n",
    "    \n",
    "    print(f\"Estimación de ganancias en {ventas_estimadas} ventas al {int(confianza*100)}%: ({ganancia_min:.2f}, {ganancia_max:.2f})\\n\")\n"
   ]
  },
  {
   "cell_type": "markdown",
   "metadata": {},
   "source": [
    "## 5. Verifica si estadísticamente los siguientes estados tienen las mismas ventas. "
   ]
  },
  {
   "cell_type": "markdown",
   "metadata": {},
   "source": [
    "*   (a) Washington y Arkansas. \n",
    "*   (b) Arkansas y Maryland. \n",
    "*   (c) Minnesota y Montana \n",
    "*   (d) South Carolina y Connecticut"
   ]
  },
  {
   "cell_type": "code",
   "execution_count": 109,
   "metadata": {},
   "outputs": [],
   "source": [
    "# pares_estados = [\n",
    "#     ('Washington', 'Arkansas'),\n",
    "#     ('Arkansas', 'Maryland'),\n",
    "#     ('Minnesota', 'Montana'),\n",
    "#     ('South Carolina', 'Connecticut')\n",
    "# ]\n",
    "\n",
    "# alpha = 0.05\n",
    "\n",
    "# for estado1, estado2 in pares_estados:\n",
    "#     ventas_estado1 = df[df['State'] == estado1]['Sales']\n",
    "#     ventas_estado2 = df[df['State'] == estado2]['Sales']\n",
    "    \n",
    "\n",
    "#     t_stat, p_valor = stats.ttest_ind(ventas_estado1, ventas_estado2, equal_var=False)  \n",
    "\n",
    "#     print(f\"\\nComparación entre {estado1} y {estado2}:\")\n",
    "#     print(f\"T-Statistic: {t_stat:.4f}, P-Valor: {p_valor:.4f}\")\n",
    "    \n",
    "#     if p_valor < alpha:\n",
    "#         print(f\"→ Se RECHAZA la hipótesis nula (H0). Las ventas son significativamente diferentes.\")\n",
    "#     else:\n",
    "#         print(f\"→ No hay suficiente evidencia para rechazar H0. Las ventas podrían ser iguales.\")"
   ]
  },
  {
   "cell_type": "code",
   "execution_count": 110,
   "metadata": {},
   "outputs": [
    {
     "name": "stdout",
     "output_type": "stream",
     "text": [
      "Washington: n=93, Media=376.00, Desv=1474.42\n",
      "Arkansas: n=14, Media=215.46, Desv=272.15\n",
      "------------------------------\n",
      "t_estadístico = 0.4048, t_crítico = 1.9828\n",
      "→ No hay evidencia para rechazar H0.\n",
      "\n",
      "Arkansas: n=14, Media=215.46, Desv=272.15\n",
      "Maryland: n=21, Media=184.14, Desv=287.72\n",
      "------------------------------\n",
      "t_estadístico = 0.3223, t_crítico = 2.0345\n",
      "→ No hay evidencia para rechazar H0.\n",
      "\n",
      "Minnesota: n=19, Media=355.00, Desv=708.05\n",
      "Montana: n=7, Media=126.14, Desv=113.09\n",
      "------------------------------\n",
      "t_estadístico = 0.8406, t_crítico = 2.0639\n",
      "→ No hay evidencia para rechazar H0.\n",
      "\n",
      "South Carolina: n=6, Media=126.28, Desv=146.86\n",
      "Connecticut: n=27, Media=162.72, Desv=199.73\n",
      "------------------------------\n",
      "t_estadístico = -0.4202, t_crítico = 2.0395\n",
      "→ No hay evidencia para rechazar H0.\n",
      "\n"
     ]
    }
   ],
   "source": [
    "pares_estados = [\n",
    "    ('Washington', 'Arkansas'),\n",
    "    ('Arkansas', 'Maryland'),\n",
    "    ('Minnesota', 'Montana'),\n",
    "    ('South Carolina', 'Connecticut')\n",
    "]\n",
    "\n",
    "alpha = 0.05\n",
    "\n",
    "for estado1, estado2 in pares_estados:\n",
    "    ventas_estado1 = df[df['State'] == estado1]['Sales']\n",
    "    ventas_estado2 = df[df['State'] == estado2]['Sales']\n",
    "\n",
    "    n1 = len(ventas_estado1)\n",
    "    n2 = len(ventas_estado2)\n",
    "    mu1 = ventas_estado1.mean()\n",
    "    mu2 = ventas_estado2.mean()\n",
    "    s1 = ventas_estado1.std(ddof=1)\n",
    "    s2 = ventas_estado2.std(ddof=1)\n",
    "    \n",
    "    print(f\"{estado1}: n={n1}, Media={mu1:.2f}, Desv={s1:.2f}\")\n",
    "    print(f\"{estado2}: n={n2}, Media={mu2:.2f}, Desv={s2:.2f}\")\n",
    "    print('-'*30)\n",
    "\n",
    "    gl = n1 + n2 - 2 \n",
    "    \n",
    "    s_pooled = np.sqrt(((n1-1)*s1**2 + (n2-1)*s2**2) / gl)\n",
    "    t_stat = (mu1 - mu2) / (s_pooled * np.sqrt(1/n1 + 1/n2))\n",
    "    t_critico = stats.t.ppf(1 - alpha/2, gl)\n",
    "    \n",
    "    print(f\"t_estadístico = {t_stat:.4f}, t_crítico = {t_critico:.4f}\")\n",
    "    \n",
    "    if np.abs(t_stat) > t_critico:\n",
    "        print(\"→ Rechazamos H0: Medias diferentes.\\n\")\n",
    "    else:\n",
    "        print(\"→ No hay evidencia para rechazar H0.\\n\")"
   ]
  },
  {
   "cell_type": "markdown",
   "metadata": {},
   "source": [
    "## 6. Verifica si estadísticamente las siguientes subcategorías tienen las mismas ventas: \n",
    "-   (a) Accessories y Phones. \n",
    "-   (b) Art y Envelopes. \n",
    "-   (c) Paper y Storage."
   ]
  },
  {
   "cell_type": "code",
   "execution_count": 115,
   "metadata": {},
   "outputs": [],
   "source": [
    "# pares_subcategorias=[\n",
    "#     ('Accessories','Phones'),\n",
    "#     ('Art','Envelopes'),\n",
    "#     ('Paper','Storage')\n",
    "# ]\n",
    "# alpha = 0.05\n",
    "# for sub_cat_1, sub_cat_2 in pares_subcategorias:\n",
    "#     ventas_sub_cat_1 = df[df['Sub-Category'] == sub_cat_1]['Sales']\n",
    "#     ventas_sub_cat_2 = df[df['Sub-Category'] == sub_cat_2]['Sales']\n",
    "#     t_stat, p_valor = stats.ttest_ind(ventas_sub_cat_1, ventas_sub_cat_2, equal_var=False)\n",
    "#     print(f\"\\nComparación entre {sub_cat_1} y {sub_cat_2}:\")\n",
    "#     print(f\"T-Statistic: {t_stat:.4f}, P-Valor: {p_valor:.4f}\")\n",
    "    \n",
    "#     if p_valor < alpha:\n",
    "#         print(f\"→ Se RECHAZA la hipótesis nula (H0). Las ventas son significativamente diferentes.\")\n",
    "#     else:\n",
    "#         print(f\"→ No hay suficiente evidencia para rechazar H0. Las ventas podrían ser iguales.\")"
   ]
  },
  {
   "cell_type": "code",
   "execution_count": 114,
   "metadata": {},
   "outputs": [
    {
     "name": "stdout",
     "output_type": "stream",
     "text": [
      "Accessories: n=161, Media=190.35, Desv=295.45\n",
      "Phones: n=176, Media=354.29, Desv=463.59\n",
      "------------------------------\n",
      "t_estadístico = -3.8314, t_crítico = 1.9671\n",
      "→ Rechazamos H0: Medias diferentes.\n",
      "\n",
      "Art: n=148, Media=37.21, Desv=99.77\n",
      "Envelopes: n=63, Media=77.17, Desv=98.98\n",
      "------------------------------\n",
      "t_estadístico = -2.6686, t_crítico = 1.9714\n",
      "→ Rechazamos H0: Medias diferentes.\n",
      "\n",
      "Paper: n=272, Media=60.30, Desv=81.33\n",
      "Storage: n=163, Media=235.10, Desv=287.92\n",
      "------------------------------\n",
      "t_estadístico = -9.4122, t_crítico = 1.9655\n",
      "→ Rechazamos H0: Medias diferentes.\n",
      "\n"
     ]
    }
   ],
   "source": [
    "pares_subcategorias=[\n",
    "    ('Accessories','Phones'),\n",
    "    ('Art','Envelopes'),\n",
    "    ('Paper','Storage')\n",
    "]\n",
    "\n",
    "alpha = 0.05\n",
    "\n",
    "for sub_cat_1, sub_cat_2 in pares_subcategorias:\n",
    "    ventas_sub_cat_1 = df[df['Sub-Category'] == sub_cat_1]['Sales']\n",
    "    ventas_sub_cat_2 = df[df['Sub-Category'] == sub_cat_2]['Sales']\n",
    "\n",
    "    n1 = len(ventas_sub_cat_1)\n",
    "    n2 = len(ventas_sub_cat_2)\n",
    "    mu1 = ventas_sub_cat_1.mean()\n",
    "    mu2 = ventas_sub_cat_2.mean()\n",
    "    s1 = ventas_sub_cat_1.std(ddof=1)\n",
    "    s2 = ventas_sub_cat_2.std(ddof=1)\n",
    "    \n",
    "    print(f\"{sub_cat_1}: n={n1}, Media={mu1:.2f}, Desv={s1:.2f}\")\n",
    "    print(f\"{sub_cat_2}: n={n2}, Media={mu2:.2f}, Desv={s2:.2f}\")\n",
    "    print('-'*30)\n",
    "\n",
    "    gl = n1 + n2 - 2 \n",
    "    \n",
    "    s_pooled = np.sqrt(((n1-1)*s1**2 + (n2-1)*s2**2) / gl)\n",
    "    t_stat = (mu1 - mu2) / (s_pooled * np.sqrt(1/n1 + 1/n2))\n",
    "    t_critico = stats.t.ppf(1 - alpha/2, gl)\n",
    "    \n",
    "    print(f\"t_estadístico = {t_stat:.4f}, t_crítico = {t_critico:.4f}\")\n",
    "    \n",
    "    if np.abs(t_stat) > t_critico:\n",
    "        print(\"→ Rechazamos H0: Medias diferentes.\\n\")\n",
    "    else:\n",
    "        print(\"→ No hay evidencia para rechazar H0.\\n\")"
   ]
  },
  {
   "cell_type": "markdown",
   "metadata": {},
   "source": [
    "## 7. En función de lo observado hacer comparaciones adicionales que considere pertinentes."
   ]
  },
  {
   "cell_type": "code",
   "execution_count": 112,
   "metadata": {},
   "outputs": [
    {
     "data": {
      "text/plain": [
       "array(['Office Supplies', 'Technology', 'Furniture'], dtype=object)"
      ]
     },
     "execution_count": 112,
     "metadata": {},
     "output_type": "execute_result"
    }
   ],
   "source": [
    "df['Category'].unique()"
   ]
  },
  {
   "cell_type": "code",
   "execution_count": null,
   "metadata": {},
   "outputs": [
    {
     "name": "stdout",
     "output_type": "stream",
     "text": [
      "\n",
      "Comparación entre Accessories y Phones:\n",
      "T-Statistic: -3.9043, P-Valor: 0.0001\n",
      "→ Se RECHAZA la hipótesis nula (H0). Las ventas son significativamente diferentes.\n",
      "\n",
      "Comparación entre Art y Envelopes:\n",
      "T-Statistic: -2.6772, P-Valor: 0.0085\n",
      "→ Se RECHAZA la hipótesis nula (H0). Las ventas son significativamente diferentes.\n",
      "\n",
      "Comparación entre Paper y Storage:\n",
      "T-Statistic: -7.5724, P-Valor: 0.0000\n",
      "→ Se RECHAZA la hipótesis nula (H0). Las ventas son significativamente diferentes.\n"
     ]
    }
   ],
   "source": [
    "# pares_categorias=[\n",
    "#     ('Office Supplies','Technology'),\n",
    "#     ('Technology','Furniture'),\n",
    "#     ('Furniture','Office Supplies')\n",
    "# ]\n",
    "# alpha = 0.05\n",
    "# for cat_1, cat_2 in pares_subcategorias:\n",
    "#     ventas_cat_1 = df[df['Sub-Category'] == cat_1]['Sales']\n",
    "#     ventas_cat_2 = df[df['Sub-Category'] == cat_2]['Sales']\n",
    "#     t_stat, p_valor = stats.ttest_ind(ventas_cat_1, ventas_cat_2, equal_var=False)\n",
    "#     print(f\"\\nComparación entre {cat_1} y {cat_2}:\")\n",
    "#     print(f\"T-Statistic: {t_stat:.4f}, P-Valor: {p_valor:.4f}\")\n",
    "    \n",
    "#     if p_valor < alpha:\n",
    "#         print(f\"→ Se RECHAZA la hipótesis nula (H0). Las ventas son significativamente diferentes.\")\n",
    "#     else:\n",
    "#         print(f\"→ No hay suficiente evidencia para rechazar H0. Las ventas podrían ser iguales.\")"
   ]
  },
  {
   "cell_type": "code",
   "execution_count": 116,
   "metadata": {},
   "outputs": [
    {
     "name": "stdout",
     "output_type": "stream",
     "text": [
      "Office Supplies: n=1197, Media=102.92, Desv=260.18\n",
      "Technology: n=381, Media=477.57, Desv=1265.37\n",
      "------------------------------\n",
      "t_estadístico = -9.6298, t_crítico = 1.9615\n",
      "→ Rechazamos H0: Medias diferentes.\n",
      "\n",
      "Technology: n=381, Media=477.57, Desv=1265.37\n",
      "Furniture: n=422, Media=356.75, Desv=494.62\n",
      "------------------------------\n",
      "t_estadístico = 1.8140, t_crítico = 1.9629\n",
      "→ No hay evidencia para rechazar H0.\n",
      "\n",
      "Furniture: n=422, Media=356.75, Desv=494.62\n",
      "Office Supplies: n=1197, Media=102.92, Desv=260.18\n",
      "------------------------------\n",
      "t_estadístico = 13.2925, t_crítico = 1.9614\n",
      "→ Rechazamos H0: Medias diferentes.\n",
      "\n"
     ]
    }
   ],
   "source": [
    "pares_categorias=[\n",
    "    ('Office Supplies','Technology'),\n",
    "    ('Technology','Furniture'),\n",
    "    ('Furniture','Office Supplies')\n",
    "]\n",
    "\n",
    "alpha = 0.05\n",
    "\n",
    "for cat_1, cat_2 in pares_categorias:\n",
    "    ventas_cat_1 = df[df['Category'] == cat_1]['Sales']\n",
    "    ventas_cat_2 = df[df['Category'] == cat_2]['Sales']\n",
    "\n",
    "    n1 = len(ventas_cat_1)\n",
    "    n2 = len(ventas_cat_2)\n",
    "    mu1 = ventas_cat_1.mean()\n",
    "    mu2 = ventas_cat_2.mean()\n",
    "    s1 = ventas_cat_1.std(ddof=1)\n",
    "    s2 = ventas_cat_2.std(ddof=1)\n",
    "    \n",
    "    print(f\"{cat_1}: n={n1}, Media={mu1:.2f}, Desv={s1:.2f}\")\n",
    "    print(f\"{cat_2}: n={n2}, Media={mu2:.2f}, Desv={s2:.2f}\")\n",
    "    print('-'*30)\n",
    "\n",
    "    gl = n1 + n2 - 2 \n",
    "    \n",
    "    s_pooled = np.sqrt(((n1-1)*s1**2 + (n2-1)*s2**2) / gl)\n",
    "    t_stat = (mu1 - mu2) / (s_pooled * np.sqrt(1/n1 + 1/n2))\n",
    "    t_critico = stats.t.ppf(1 - alpha/2, gl)\n",
    "    \n",
    "    print(f\"t_estadístico = {t_stat:.4f}, t_crítico = {t_critico:.4f}\")\n",
    "    \n",
    "    if np.abs(t_stat) > t_critico:\n",
    "        print(\"→ Rechazamos H0: Medias diferentes.\\n\")\n",
    "    else:\n",
    "        print(\"→ No hay evidencia para rechazar H0.\\n\")"
   ]
  },
  {
   "cell_type": "markdown",
   "metadata": {},
   "source": [
    "## 8. Da recomendaciones en función de lo que analizó para poner mayor énfasis de marketing en las áreas donde tenemos mejores ventas "
   ]
  },
  {
   "cell_type": "markdown",
   "metadata": {},
   "source": [
    "1. Estados:\n",
    "*   No hay diferencias significativas en ventas entre los pares analizados (ej: Washington vs Arkansas).\n",
    "\n",
    "*   Acción:\n",
    "\n",
    "*       Mantén campañas generales en estos estados.\n",
    "\n",
    "*       Monitorea nichos locales o eventos en estados con muestras pequeñas (ej: South Carolina, Montana).\n",
    "\n",
    "2. Subcategorías de Productos:\n",
    "*   Enfócate en:\n",
    "\n",
    "*       Technology (Media ≈ 477.57), Phones (≈354.29), Furniture (≈356.75) y Storage (≈235.10), que tienen ventas significativamente altas.\n",
    "\n",
    "*   Revisa estrategias en:\n",
    "\n",
    "*       Office Supplies, Art y Paper, cuyas ventas son bajas. Considera reasignar recursos si no son estratégicos.\n",
    "\n",
    "3. Recomendación Integral:\n",
    "*   **Prioriza**: Campañas segmentadas para Technology, Phones, Furniture y Storage con promociones y alianzas estratégicas.\n",
    "\n",
    "*   **Mantén vigilancia** en estados con potencial oculto (ej: Minnesota, Washington) y ajusta según tendencias emergentes."
   ]
  }
 ],
 "metadata": {
  "kernelspec": {
   "display_name": "venv",
   "language": "python",
   "name": "python3"
  },
  "language_info": {
   "codemirror_mode": {
    "name": "ipython",
    "version": 3
   },
   "file_extension": ".py",
   "mimetype": "text/x-python",
   "name": "python",
   "nbconvert_exporter": "python",
   "pygments_lexer": "ipython3",
   "version": "3.13.1"
  }
 },
 "nbformat": 4,
 "nbformat_minor": 2
}
