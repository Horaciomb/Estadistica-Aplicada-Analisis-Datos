{
 "cells": [
  {
   "cell_type": "code",
   "execution_count": 7,
   "metadata": {},
   "outputs": [],
   "source": [
    "import math\n",
    "import scipy.stats as st\n",
    "import numpy as np"
   ]
  },
  {
   "cell_type": "markdown",
   "metadata": {},
   "source": [
    "# Práctica 4"
   ]
  },
  {
   "cell_type": "markdown",
   "metadata": {},
   "source": [
    "## 1. El propietario de Britten’s Egg Farm desea calcular la cantidad media de huevos que pone cada gallina. Una muestra de 20 gallinas indica que ponen un promedio de 20 huevos al mes, con una desviación estándar de 2 huevos al mes."
   ]
  },
  {
   "cell_type": "code",
   "execution_count": 8,
   "metadata": {},
   "outputs": [],
   "source": [
    "muestra_gallinas=20\n",
    "promedio_huevos=20\n",
    "desviacion=2"
   ]
  },
  {
   "cell_type": "markdown",
   "metadata": {},
   "source": [
    "### a) ¿Cuál es el valor de la media de la población? ¿Cuál es el mejor estimador de este valor? "
   ]
  },
  {
   "cell_type": "markdown",
   "metadata": {},
   "source": [
    "El problema no tiene media de población, para este ejemplo usaremos una media muestral que en este caso será 20 huevos promedio"
   ]
  },
  {
   "cell_type": "markdown",
   "metadata": {},
   "source": [
    "### b) Explique por qué necesita utilizar la distribución t. ¿Qué suposiciones necesita hacer?"
   ]
  },
  {
   "cell_type": "markdown",
   "metadata": {},
   "source": [
    "Usamos distribución t porque nuestra muestra es pequeña (menor a 30) y porque no tenemos desviacion poblacional, solo desviacion muestral"
   ]
  },
  {
   "cell_type": "markdown",
   "metadata": {},
   "source": [
    "### c) ¿Cuál es el valor de t en un intervalo de confianza de 95%?"
   ]
  },
  {
   "cell_type": "code",
   "execution_count": 9,
   "metadata": {},
   "outputs": [
    {
     "name": "stdout",
     "output_type": "stream",
     "text": [
      "El valor t para el ejmplo dado es 2.093\n"
     ]
    }
   ],
   "source": [
    "grado_de_libertad=muestra_gallinas-1\n",
    "confianza=0.95\n",
    "alfa=0.05\n",
    "valor_t=st.t.ppf(1-alfa/2,grado_de_libertad)\n",
    "print(f'El valor t para el ejmplo dado es {round(valor_t,3)}')"
   ]
  },
  {
   "cell_type": "markdown",
   "metadata": {},
   "source": [
    "### d) Construya el intervalo de confianza de 95% de la media de población."
   ]
  },
  {
   "cell_type": "code",
   "execution_count": 10,
   "metadata": {},
   "outputs": [
    {
     "name": "stdout",
     "output_type": "stream",
     "text": [
      "Los intérvalos de cofianza al 95.0% de la media de población son: Lim Inferior 19.06 y Lim Superior 20.94\n"
     ]
    }
   ],
   "source": [
    "limite_superior=promedio_huevos + (valor_t*(desviacion/math.sqrt(muestra_gallinas)))\n",
    "limite_inferior=promedio_huevos - (valor_t*(desviacion/math.sqrt(muestra_gallinas)))\n",
    "print(f'Los intérvalos de cofianza al {confianza*100}% de la media de población son: Lim Inferior {round(limite_inferior,2)} y Lim Superior {round(limite_superior,2)}')"
   ]
  },
  {
   "cell_type": "markdown",
   "metadata": {},
   "source": [
    "### e) ¿Es razonable concluir que la media poblacional es de 21 huevos? ¿Y de 25 huevos?"
   ]
  },
  {
   "cell_type": "markdown",
   "metadata": {},
   "source": [
    "No es razonable que la media poblacional sea **ni 21 ni 25 huevos**, ya que vimos que los intervalos son máximo hasta 20.94\n",
    "-   Talvez podriamos redondear los 20.94 a 21 huevos, pero sería ser generoso con la respuesta.\n",
    "-   Para el promedio de 25 ya esta muy lejos y no podemos considerarlo"
   ]
  },
  {
   "cell_type": "markdown",
   "metadata": {},
   "source": [
    "## 2. Sean  las  siguientes  hipótesis: 𝐻0:𝜇 =100; 𝐻1: 𝜇 ≠100 ,  una  muestra aleatoria de seis elementos dio como resultado los siguientes valores: 118, 105, 112, 119, 105 y 111. ¿Puede concluir que la media poblacional es diferente de 100 con un nivel de significancia de 0.05?"
   ]
  },
  {
   "cell_type": "code",
   "execution_count": 11,
   "metadata": {},
   "outputs": [],
   "source": [
    "def desviacion_estandar_muestral(datos:np.array)->float:\n",
    "    n=len(datos)\n",
    "    u = sum(datos) / n\n",
    "\n",
    "    return math.sqrt(sum((x - u)**2 for x in datos) / (n - 1))"
   ]
  },
  {
   "cell_type": "code",
   "execution_count": 12,
   "metadata": {},
   "outputs": [
    {
     "data": {
      "text/plain": [
       "(6, 0.05, 0.95, np.float64(111.66666666666667), 6.0553007081949835)"
      ]
     },
     "execution_count": 12,
     "metadata": {},
     "output_type": "execute_result"
    }
   ],
   "source": [
    "valores=np.array([118, 105, 112, 119, 105 , 111])\n",
    "muestra=len(valores)\n",
    "alpha=0.05\n",
    "confianza=0.95\n",
    "\n",
    "media_muestral=valores.sum()/muestra\n",
    "desviacion_muestral=desviacion_estandar_muestral(valores)\n",
    "\n",
    "muestra,alpha,confianza,media_muestral,desviacion_muestral"
   ]
  },
  {
   "cell_type": "markdown",
   "metadata": {},
   "source": [
    "### a) Establezca la regla de decisión."
   ]
  },
  {
   "cell_type": "code",
   "execution_count": 13,
   "metadata": {},
   "outputs": [
    {
     "name": "stdout",
     "output_type": "stream",
     "text": [
      "Definimos que los valores críticos de decisión son -2.5706 inferior y 2.5706 superior\n"
     ]
    }
   ],
   "source": [
    "grados_de_libertad=muestra-1\n",
    "valor_critico_sup = st.t.ppf(1 - alpha/2, grados_de_libertad)\n",
    "valor_critico_inf = st.t.ppf( alpha/2, grados_de_libertad)\n",
    "print(f'Definimos que los valores críticos de decisión son {round(valor_critico_inf,4)} inferior y {round(valor_critico_sup,4)} superior')\n"
   ]
  },
  {
   "cell_type": "markdown",
   "metadata": {},
   "source": [
    "### b) Calcule el valor del estadístico de prueba."
   ]
  },
  {
   "cell_type": "code",
   "execution_count": 14,
   "metadata": {},
   "outputs": [
    {
     "name": "stdout",
     "output_type": "stream",
     "text": [
      "El valor estadístico de prueba calculado es : 4.7194\n"
     ]
    }
   ],
   "source": [
    "mu0 = 100\n",
    "\n",
    "error_estandar = desviacion_muestral / math.sqrt(muestra)\n",
    "t_estadistico = (media_muestral - mu0) / error_estandar\n",
    "print(f'El valor estadístico de prueba calculado es : {round(t_estadistico,4)}')"
   ]
  },
  {
   "cell_type": "markdown",
   "metadata": {},
   "source": [
    "### c) ¿Cuál es su decisión en lo que se refiere a la hipótesis nula?"
   ]
  },
  {
   "cell_type": "code",
   "execution_count": 15,
   "metadata": {},
   "outputs": [
    {
     "name": "stdout",
     "output_type": "stream",
     "text": [
      "Decisión: Rechazamos la hipótesis nula H0.\n"
     ]
    }
   ],
   "source": [
    "if (t_estadistico > valor_critico_sup) or (t_estadistico < valor_critico_inf):\n",
    "    print(\"Decisión: Rechazamos la hipótesis nula H0.\")\n",
    "else:\n",
    "    print(\"Decisión: No rechazamos la hipótesis nula H0.\")\n"
   ]
  },
  {
   "cell_type": "markdown",
   "metadata": {},
   "source": [
    "## 3. La familia Damon posee un viñedo grande en el oeste de Nueva York a orillas de lagoErie. Los viñedos deben fumigarse al inicio de la temporada de cultivo para protegerlos contra diversos insectos y enfermedades. Dos nuevos insecticidas acaban de salir al mercado: Pernod 5 y Action. Para probar su eficacia, se seleccionaron tres hileras y se fumigaron  con  Pernod  5,  y  otras  tres  se  fumigaron  con  Action.  Cuando  las  uvas maduraron, se revisaron 400 vides tratadas con Pernod 5 para saber si no estaban infectadas. De igual forma, se revisó una muestra de 400 vides fumigadas con Action. Los resultados son:"
   ]
  },
  {
   "cell_type": "code",
   "execution_count": 16,
   "metadata": {},
   "outputs": [
    {
     "name": "stdout",
     "output_type": "stream",
     "text": [
      "p1 (Pernod 5): 0.06\n",
      "p2 (Action): 0.1\n"
     ]
    }
   ],
   "source": [
    "muestra_Pernod5=400\n",
    "muestra_Action=400\n",
    "vides_infectadas_Pernod5=24\n",
    "vides_infectadas_Action=40\n",
    "\n",
    "insignificancia=0.05\n",
    "\n",
    "p1 = vides_infectadas_Pernod5 / muestra_Pernod5\n",
    "p2 = vides_infectadas_Action / muestra_Action\n",
    "print(\"p1 (Pernod 5):\", p1)\n",
    "print(\"p2 (Action):\", p2)"
   ]
  },
  {
   "cell_type": "markdown",
   "metadata": {},
   "source": [
    "Con un nivel de significancia de 0.05, ¿se puede concluir que existe una diferencia entre \n",
    "la  proporción  de  vides  infectadas  empleando  Pernod  5  en  comparación  con  las \n",
    "fumigadas con Action?"
   ]
  },
  {
   "cell_type": "markdown",
   "metadata": {},
   "source": [
    "Vamos a formular una hipótesis nula\n",
    "\n",
    "$$H_0: p_1 = p_2$$\n",
    "\n",
    "y una hipótesis alternativa\n",
    "\n",
    "$$H_1: p_1 \\neq p_2$$"
   ]
  },
  {
   "cell_type": "markdown",
   "metadata": {},
   "source": [
    "### a) formule la regla de decisión"
   ]
  },
  {
   "cell_type": "code",
   "execution_count": 17,
   "metadata": {},
   "outputs": [
    {
     "name": "stdout",
     "output_type": "stream",
     "text": [
      "Valor crítico z: 1.959963984540054\n"
     ]
    }
   ],
   "source": [
    "z_crit = st.norm.ppf(1 - insignificancia/2)\n",
    "print(\"Valor crítico z:\", z_crit)\n"
   ]
  },
  {
   "cell_type": "markdown",
   "metadata": {},
   "source": [
    "### b) calcule la estimación conjunta de la varianza de la población"
   ]
  },
  {
   "cell_type": "code",
   "execution_count": 19,
   "metadata": {},
   "outputs": [
    {
     "name": "stdout",
     "output_type": "stream",
     "text": [
      "Proporción conjunta: 0.08\n",
      "Error estándar conjunto: 0.01918332609325088\n"
     ]
    }
   ],
   "source": [
    "p_pool = (vides_infectadas_Pernod5 + vides_infectadas_Action) / (muestra_Pernod5 + muestra_Action)\n",
    "var_pool = p_pool * (1 - p_pool) * (1/muestra_Pernod5 + 1/muestra_Action)\n",
    "SE = math.sqrt(var_pool)\n",
    "\n",
    "print(\"Proporción conjunta:\", p_pool)\n",
    "print(\"Error estándar conjunto:\", SE)\n"
   ]
  },
  {
   "cell_type": "markdown",
   "metadata": {},
   "source": [
    "### c) calcule el estadístico de prueba"
   ]
  },
  {
   "cell_type": "code",
   "execution_count": 20,
   "metadata": {},
   "outputs": [
    {
     "name": "stdout",
     "output_type": "stream",
     "text": [
      "Estadístico z: -2.085144140570748\n"
     ]
    }
   ],
   "source": [
    "z_stat = (p1 - p2) / SE\n",
    "print(\"Estadístico z:\", z_stat)\n"
   ]
  },
  {
   "cell_type": "markdown",
   "metadata": {},
   "source": [
    "### d) tome una decisión respecto de la hipótesis nula "
   ]
  },
  {
   "cell_type": "code",
   "execution_count": 21,
   "metadata": {},
   "outputs": [
    {
     "name": "stdout",
     "output_type": "stream",
     "text": [
      "Decisión: Rechazamos H0: Existe diferencia significativa entre las proporciones.\n"
     ]
    }
   ],
   "source": [
    "if abs(z_stat) > z_crit:\n",
    "    decision = \"Rechazamos H0: Existe diferencia significativa entre las proporciones.\"\n",
    "else:\n",
    "    decision = \"No se rechaza H0: No hay evidencia suficiente de diferencia en las proporciones.\"\n",
    "    \n",
    "print(\"Decisión:\", decision)"
   ]
  }
 ],
 "metadata": {
  "kernelspec": {
   "display_name": "venv",
   "language": "python",
   "name": "python3"
  },
  "language_info": {
   "codemirror_mode": {
    "name": "ipython",
    "version": 3
   },
   "file_extension": ".py",
   "mimetype": "text/x-python",
   "name": "python",
   "nbconvert_exporter": "python",
   "pygments_lexer": "ipython3",
   "version": "3.13.1"
  }
 },
 "nbformat": 4,
 "nbformat_minor": 2
}
