{
 "cells": [
  {
   "cell_type": "code",
   "execution_count": 1,
   "metadata": {},
   "outputs": [],
   "source": [
    "import math\n",
    "import scipy.stats as st\n",
    "import numpy as np"
   ]
  },
  {
   "cell_type": "markdown",
   "metadata": {},
   "source": [
    "# Práctica 4"
   ]
  },
  {
   "cell_type": "markdown",
   "metadata": {},
   "source": [
    "## 1. El propietario de Britten’s Egg Farm desea calcular la cantidad media de huevos que pone cada gallina. Una muestra de 20 gallinas indica que ponen un promedio de 20 huevos al mes, con una desviación estándar de 2 huevos al mes."
   ]
  },
  {
   "cell_type": "code",
   "execution_count": 2,
   "metadata": {},
   "outputs": [],
   "source": [
    "muestra_gallinas=20\n",
    "promedio_huevos=20\n",
    "desviacion=2"
   ]
  },
  {
   "cell_type": "markdown",
   "metadata": {},
   "source": [
    "### a) ¿Cuál es el valor de la media de la población? ¿Cuál es el mejor estimador de este valor? "
   ]
  },
  {
   "cell_type": "markdown",
   "metadata": {},
   "source": [
    "El problema no tiene media de población, para este ejemplo usaremos una media muestral que en este caso será 20 huevos promedio"
   ]
  },
  {
   "cell_type": "markdown",
   "metadata": {},
   "source": [
    "### b) Explique por qué necesita utilizar la distribución t. ¿Qué suposiciones necesita hacer?"
   ]
  },
  {
   "cell_type": "markdown",
   "metadata": {},
   "source": [
    "Usamos distribución t porque nuestra muestra es pequeña (menor a 30) y porque no tenemos desviacion poblacional, solo desviacion muestral"
   ]
  },
  {
   "cell_type": "markdown",
   "metadata": {},
   "source": [
    "### c) ¿Cuál es el valor de t en un intervalo de confianza de 95%?"
   ]
  },
  {
   "cell_type": "code",
   "execution_count": 3,
   "metadata": {},
   "outputs": [
    {
     "name": "stdout",
     "output_type": "stream",
     "text": [
      "El valor t para el ejmplo dado es 2.093\n"
     ]
    }
   ],
   "source": [
    "grado_de_libertad=muestra_gallinas-1\n",
    "confianza=0.95\n",
    "alfa=0.05\n",
    "valor_t=st.t.ppf(1-alfa/2,grado_de_libertad)\n",
    "print(f'El valor t para el ejmplo dado es {round(valor_t,3)}')"
   ]
  },
  {
   "cell_type": "markdown",
   "metadata": {},
   "source": [
    "### d) Construya el intervalo de confianza de 95% de la media de población."
   ]
  },
  {
   "cell_type": "code",
   "execution_count": 4,
   "metadata": {},
   "outputs": [
    {
     "name": "stdout",
     "output_type": "stream",
     "text": [
      "Los intérvalos de cofianza al 95.0% de la media de población son: Lim Inferior 19.06 y Lim Superior 20.94\n"
     ]
    }
   ],
   "source": [
    "limite_superior=promedio_huevos + (valor_t*(desviacion/math.sqrt(muestra_gallinas)))\n",
    "limite_inferior=promedio_huevos - (valor_t*(desviacion/math.sqrt(muestra_gallinas)))\n",
    "print(f'Los intérvalos de cofianza al {confianza*100}% de la media de población son: Lim Inferior {round(limite_inferior,2)} y Lim Superior {round(limite_superior,2)}')"
   ]
  },
  {
   "cell_type": "markdown",
   "metadata": {},
   "source": [
    "### e) ¿Es razonable concluir que la media poblacional es de 21 huevos? ¿Y de 25 huevos?"
   ]
  },
  {
   "cell_type": "markdown",
   "metadata": {},
   "source": [
    "No es razonable que la media poblacional sea **ni 21 ni 25 huevos**, ya que vimos que los intervalos son máximo hasta 20.94\n",
    "-   Talvez podriamos redondear los 20.94 a 21 huevos, pero sería ser generoso con la respuesta.\n",
    "-   Para el promedio de 25 ya esta muy lejos y no podemos considerarlo"
   ]
  },
  {
   "cell_type": "markdown",
   "metadata": {},
   "source": [
    "## 2. Sean  las  siguientes  hipótesis: 𝐻0:𝜇 =100; 𝐻1: 𝜇 ≠100 ,  una  muestra aleatoria de seis elementos dio como resultado los siguientes valores: 118, 105, 112, 119, 105 y 111. ¿Puede concluir que la media poblacional es diferente de 100 con un nivel de significancia de 0.05?"
   ]
  },
  {
   "cell_type": "code",
   "execution_count": 5,
   "metadata": {},
   "outputs": [],
   "source": [
    "def desviacion_estandar_muestral(datos:np.array)->float:\n",
    "    n=len(datos)\n",
    "    u = sum(datos) / n\n",
    "\n",
    "    return math.sqrt(sum((x - u)**2 for x in datos) / (n - 1))"
   ]
  },
  {
   "cell_type": "code",
   "execution_count": 6,
   "metadata": {},
   "outputs": [
    {
     "data": {
      "text/plain": [
       "(6, 0.05, 0.95, np.float64(111.66666666666667), 6.0553007081949835)"
      ]
     },
     "execution_count": 6,
     "metadata": {},
     "output_type": "execute_result"
    }
   ],
   "source": [
    "valores=np.array([118, 105, 112, 119, 105 , 111])\n",
    "muestra=len(valores)\n",
    "alpha=0.05\n",
    "confianza=0.95\n",
    "\n",
    "media_muestral=valores.sum()/muestra\n",
    "desviacion_muestral=desviacion_estandar_muestral(valores)\n",
    "\n",
    "muestra,alpha,confianza,media_muestral,desviacion_muestral"
   ]
  },
  {
   "cell_type": "markdown",
   "metadata": {},
   "source": [
    "### a) Establezca la regla de decisión."
   ]
  },
  {
   "cell_type": "code",
   "execution_count": 11,
   "metadata": {},
   "outputs": [
    {
     "name": "stdout",
     "output_type": "stream",
     "text": [
      "Definimos que los valores críticos de decisión son -2.5706 inferior y 2.5706 superior\n"
     ]
    }
   ],
   "source": [
    "grados_de_libertad=muestra-1\n",
    "valor_critico_sup = st.t.ppf(1 - alpha/2, grados_de_libertad)\n",
    "valor_critico_inf = st.t.ppf( alpha/2, grados_de_libertad)\n",
    "print(f'Definimos que los valores críticos de decisión son {round(valor_critico_inf,4)} inferior y {round(valor_critico_sup,4)} superior')\n"
   ]
  },
  {
   "cell_type": "markdown",
   "metadata": {},
   "source": [
    "### b) Calcule el valor del estadístico de prueba."
   ]
  },
  {
   "cell_type": "code",
   "execution_count": 13,
   "metadata": {},
   "outputs": [
    {
     "name": "stdout",
     "output_type": "stream",
     "text": [
      "El valor estadístico de prueba calculado es : 4.7194\n"
     ]
    }
   ],
   "source": [
    "mu0 = 100\n",
    "\n",
    "error_estandar = desviacion_muestral / math.sqrt(muestra)\n",
    "t_estadistico = (media_muestral - mu0) / error_estandar\n",
    "print(f'El valor estadístico de prueba calculado es : {round(t_estadistico,4)}')"
   ]
  },
  {
   "cell_type": "markdown",
   "metadata": {},
   "source": [
    "### c) ¿Cuál es su decisión en lo que se refiere a la hipótesis nula?"
   ]
  },
  {
   "cell_type": "code",
   "execution_count": 20,
   "metadata": {},
   "outputs": [
    {
     "name": "stdout",
     "output_type": "stream",
     "text": [
      "Decisión: Rechazamos la hipótesis nula H0.\n"
     ]
    }
   ],
   "source": [
    "if (t_estadistico > valor_critico_sup) or (t_estadistico < valor_critico_inf):\n",
    "    print(\"Decisión: Rechazamos la hipótesis nula H0.\")\n",
    "else:\n",
    "    print(\"Decisión: No rechazamos la hipótesis nula H0.\")\n"
   ]
  }
 ],
 "metadata": {
  "kernelspec": {
   "display_name": "venv",
   "language": "python",
   "name": "python3"
  },
  "language_info": {
   "codemirror_mode": {
    "name": "ipython",
    "version": 3
   },
   "file_extension": ".py",
   "mimetype": "text/x-python",
   "name": "python",
   "nbconvert_exporter": "python",
   "pygments_lexer": "ipython3",
   "version": "3.13.1"
  }
 },
 "nbformat": 4,
 "nbformat_minor": 2
}
