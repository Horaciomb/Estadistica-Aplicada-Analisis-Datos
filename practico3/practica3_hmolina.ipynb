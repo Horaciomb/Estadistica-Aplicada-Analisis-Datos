{
 "cells": [
  {
   "cell_type": "code",
   "execution_count": null,
   "metadata": {},
   "outputs": [],
   "source": [
    "import numpy as np\n",
    "import scipy.stats as st\n",
    "import math as ma"
   ]
  },
  {
   "cell_type": "markdown",
   "metadata": {},
   "source": [
    "# TRABAJO 3 DISTRIBUCIONES \n",
    " \n",
    "-   **RESUELVA LOS SIGUIENTES EJERCICIOS EN PYTHON**"
   ]
  },
  {
   "cell_type": "markdown",
   "metadata": {},
   "source": [
    "## 1. En un estudio reciente se descubrió que 90% de las familias tiene televisores de  pantalla  grande.  En  una  muestra  de  nueve  familias,  ¿cuál  es  la probabilidad de que:"
   ]
  },
  {
   "cell_type": "code",
   "execution_count": null,
   "metadata": {},
   "outputs": [],
   "source": [
    "probabilidad_de_tener_pantalla_grande=0.9\n",
    "probabilidad_de_NO_tener_pantalla_grande=1-probabilidad_de_tener_pantalla_grande\n",
    "muestra_familias=9\n",
    "## Como las prguntas son de tener o no tener pantalla grande, usareé una distribución binomial"
   ]
  },
  {
   "cell_type": "markdown",
   "metadata": {},
   "source": [
    "### a) las nueve tengan televisores de pantalla grande? "
   ]
  },
  {
   "cell_type": "code",
   "execution_count": null,
   "metadata": {},
   "outputs": [],
   "source": [
    "cantidad_de_familias=9\n",
    "prob_a=st.binom.pmf(9,muestra_familias,probabilidad_de_tener_pantalla_grande)\n",
    "print(f'La probabilida que {cantidad_de_familias} familias tengan su televisor grande es de {round(prob_a,4)*100} %')"
   ]
  },
  {
   "cell_type": "markdown",
   "metadata": {},
   "source": [
    "### b) menos de cinco tengan televisores de pantalla grande? "
   ]
  },
  {
   "cell_type": "code",
   "execution_count": null,
   "metadata": {},
   "outputs": [],
   "source": [
    "cantidad_de_familias=5\n",
    "prob_b=st.binom.cdf(cantidad_de_familias-1.,muestra_familias,probabilidad_de_tener_pantalla_grande)\n",
    "print(f'La probabilida de que menos de {cantidad_de_familias} familias tengan un televisor grande es de {round(prob_b,5)*100}%')"
   ]
  },
  {
   "cell_type": "markdown",
   "metadata": {},
   "source": [
    "### c) más de cinco tengan televisores de pantalla grande?"
   ]
  },
  {
   "cell_type": "code",
   "execution_count": null,
   "metadata": {},
   "outputs": [],
   "source": [
    "cantidad_de_familias =5\n",
    "prob_c=1-st.binom.cdf(\n",
    "    cantidad_de_familias,\n",
    "    muestra_familias,\n",
    "    probabilidad_de_tener_pantalla_grande\n",
    ")\n",
    "print(f'La probabilida que más de {cantidad_de_familias} familias tengan un televisor grande es de {round(prob_c,4)*100}%')"
   ]
  },
  {
   "cell_type": "markdown",
   "metadata": {},
   "source": [
    "### d) al menos siete familias tengan televisores de pantalla grande? "
   ]
  },
  {
   "cell_type": "code",
   "execution_count": null,
   "metadata": {},
   "outputs": [],
   "source": [
    "cantiadad_familias=7\n",
    "prob_d=1-st.binom.cdf(\n",
    "    cantiadad_familias-1,\n",
    "    muestra_familias,\n",
    "    probabilidad_de_tener_pantalla_grande\n",
    ")\n",
    "print(f'La probabilidad de que al menos {cantiadad_familias} familias tengan pantalla grande es de {round(prob_d,4)*100}%')"
   ]
  },
  {
   "cell_type": "markdown",
   "metadata": {},
   "source": [
    "## 2.  Un  estudio  reciente  con  respecto  a  salarios  por  hora  de  integrantes  de equipos de mantenimiento de las aerolíneas más importantes demostró que el salario medio por hora era de $20.50, con una desviación estándar de $3.50. Suponga que la distribución de los salarios por hora es una distribución de probabilidad normal. Si elige un integrante de un equipo al azar, ¿cuál es la probabilidad de que gane:"
   ]
  }
 ],
 "metadata": {
  "kernelspec": {
   "display_name": "venv",
   "language": "python",
   "name": "python3"
  },
  "language_info": {
   "codemirror_mode": {
    "name": "ipython",
    "version": 3
   },
   "file_extension": ".py",
   "mimetype": "text/x-python",
   "name": "python",
   "nbconvert_exporter": "python",
   "pygments_lexer": "ipython3",
   "version": "3.13.1"
  }
 },
 "nbformat": 4,
 "nbformat_minor": 2
}
