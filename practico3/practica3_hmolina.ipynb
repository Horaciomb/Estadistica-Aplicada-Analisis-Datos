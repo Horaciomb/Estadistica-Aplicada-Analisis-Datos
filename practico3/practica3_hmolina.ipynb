{
 "cells": [
  {
   "cell_type": "code",
   "execution_count": 12,
   "metadata": {},
   "outputs": [],
   "source": [
    "import numpy as np\n",
    "import scipy.stats as st\n",
    "import math as ma"
   ]
  },
  {
   "cell_type": "markdown",
   "metadata": {},
   "source": [
    "# TRABAJO 3 DISTRIBUCIONES \n",
    " \n",
    "-   **RESUELVA LOS SIGUIENTES EJERCICIOS EN PYTHON**"
   ]
  },
  {
   "cell_type": "markdown",
   "metadata": {},
   "source": [
    "## 1. En un estudio reciente se descubrió que 90% de las familias tiene televisores de  pantalla  grande.  En  una  muestra  de  nueve  familias,  ¿cuál  es  la probabilidad de que:"
   ]
  },
  {
   "cell_type": "code",
   "execution_count": 4,
   "metadata": {},
   "outputs": [],
   "source": [
    "probabilidad_de_tener_pantalla_grande=0.9\n",
    "probabilidad_de_NO_tener_pantalla_grande=1-probabilidad_de_tener_pantalla_grande\n",
    "muestra_familias=9\n",
    "## Como las prguntas son de tener o no tener pantalla grande, usareé una distribución binomial"
   ]
  },
  {
   "cell_type": "markdown",
   "metadata": {},
   "source": [
    "### a) las nueve tengan televisores de pantalla grande? "
   ]
  },
  {
   "cell_type": "code",
   "execution_count": 5,
   "metadata": {},
   "outputs": [
    {
     "name": "stdout",
     "output_type": "stream",
     "text": [
      "La probabilida que 9 familias tengan su televisor grande es de 38.74 %\n"
     ]
    }
   ],
   "source": [
    "cantidad_de_familias=9\n",
    "prob_a=st.binom.pmf(9,muestra_familias,probabilidad_de_tener_pantalla_grande)\n",
    "print(f'La probabilida que {cantidad_de_familias} familias tengan su televisor grande es de {round(prob_a,4)*100} %')"
   ]
  },
  {
   "cell_type": "markdown",
   "metadata": {},
   "source": [
    "### b) menos de cinco tengan televisores de pantalla grande? "
   ]
  },
  {
   "cell_type": "code",
   "execution_count": 6,
   "metadata": {},
   "outputs": [
    {
     "name": "stdout",
     "output_type": "stream",
     "text": [
      "La probabilida de que menos de 5 familias tengan un televisor grande es de 0.089%\n"
     ]
    }
   ],
   "source": [
    "cantidad_de_familias=5\n",
    "prob_b=st.binom.cdf(cantidad_de_familias-1.,muestra_familias,probabilidad_de_tener_pantalla_grande)\n",
    "print(f'La probabilida de que menos de {cantidad_de_familias} familias tengan un televisor grande es de {round(prob_b,5)*100}%')"
   ]
  },
  {
   "cell_type": "markdown",
   "metadata": {},
   "source": [
    "### c) más de cinco tengan televisores de pantalla grande?"
   ]
  },
  {
   "cell_type": "code",
   "execution_count": 7,
   "metadata": {},
   "outputs": [
    {
     "name": "stdout",
     "output_type": "stream",
     "text": [
      "La probabilida que más de 5 familias tengan un televisor grande es de 99.17%\n"
     ]
    }
   ],
   "source": [
    "cantidad_de_familias =5\n",
    "prob_c=1-st.binom.cdf(\n",
    "    cantidad_de_familias,\n",
    "    muestra_familias,\n",
    "    probabilidad_de_tener_pantalla_grande\n",
    ")\n",
    "print(f'La probabilida que más de {cantidad_de_familias} familias tengan un televisor grande es de {round(prob_c,4)*100}%')"
   ]
  },
  {
   "cell_type": "markdown",
   "metadata": {},
   "source": [
    "### d) al menos siete familias tengan televisores de pantalla grande? "
   ]
  },
  {
   "cell_type": "code",
   "execution_count": 8,
   "metadata": {},
   "outputs": [
    {
     "name": "stdout",
     "output_type": "stream",
     "text": [
      "La probabilidad de que al menos 7 familias tengan pantalla grande es de 94.69999999999999%\n"
     ]
    }
   ],
   "source": [
    "cantiadad_familias=7\n",
    "prob_d=1-st.binom.cdf(\n",
    "    cantiadad_familias-1,\n",
    "    muestra_familias,\n",
    "    probabilidad_de_tener_pantalla_grande\n",
    ")\n",
    "print(f'La probabilidad de que al menos {cantiadad_familias} familias tengan pantalla grande es de {round(prob_d,4)*100}%')"
   ]
  },
  {
   "cell_type": "markdown",
   "metadata": {},
   "source": [
    "## 2.  Un  estudio  reciente  con  respecto  a  salarios  por  hora  de  integrantes  de equipos de mantenimiento de las aerolíneas más importantes demostró que el salario medio por hora era de $20.50, con una desviación estándar de $3.50. Suponga que la distribución de los salarios por hora es una distribución de probabilidad normal. Si elige un integrante de un equipo al azar, ¿cuál es la probabilidad de que gane:"
   ]
  },
  {
   "cell_type": "code",
   "execution_count": 9,
   "metadata": {},
   "outputs": [],
   "source": [
    "media_salarios_hora=20.5\n",
    "desvicacion=3.5"
   ]
  },
  {
   "cell_type": "markdown",
   "metadata": {},
   "source": [
    "### a) entre $20.50 y $24.00 la hora? "
   ]
  },
  {
   "cell_type": "code",
   "execution_count": 22,
   "metadata": {},
   "outputs": [
    {
     "name": "stdout",
     "output_type": "stream",
     "text": [
      "La probabilidad que el empleado gane entre 20.5$ y 24$ es de 34.13%\n"
     ]
    }
   ],
   "source": [
    "valor_mayor=24\n",
    "valor_menor=20.5\n",
    "prob_24=st.norm.cdf(valor_mayor,media_salarios_hora,desvicacion)\n",
    "prob_20_50=st.norm.cdf(valor_menor,media_salarios_hora,desvicacion)\n",
    "prob_a=prob_24-prob_20_50\n",
    "print(f'La probabilidad que el empleado gane entre {valor_menor}$ y {valor_mayor}$ es de {round(prob_a,4)*100}%')"
   ]
  },
  {
   "cell_type": "markdown",
   "metadata": {},
   "source": [
    "### b) más de $24.00 la hora?"
   ]
  },
  {
   "cell_type": "code",
   "execution_count": 37,
   "metadata": {},
   "outputs": [
    {
     "name": "stdout",
     "output_type": "stream",
     "text": [
      "La probabilida que el empleado gane más de 24$ es de 16.0%\n"
     ]
    }
   ],
   "source": [
    "valor_a_bucsar=24\n",
    "prob_b=1-st.norm.cdf(valor_a_bucsar,media_salarios_hora,desvicacion)\n",
    "print(f'La probabilida que el empleado gane más de {valor_a_bucsar}$ es de {round(prob_b,2)*100}%')"
   ]
  },
  {
   "cell_type": "markdown",
   "metadata": {},
   "source": [
    "### c) menos de $19.00 la hora?"
   ]
  },
  {
   "cell_type": "code",
   "execution_count": 36,
   "metadata": {},
   "outputs": [
    {
     "name": "stdout",
     "output_type": "stream",
     "text": [
      "La probabilidad de que el empleado gane menos de 24$ es de 33.0%\n"
     ]
    }
   ],
   "source": [
    "valor_a_buscar=19\n",
    "prob_c=st.norm.cdf(valor_a_buscar,media_salarios_hora,desvicacion)\n",
    "print(f'La probabilidad de que el empleado gane menos de {valor_a_bucsar}$ es de {round(prob_c,2)*100}%')"
   ]
  }
 ],
 "metadata": {
  "kernelspec": {
   "display_name": "venv",
   "language": "python",
   "name": "python3"
  },
  "language_info": {
   "codemirror_mode": {
    "name": "ipython",
    "version": 3
   },
   "file_extension": ".py",
   "mimetype": "text/x-python",
   "name": "python",
   "nbconvert_exporter": "python",
   "pygments_lexer": "ipython3",
   "version": "3.13.1"
  }
 },
 "nbformat": 4,
 "nbformat_minor": 2
}
