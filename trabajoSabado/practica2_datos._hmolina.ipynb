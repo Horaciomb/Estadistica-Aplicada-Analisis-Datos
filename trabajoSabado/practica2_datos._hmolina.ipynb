{
 "cells": [
  {
   "cell_type": "code",
   "execution_count": 1,
   "metadata": {},
   "outputs": [],
   "source": [
    "import numpy as np # Principales funciones matemáticas (sobre todo para vectores)\n",
    "import matplotlib.pyplot as plt # Para graficar\n",
    "import math as ma # Más funciones matemáticas\n",
    "import pandas as pd # Para manejo de datasets"
   ]
  },
  {
   "cell_type": "code",
   "execution_count": 2,
   "metadata": {},
   "outputs": [],
   "source": [
    "total_encuestados = 500\n",
    "peliculas_vistas = {\n",
    "    '0': 80,\n",
    "    '1': 120,\n",
    "    '2': 90,\n",
    "    '3': 70,\n",
    "    '4': 50,\n",
    "    '5': 40,\n",
    "    '6 o más': 50\n",
    "}\n",
    "edad_60_o_mas = 100  # Total de personas de 60 años o más\n",
    "edad_60_o_mas_y_6omas = 10  # Personas de 60+ años que vieron 6+ películas\n"
   ]
  }
 ],
 "metadata": {
  "kernelspec": {
   "display_name": "venv",
   "language": "python",
   "name": "python3"
  },
  "language_info": {
   "codemirror_mode": {
    "name": "ipython",
    "version": 3
   },
   "file_extension": ".py",
   "mimetype": "text/x-python",
   "name": "python",
   "nbconvert_exporter": "python",
   "pygments_lexer": "ipython3",
   "version": "3.13.1"
  }
 },
 "nbformat": 4,
 "nbformat_minor": 2
}
