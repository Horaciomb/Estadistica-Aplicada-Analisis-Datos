{
 "cells": [
  {
   "cell_type": "code",
   "execution_count": 1,
   "metadata": {},
   "outputs": [],
   "source": [
    "import numpy as np # Principales funciones matemáticas (sobre todo para vectores)\n",
    "import matplotlib.pyplot as plt # Para graficar\n",
    "import math as ma # Más funciones matemáticas\n",
    "import pandas as pd # Para manejo de datasets"
   ]
  },
  {
   "cell_type": "markdown",
   "metadata": {},
   "source": [
    "# 1. El  mes  anterior  la  Asociación  Nacional  de  Administradores  de  Salas Cinematográficas realizó una encuesta entre 500 adultos seleccionados al azar. \n",
    "### La  encuesta  preguntaba  a  las  personas  su  edad  y  el  número  de películas  que  habían  visto  en  el  cine  en  el  mes.  La  asociación  está interesada en entender las probabilidades de que un adulto vaya a ver una película al cine especialmente  en  el  caso de  adultos  mayores de  60 años. Esta  información  es  útil  para  tomar  decisiones  con  respecto  a  los descuentos en boletos y concesiones para los mayores El resultado fue el siguiente: "
   ]
  },
  {
   "cell_type": "code",
   "execution_count": 2,
   "metadata": {},
   "outputs": [
    {
     "data": {
      "text/plain": [
       "{'B1': 'Menos de 30', 'B2': '30 hasta 60', 'B3': '60 o más'}"
      ]
     },
     "execution_count": 2,
     "metadata": {},
     "output_type": "execute_result"
    }
   ],
   "source": [
    "dict_edad={\n",
    "    'B1': 'Menos de 30',\n",
    "    'B2':'30 hasta 60',\n",
    "    'B3':'60 o más'\n",
    "}\n",
    "dict_edad"
   ]
  },
  {
   "cell_type": "code",
   "execution_count": 3,
   "metadata": {},
   "outputs": [
    {
     "data": {
      "text/plain": [
       "{'A1': '0 películas',\n",
       " 'A2': '1 o 2 películas',\n",
       " 'A3': '3, 4 o 5 películas',\n",
       " 'A4': '6 o más películas'}"
      ]
     },
     "execution_count": 3,
     "metadata": {},
     "output_type": "execute_result"
    }
   ],
   "source": [
    "dict_peliculas_mes={\n",
    "    'A1':'0 películas',\n",
    "    'A2':'1 o 2 películas',\n",
    "    'A3':'3, 4 o 5 películas',\n",
    "    'A4':'6 o más películas'\n",
    "}\n",
    "dict_peliculas_mes"
   ]
  },
  {
   "cell_type": "code",
   "execution_count": 4,
   "metadata": {},
   "outputs": [
    {
     "data": {
      "application/vnd.microsoft.datawrangler.viewer.v0+json": {
       "columns": [
        {
         "name": "index",
         "rawType": "object",
         "type": "string"
        },
        {
         "name": "B1",
         "rawType": "int64",
         "type": "integer"
        },
        {
         "name": "B2",
         "rawType": "int64",
         "type": "integer"
        },
        {
         "name": "B3",
         "rawType": "int64",
         "type": "integer"
        },
        {
         "name": "Total",
         "rawType": "int64",
         "type": "integer"
        }
       ],
       "conversionMethod": "pd.DataFrame",
       "ref": "eebe8e3c-935e-4124-bf4b-ba9f1285d87e",
       "rows": [
        [
         "A1",
         "15",
         "50",
         "10",
         "75"
        ],
        [
         "A2",
         "25",
         "100",
         "75",
         "200"
        ],
        [
         "A3",
         "55",
         "60",
         "60",
         "175"
        ],
        [
         "A4",
         "5",
         "15",
         "30",
         "50"
        ]
       ],
       "shape": {
        "columns": 4,
        "rows": 4
       }
      },
      "text/html": [
       "<div>\n",
       "<style scoped>\n",
       "    .dataframe tbody tr th:only-of-type {\n",
       "        vertical-align: middle;\n",
       "    }\n",
       "\n",
       "    .dataframe tbody tr th {\n",
       "        vertical-align: top;\n",
       "    }\n",
       "\n",
       "    .dataframe thead th {\n",
       "        text-align: right;\n",
       "    }\n",
       "</style>\n",
       "<table border=\"1\" class=\"dataframe\">\n",
       "  <thead>\n",
       "    <tr style=\"text-align: right;\">\n",
       "      <th></th>\n",
       "      <th>B1</th>\n",
       "      <th>B2</th>\n",
       "      <th>B3</th>\n",
       "      <th>Total</th>\n",
       "    </tr>\n",
       "  </thead>\n",
       "  <tbody>\n",
       "    <tr>\n",
       "      <th>A1</th>\n",
       "      <td>15</td>\n",
       "      <td>50</td>\n",
       "      <td>10</td>\n",
       "      <td>75</td>\n",
       "    </tr>\n",
       "    <tr>\n",
       "      <th>A2</th>\n",
       "      <td>25</td>\n",
       "      <td>100</td>\n",
       "      <td>75</td>\n",
       "      <td>200</td>\n",
       "    </tr>\n",
       "    <tr>\n",
       "      <th>A3</th>\n",
       "      <td>55</td>\n",
       "      <td>60</td>\n",
       "      <td>60</td>\n",
       "      <td>175</td>\n",
       "    </tr>\n",
       "    <tr>\n",
       "      <th>A4</th>\n",
       "      <td>5</td>\n",
       "      <td>15</td>\n",
       "      <td>30</td>\n",
       "      <td>50</td>\n",
       "    </tr>\n",
       "  </tbody>\n",
       "</table>\n",
       "</div>"
      ],
      "text/plain": [
       "    B1   B2  B3  Total\n",
       "A1  15   50  10     75\n",
       "A2  25  100  75    200\n",
       "A3  55   60  60    175\n",
       "A4   5   15  30     50"
      ]
     },
     "execution_count": 4,
     "metadata": {},
     "output_type": "execute_result"
    }
   ],
   "source": [
    "total_encuestados = 500\n",
    "b1=np.array([15,25,55,5])\n",
    "b2=np.array([50,100,60,15])\n",
    "b3=np.array([10,75,60,30])\n",
    "index=['A1', 'A2', 'A3','A4']\n",
    "df = pd.DataFrame({\n",
    "    'B1': b1,\n",
    "    'B2': b2,\n",
    "    'B3': b3\n",
    "}, index=index)\n",
    "df['Total']=df.B1+df.B2+df.B3\n",
    "df"
   ]
  },
  {
   "cell_type": "markdown",
   "metadata": {},
   "source": [
    "# Determine la probabilidad de seleccionar un adulto que vio: \n"
   ]
  },
  {
   "cell_type": "markdown",
   "metadata": {},
   "source": [
    "## I. 6 o más películas por mes \n"
   ]
  },
  {
   "cell_type": "code",
   "execution_count": 5,
   "metadata": {},
   "outputs": [
    {
     "name": "stdout",
     "output_type": "stream",
     "text": [
      "I. Probabilidad de seleccionar un adulto que vio 6 o más películas por mes: 10.00%\n"
     ]
    }
   ],
   "source": [
    "prob_6_o_mas_peliculas = df.loc['A4', 'Total'] / total_encuestados*100\n",
    "print(f\"I. Probabilidad de seleccionar un adulto que vio 6 o más películas por mes: {prob_6_o_mas_peliculas:.2f}%\")"
   ]
  },
  {
   "cell_type": "markdown",
   "metadata": {},
   "source": [
    "## II. 2 o menos películas por mes \n"
   ]
  },
  {
   "cell_type": "code",
   "execution_count": 6,
   "metadata": {},
   "outputs": [
    {
     "name": "stdout",
     "output_type": "stream",
     "text": [
      "II. Probabilidad de seleccionar un adulto que vio 2 o menos películas por mes: 55.00%\n"
     ]
    }
   ],
   "source": [
    "prob_2_o_menos_peliculas = (df.loc['A1', 'Total'] + df.loc['A2', 'Total']) / total_encuestados*100\n",
    "print(f\"II. Probabilidad de seleccionar un adulto que vio 2 o menos películas por mes: {prob_2_o_menos_peliculas:.2f}%\")"
   ]
  },
  {
   "cell_type": "markdown",
   "metadata": {},
   "source": [
    "## III. 6 o más películas por mes o tiene 60 años o más \n"
   ]
  },
  {
   "cell_type": "code",
   "execution_count": 7,
   "metadata": {},
   "outputs": [
    {
     "name": "stdout",
     "output_type": "stream",
     "text": [
      "III. Probabilidad de seleccionar un adulto que vio 6 o más películas por mes o tiene 60 años o más: 39.00%\n"
     ]
    }
   ],
   "source": [
    "personas_6_o_mas_peliculas = df.loc['A4', 'Total']\n",
    "personas_60_o_mas = df.B3.sum()\n",
    "personas_6_o_mas_peliculas_y_60_o_mas = df.loc['A4', 'B3']\n",
    "prob_6_o_mas_peliculas_o_60_o_mas = (personas_6_o_mas_peliculas + personas_60_o_mas - personas_6_o_mas_peliculas_y_60_o_mas) / total_encuestados*100\n",
    "print(f\"III. Probabilidad de seleccionar un adulto que vio 6 o más películas por mes o tiene 60 años o más: {prob_6_o_mas_peliculas_o_60_o_mas:.2f}%\")"
   ]
  },
  {
   "cell_type": "markdown",
   "metadata": {},
   "source": [
    "## IV. 6 o más películas por mes dado que la persona tiene 60 años o más \n"
   ]
  },
  {
   "cell_type": "code",
   "execution_count": 8,
   "metadata": {},
   "outputs": [
    {
     "name": "stdout",
     "output_type": "stream",
     "text": [
      "IV. Probabilidad de seleccionar un adulto que vio 6 o más películas por mes dado que la persona tiene 60 años o más: 17.14%\n"
     ]
    }
   ],
   "source": [
    "total_60_o_mas = df.B3.sum()\n",
    "prob_6_o_mas_peliculas_dado_60_o_mas = df.loc['A4', 'B3'] / total_60_o_mas*100\n",
    "print(f\"IV. Probabilidad de seleccionar un adulto que vio 6 o más películas por mes dado que la persona tiene 60 años o más: {prob_6_o_mas_peliculas_dado_60_o_mas:.2f}%\")"
   ]
  },
  {
   "cell_type": "markdown",
   "metadata": {},
   "source": [
    "## V. 6 o más películas por mes y tiene 60 años o más"
   ]
  },
  {
   "cell_type": "code",
   "execution_count": 9,
   "metadata": {},
   "outputs": [
    {
     "name": "stdout",
     "output_type": "stream",
     "text": [
      "V. Probabilidad de seleccionar un adulto que vio 6 o más películas por mes y tiene 60 años o más: 6.00%\n"
     ]
    }
   ],
   "source": [
    "prob_6_o_mas_peliculas_y_60_o_mas = df.loc['A4', 'B3'] / total_encuestados*100\n",
    "print(f\"V. Probabilidad de seleccionar un adulto que vio 6 o más películas por mes y tiene 60 años o más: {prob_6_o_mas_peliculas_y_60_o_mas:.2f}%\")"
   ]
  },
  {
   "cell_type": "code",
   "execution_count": 10,
   "metadata": {},
   "outputs": [],
   "source": [
    "from math import comb\n"
   ]
  },
  {
   "cell_type": "markdown",
   "metadata": {},
   "source": [
    "## 1. Un  encuestador  seleccionó  en  forma  aleatoria  a  4  de  10  personas disponibles. ¿Cuántos diferentes grupos de 4 es posible formar? "
   ]
  },
  {
   "cell_type": "markdown",
   "metadata": {},
   "source": [
    "Para este ejercicio se debe usar la formula de combinaciones con la formula:\n",
    "$$C(10,4)=\\frac{10!}{(10-4)!4!}$$\n",
    "y para facilitar el cálculo usamos la funcoin comb de la librería math"
   ]
  },
  {
   "cell_type": "code",
   "execution_count": 11,
   "metadata": {},
   "outputs": [
    {
     "name": "stdout",
     "output_type": "stream",
     "text": [
      "Número de formas de seleccionar 4 de 10 es 210\n"
     ]
    }
   ],
   "source": [
    "n1=10\n",
    "k1=4\n",
    "combinaciones_4_de_10 = comb(10, 4)\n",
    "print(f\"Número de formas de seleccionar {k1} de {n1} es {combinaciones_4_de_10}\")"
   ]
  },
  {
   "cell_type": "markdown",
   "metadata": {},
   "source": [
    "## 2. Una  representante  de  la  Environmental  Protection  Agency  (EPA)  piensa seleccionar  muestras  de  10  terrenos.  El  director  tiene  15  terrenos,  de  los cuales  la  representante  puede  recoger  las  muestras.  ¿Cuántas  diferentes muestras son posibles? "
   ]
  },
  {
   "cell_type": "markdown",
   "metadata": {},
   "source": [
    "Para este ejercicio se debe usar la formula de combinaciones con la formula:\n",
    "$$C(15,10)=\\frac{15!}{(15-10)!10!}$$\n",
    "y para facilitar el cálculo usamos la funcoin comb de la librería math"
   ]
  },
  {
   "cell_type": "code",
   "execution_count": 12,
   "metadata": {},
   "outputs": [
    {
     "name": "stdout",
     "output_type": "stream",
     "text": [
      "Número de formas de seleccionar 10 de 15 es 3003\n"
     ]
    }
   ],
   "source": [
    "n2=15\n",
    "k2=10\n",
    "combinaciones_10_de_15 = comb(n2, k2)\n",
    "print(f\"Número de formas de seleccionar {k2} de {n2} es {combinaciones_10_de_15}\")"
   ]
  }
 ],
 "metadata": {
  "kernelspec": {
   "display_name": "venv",
   "language": "python",
   "name": "python3"
  },
  "language_info": {
   "codemirror_mode": {
    "name": "ipython",
    "version": 3
   },
   "file_extension": ".py",
   "mimetype": "text/x-python",
   "name": "python",
   "nbconvert_exporter": "python",
   "pygments_lexer": "ipython3",
   "version": "3.13.1"
  }
 },
 "nbformat": 4,
 "nbformat_minor": 2
}
