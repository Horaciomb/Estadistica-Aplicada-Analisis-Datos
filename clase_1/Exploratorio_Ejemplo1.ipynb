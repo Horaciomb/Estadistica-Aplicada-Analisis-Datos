{
  "cells": [
    {
      "cell_type": "code",
      "execution_count": 58,
      "id": "5e2d02bf",
      "metadata": {
        "id": "5e2d02bf"
      },
      "outputs": [],
      "source": [
        "import pandas as pd\n",
        "import numpy as np\n",
        "import matplotlib.pyplot as plt"
      ]
    },
    {
      "cell_type": "code",
      "execution_count": 59,
      "id": "e8bbb7f9",
      "metadata": {
        "colab": {
          "base_uri": "https://localhost:8080/",
          "height": 273
        },
        "id": "e8bbb7f9",
        "outputId": "805a9f9b-7540-4a3b-c1a4-4570b52100cb"
      },
      "outputs": [
        {
          "data": {
            "text/html": [
              "<div>\n",
              "<style scoped>\n",
              "    .dataframe tbody tr th:only-of-type {\n",
              "        vertical-align: middle;\n",
              "    }\n",
              "\n",
              "    .dataframe tbody tr th {\n",
              "        vertical-align: top;\n",
              "    }\n",
              "\n",
              "    .dataframe thead th {\n",
              "        text-align: right;\n",
              "    }\n",
              "</style>\n",
              "<table border=\"1\" class=\"dataframe\">\n",
              "  <thead>\n",
              "    <tr style=\"text-align: right;\">\n",
              "      <th></th>\n",
              "      <th>age</th>\n",
              "      <th>job</th>\n",
              "      <th>marital</th>\n",
              "      <th>education</th>\n",
              "      <th>default</th>\n",
              "      <th>housing</th>\n",
              "      <th>loan</th>\n",
              "      <th>contact</th>\n",
              "      <th>month</th>\n",
              "      <th>day_of_week</th>\n",
              "      <th>...</th>\n",
              "      <th>campaign</th>\n",
              "      <th>pdays</th>\n",
              "      <th>previous</th>\n",
              "      <th>poutcome</th>\n",
              "      <th>emp.var.rate</th>\n",
              "      <th>cons.price.idx</th>\n",
              "      <th>cons.conf.idx</th>\n",
              "      <th>euribor3m</th>\n",
              "      <th>nr.employed</th>\n",
              "      <th>y</th>\n",
              "    </tr>\n",
              "  </thead>\n",
              "  <tbody>\n",
              "    <tr>\n",
              "      <th>0</th>\n",
              "      <td>30</td>\n",
              "      <td>blue-collar</td>\n",
              "      <td>married</td>\n",
              "      <td>basic.9y</td>\n",
              "      <td>no</td>\n",
              "      <td>yes</td>\n",
              "      <td>no</td>\n",
              "      <td>cellular</td>\n",
              "      <td>may</td>\n",
              "      <td>fri</td>\n",
              "      <td>...</td>\n",
              "      <td>2</td>\n",
              "      <td>999</td>\n",
              "      <td>0</td>\n",
              "      <td>nonexistent</td>\n",
              "      <td>-1.8</td>\n",
              "      <td>92.893</td>\n",
              "      <td>-46.2</td>\n",
              "      <td>1.313</td>\n",
              "      <td>5099.1</td>\n",
              "      <td>no</td>\n",
              "    </tr>\n",
              "    <tr>\n",
              "      <th>1</th>\n",
              "      <td>39</td>\n",
              "      <td>services</td>\n",
              "      <td>single</td>\n",
              "      <td>high.school</td>\n",
              "      <td>no</td>\n",
              "      <td>no</td>\n",
              "      <td>no</td>\n",
              "      <td>telephone</td>\n",
              "      <td>may</td>\n",
              "      <td>fri</td>\n",
              "      <td>...</td>\n",
              "      <td>4</td>\n",
              "      <td>999</td>\n",
              "      <td>0</td>\n",
              "      <td>nonexistent</td>\n",
              "      <td>1.1</td>\n",
              "      <td>93.994</td>\n",
              "      <td>-36.4</td>\n",
              "      <td>4.855</td>\n",
              "      <td>5191.0</td>\n",
              "      <td>no</td>\n",
              "    </tr>\n",
              "    <tr>\n",
              "      <th>2</th>\n",
              "      <td>25</td>\n",
              "      <td>services</td>\n",
              "      <td>married</td>\n",
              "      <td>high.school</td>\n",
              "      <td>no</td>\n",
              "      <td>yes</td>\n",
              "      <td>no</td>\n",
              "      <td>telephone</td>\n",
              "      <td>jun</td>\n",
              "      <td>wed</td>\n",
              "      <td>...</td>\n",
              "      <td>1</td>\n",
              "      <td>999</td>\n",
              "      <td>0</td>\n",
              "      <td>nonexistent</td>\n",
              "      <td>1.4</td>\n",
              "      <td>94.465</td>\n",
              "      <td>-41.8</td>\n",
              "      <td>4.962</td>\n",
              "      <td>5228.1</td>\n",
              "      <td>no</td>\n",
              "    </tr>\n",
              "    <tr>\n",
              "      <th>3</th>\n",
              "      <td>38</td>\n",
              "      <td>services</td>\n",
              "      <td>married</td>\n",
              "      <td>basic.9y</td>\n",
              "      <td>no</td>\n",
              "      <td>unknown</td>\n",
              "      <td>unknown</td>\n",
              "      <td>telephone</td>\n",
              "      <td>jun</td>\n",
              "      <td>fri</td>\n",
              "      <td>...</td>\n",
              "      <td>3</td>\n",
              "      <td>999</td>\n",
              "      <td>0</td>\n",
              "      <td>nonexistent</td>\n",
              "      <td>1.4</td>\n",
              "      <td>94.465</td>\n",
              "      <td>-41.8</td>\n",
              "      <td>4.959</td>\n",
              "      <td>5228.1</td>\n",
              "      <td>no</td>\n",
              "    </tr>\n",
              "    <tr>\n",
              "      <th>4</th>\n",
              "      <td>47</td>\n",
              "      <td>admin.</td>\n",
              "      <td>married</td>\n",
              "      <td>university.degree</td>\n",
              "      <td>no</td>\n",
              "      <td>yes</td>\n",
              "      <td>no</td>\n",
              "      <td>cellular</td>\n",
              "      <td>nov</td>\n",
              "      <td>mon</td>\n",
              "      <td>...</td>\n",
              "      <td>1</td>\n",
              "      <td>999</td>\n",
              "      <td>0</td>\n",
              "      <td>nonexistent</td>\n",
              "      <td>-0.1</td>\n",
              "      <td>93.200</td>\n",
              "      <td>-42.0</td>\n",
              "      <td>4.191</td>\n",
              "      <td>5195.8</td>\n",
              "      <td>no</td>\n",
              "    </tr>\n",
              "  </tbody>\n",
              "</table>\n",
              "<p>5 rows × 21 columns</p>\n",
              "</div>"
            ],
            "text/plain": [
              "   age          job  marital          education default  housing     loan  \\\n",
              "0   30  blue-collar  married           basic.9y      no      yes       no   \n",
              "1   39     services   single        high.school      no       no       no   \n",
              "2   25     services  married        high.school      no      yes       no   \n",
              "3   38     services  married           basic.9y      no  unknown  unknown   \n",
              "4   47       admin.  married  university.degree      no      yes       no   \n",
              "\n",
              "     contact month day_of_week  ...  campaign  pdays  previous     poutcome  \\\n",
              "0   cellular   may         fri  ...         2    999         0  nonexistent   \n",
              "1  telephone   may         fri  ...         4    999         0  nonexistent   \n",
              "2  telephone   jun         wed  ...         1    999         0  nonexistent   \n",
              "3  telephone   jun         fri  ...         3    999         0  nonexistent   \n",
              "4   cellular   nov         mon  ...         1    999         0  nonexistent   \n",
              "\n",
              "  emp.var.rate  cons.price.idx  cons.conf.idx  euribor3m  nr.employed   y  \n",
              "0         -1.8          92.893          -46.2      1.313       5099.1  no  \n",
              "1          1.1          93.994          -36.4      4.855       5191.0  no  \n",
              "2          1.4          94.465          -41.8      4.962       5228.1  no  \n",
              "3          1.4          94.465          -41.8      4.959       5228.1  no  \n",
              "4         -0.1          93.200          -42.0      4.191       5195.8  no  \n",
              "\n",
              "[5 rows x 21 columns]"
            ]
          },
          "execution_count": 59,
          "metadata": {},
          "output_type": "execute_result"
        }
      ],
      "source": [
        "D=pd.read_csv('bank.csv',sep=';')\n",
        "D.head()"
      ]
    },
    {
      "cell_type": "code",
      "execution_count": 60,
      "id": "a4ca7971",
      "metadata": {
        "id": "a4ca7971",
        "outputId": "ee63e681-9f5d-4abf-b852-9554f067b5be"
      },
      "outputs": [
        {
          "data": {
            "text/plain": [
              "Index(['age', 'job', 'marital', 'education', 'default', 'housing', 'loan',\n",
              "       'contact', 'month', 'day_of_week', 'duration', 'campaign', 'pdays',\n",
              "       'previous', 'poutcome', 'emp.var.rate', 'cons.price.idx',\n",
              "       'cons.conf.idx', 'euribor3m', 'nr.employed', 'y'],\n",
              "      dtype='object')"
            ]
          },
          "execution_count": 60,
          "metadata": {},
          "output_type": "execute_result"
        }
      ],
      "source": [
        "D.columns"
      ]
    },
    {
      "cell_type": "markdown",
      "id": "a687299d",
      "metadata": {
        "id": "a687299d"
      },
      "source": [
        "Este dataset es un dataset de apertura de nuevas cuentas en un banco"
      ]
    },
    {
      "cell_type": "markdown",
      "id": "b7804219",
      "metadata": {
        "id": "b7804219"
      },
      "source": [
        "## 1. Análisis del problema"
      ]
    },
    {
      "cell_type": "markdown",
      "id": "4c3f4b55",
      "metadata": {
        "id": "4c3f4b55"
      },
      "source": [
        "En este dataset se espera observar las relaciones existentes entre las diferentes variables que el banco considera relevantes para la apertura de nuevas cuentas. Se espera dar información pertinente para ver que estratégias tomar para captación de nuevos clientes."
      ]
    },
    {
      "cell_type": "markdown",
      "id": "61fe191a",
      "metadata": {
        "id": "61fe191a"
      },
      "source": [
        "## 2. Observar el dataset"
      ]
    },
    {
      "cell_type": "code",
      "execution_count": 61,
      "id": "8158f62b",
      "metadata": {
        "id": "8158f62b",
        "outputId": "f7c39f3a-9a76-4ab4-8f92-859b41d9043b"
      },
      "outputs": [
        {
          "data": {
            "text/plain": [
              "4119"
            ]
          },
          "execution_count": 61,
          "metadata": {},
          "output_type": "execute_result"
        }
      ],
      "source": [
        "len(D)"
      ]
    },
    {
      "cell_type": "code",
      "execution_count": 62,
      "id": "aa426f41",
      "metadata": {
        "id": "aa426f41",
        "outputId": "4f5c19fd-f9c9-492f-ede2-4d3d589f4d93"
      },
      "outputs": [
        {
          "data": {
            "text/plain": [
              "[str,\n",
              " str,\n",
              " str,\n",
              " str,\n",
              " str,\n",
              " str,\n",
              " str,\n",
              " str,\n",
              " str,\n",
              " str,\n",
              " str,\n",
              " str,\n",
              " str,\n",
              " str,\n",
              " str,\n",
              " str,\n",
              " str,\n",
              " str,\n",
              " str,\n",
              " str,\n",
              " str]"
            ]
          },
          "execution_count": 62,
          "metadata": {},
          "output_type": "execute_result"
        }
      ],
      "source": [
        "[type(x) for x in D.columns]"
      ]
    },
    {
      "cell_type": "code",
      "execution_count": 63,
      "id": "51e6b3ac",
      "metadata": {},
      "outputs": [
        {
          "name": "stdout",
          "output_type": "stream",
          "text": [
            "<class 'pandas.core.frame.DataFrame'>\n",
            "RangeIndex: 4119 entries, 0 to 4118\n",
            "Data columns (total 21 columns):\n",
            " #   Column          Non-Null Count  Dtype  \n",
            "---  ------          --------------  -----  \n",
            " 0   age             4119 non-null   int64  \n",
            " 1   job             4119 non-null   object \n",
            " 2   marital         4119 non-null   object \n",
            " 3   education       4119 non-null   object \n",
            " 4   default         4119 non-null   object \n",
            " 5   housing         4119 non-null   object \n",
            " 6   loan            4119 non-null   object \n",
            " 7   contact         4119 non-null   object \n",
            " 8   month           4119 non-null   object \n",
            " 9   day_of_week     4119 non-null   object \n",
            " 10  duration        4119 non-null   int64  \n",
            " 11  campaign        4119 non-null   int64  \n",
            " 12  pdays           4119 non-null   int64  \n",
            " 13  previous        4119 non-null   int64  \n",
            " 14  poutcome        4119 non-null   object \n",
            " 15  emp.var.rate    4119 non-null   float64\n",
            " 16  cons.price.idx  4119 non-null   float64\n",
            " 17  cons.conf.idx   4119 non-null   float64\n",
            " 18  euribor3m       4119 non-null   float64\n",
            " 19  nr.employed     4119 non-null   float64\n",
            " 20  y               4119 non-null   object \n",
            "dtypes: float64(5), int64(5), object(11)\n",
            "memory usage: 675.9+ KB\n"
          ]
        }
      ],
      "source": [
        "D.info()"
      ]
    },
    {
      "cell_type": "markdown",
      "id": "731a6824",
      "metadata": {
        "id": "731a6824"
      },
      "source": [
        "Se observa el primer problema en el dataset siendo que todas las variables son de tipo string. Vamos a tener que considerar una transformación"
      ]
    },
    {
      "cell_type": "code",
      "execution_count": 64,
      "id": "4f56a102",
      "metadata": {
        "id": "4f56a102",
        "outputId": "5187c0e0-4c96-4ad0-8197-3260eeefd220"
      },
      "outputs": [
        {
          "data": {
            "text/plain": [
              "(4119, 21)"
            ]
          },
          "execution_count": 64,
          "metadata": {},
          "output_type": "execute_result"
        }
      ],
      "source": [
        "D.shape"
      ]
    },
    {
      "cell_type": "markdown",
      "id": "46f7a979",
      "metadata": {
        "id": "46f7a979"
      },
      "source": [
        "El dataset consta de 4119 líneas de información de clientes distribuidos en 20 variables explicativas y una variable objetivo"
      ]
    },
    {
      "cell_type": "code",
      "execution_count": 65,
      "id": "1bb2c9e2",
      "metadata": {
        "id": "1bb2c9e2",
        "outputId": "b0d7ec28-570a-4915-af7e-8cb0250fb048"
      },
      "outputs": [
        {
          "data": {
            "text/html": [
              "<div>\n",
              "<style scoped>\n",
              "    .dataframe tbody tr th:only-of-type {\n",
              "        vertical-align: middle;\n",
              "    }\n",
              "\n",
              "    .dataframe tbody tr th {\n",
              "        vertical-align: top;\n",
              "    }\n",
              "\n",
              "    .dataframe thead th {\n",
              "        text-align: right;\n",
              "    }\n",
              "</style>\n",
              "<table border=\"1\" class=\"dataframe\">\n",
              "  <thead>\n",
              "    <tr style=\"text-align: right;\">\n",
              "      <th></th>\n",
              "      <th>age</th>\n",
              "      <th>duration</th>\n",
              "      <th>campaign</th>\n",
              "      <th>pdays</th>\n",
              "      <th>previous</th>\n",
              "      <th>emp.var.rate</th>\n",
              "      <th>cons.price.idx</th>\n",
              "      <th>cons.conf.idx</th>\n",
              "      <th>euribor3m</th>\n",
              "      <th>nr.employed</th>\n",
              "    </tr>\n",
              "  </thead>\n",
              "  <tbody>\n",
              "    <tr>\n",
              "      <th>count</th>\n",
              "      <td>4119.000000</td>\n",
              "      <td>4119.000000</td>\n",
              "      <td>4119.000000</td>\n",
              "      <td>4119.000000</td>\n",
              "      <td>4119.000000</td>\n",
              "      <td>4119.000000</td>\n",
              "      <td>4119.000000</td>\n",
              "      <td>4119.000000</td>\n",
              "      <td>4119.000000</td>\n",
              "      <td>4119.000000</td>\n",
              "    </tr>\n",
              "    <tr>\n",
              "      <th>mean</th>\n",
              "      <td>40.113620</td>\n",
              "      <td>256.788055</td>\n",
              "      <td>2.537266</td>\n",
              "      <td>960.422190</td>\n",
              "      <td>0.190337</td>\n",
              "      <td>0.084972</td>\n",
              "      <td>93.579704</td>\n",
              "      <td>-40.499102</td>\n",
              "      <td>3.621356</td>\n",
              "      <td>5166.481695</td>\n",
              "    </tr>\n",
              "    <tr>\n",
              "      <th>std</th>\n",
              "      <td>10.313362</td>\n",
              "      <td>254.703736</td>\n",
              "      <td>2.568159</td>\n",
              "      <td>191.922786</td>\n",
              "      <td>0.541788</td>\n",
              "      <td>1.563114</td>\n",
              "      <td>0.579349</td>\n",
              "      <td>4.594578</td>\n",
              "      <td>1.733591</td>\n",
              "      <td>73.667904</td>\n",
              "    </tr>\n",
              "    <tr>\n",
              "      <th>min</th>\n",
              "      <td>18.000000</td>\n",
              "      <td>0.000000</td>\n",
              "      <td>1.000000</td>\n",
              "      <td>0.000000</td>\n",
              "      <td>0.000000</td>\n",
              "      <td>-3.400000</td>\n",
              "      <td>92.201000</td>\n",
              "      <td>-50.800000</td>\n",
              "      <td>0.635000</td>\n",
              "      <td>4963.600000</td>\n",
              "    </tr>\n",
              "    <tr>\n",
              "      <th>25%</th>\n",
              "      <td>32.000000</td>\n",
              "      <td>103.000000</td>\n",
              "      <td>1.000000</td>\n",
              "      <td>999.000000</td>\n",
              "      <td>0.000000</td>\n",
              "      <td>-1.800000</td>\n",
              "      <td>93.075000</td>\n",
              "      <td>-42.700000</td>\n",
              "      <td>1.334000</td>\n",
              "      <td>5099.100000</td>\n",
              "    </tr>\n",
              "    <tr>\n",
              "      <th>50%</th>\n",
              "      <td>38.000000</td>\n",
              "      <td>181.000000</td>\n",
              "      <td>2.000000</td>\n",
              "      <td>999.000000</td>\n",
              "      <td>0.000000</td>\n",
              "      <td>1.100000</td>\n",
              "      <td>93.749000</td>\n",
              "      <td>-41.800000</td>\n",
              "      <td>4.857000</td>\n",
              "      <td>5191.000000</td>\n",
              "    </tr>\n",
              "    <tr>\n",
              "      <th>75%</th>\n",
              "      <td>47.000000</td>\n",
              "      <td>317.000000</td>\n",
              "      <td>3.000000</td>\n",
              "      <td>999.000000</td>\n",
              "      <td>0.000000</td>\n",
              "      <td>1.400000</td>\n",
              "      <td>93.994000</td>\n",
              "      <td>-36.400000</td>\n",
              "      <td>4.961000</td>\n",
              "      <td>5228.100000</td>\n",
              "    </tr>\n",
              "    <tr>\n",
              "      <th>max</th>\n",
              "      <td>88.000000</td>\n",
              "      <td>3643.000000</td>\n",
              "      <td>35.000000</td>\n",
              "      <td>999.000000</td>\n",
              "      <td>6.000000</td>\n",
              "      <td>1.400000</td>\n",
              "      <td>94.767000</td>\n",
              "      <td>-26.900000</td>\n",
              "      <td>5.045000</td>\n",
              "      <td>5228.100000</td>\n",
              "    </tr>\n",
              "  </tbody>\n",
              "</table>\n",
              "</div>"
            ],
            "text/plain": [
              "               age     duration     campaign        pdays     previous  \\\n",
              "count  4119.000000  4119.000000  4119.000000  4119.000000  4119.000000   \n",
              "mean     40.113620   256.788055     2.537266   960.422190     0.190337   \n",
              "std      10.313362   254.703736     2.568159   191.922786     0.541788   \n",
              "min      18.000000     0.000000     1.000000     0.000000     0.000000   \n",
              "25%      32.000000   103.000000     1.000000   999.000000     0.000000   \n",
              "50%      38.000000   181.000000     2.000000   999.000000     0.000000   \n",
              "75%      47.000000   317.000000     3.000000   999.000000     0.000000   \n",
              "max      88.000000  3643.000000    35.000000   999.000000     6.000000   \n",
              "\n",
              "       emp.var.rate  cons.price.idx  cons.conf.idx    euribor3m  nr.employed  \n",
              "count   4119.000000     4119.000000    4119.000000  4119.000000  4119.000000  \n",
              "mean       0.084972       93.579704     -40.499102     3.621356  5166.481695  \n",
              "std        1.563114        0.579349       4.594578     1.733591    73.667904  \n",
              "min       -3.400000       92.201000     -50.800000     0.635000  4963.600000  \n",
              "25%       -1.800000       93.075000     -42.700000     1.334000  5099.100000  \n",
              "50%        1.100000       93.749000     -41.800000     4.857000  5191.000000  \n",
              "75%        1.400000       93.994000     -36.400000     4.961000  5228.100000  \n",
              "max        1.400000       94.767000     -26.900000     5.045000  5228.100000  "
            ]
          },
          "execution_count": 65,
          "metadata": {},
          "output_type": "execute_result"
        }
      ],
      "source": [
        "D.describe()"
      ]
    },
    {
      "cell_type": "markdown",
      "id": "69d99178",
      "metadata": {
        "id": "69d99178"
      },
      "source": [
        "Entre las 20 variables explicativas, 10 de ellas son de caracter cuantitativo, lo cuál implica que 10 de ellas también son cualitativas."
      ]
    },
    {
      "cell_type": "markdown",
      "id": "c02914c5",
      "metadata": {
        "id": "c02914c5"
      },
      "source": [
        "Remarcamos que no existen datos faltantes en el dataset, al menos para las variables cuantitativas (todas las variables tienen el máximo número de datos)"
      ]
    },
    {
      "cell_type": "markdown",
      "id": "7fcba8a0",
      "metadata": {
        "id": "7fcba8a0"
      },
      "source": [
        "## 3. Análisis de variables"
      ]
    },
    {
      "cell_type": "code",
      "execution_count": 66,
      "id": "62339cb3",
      "metadata": {
        "id": "62339cb3",
        "outputId": "ff197e39-2e26-44ed-de5b-2f418b2f7319"
      },
      "outputs": [
        {
          "data": {
            "text/plain": [
              "array(['blue-collar', 'services', 'admin.', 'entrepreneur',\n",
              "       'self-employed', 'technician', 'management', 'student', 'retired',\n",
              "       'housemaid', 'unemployed', 'unknown'], dtype=object)"
            ]
          },
          "execution_count": 66,
          "metadata": {},
          "output_type": "execute_result"
        }
      ],
      "source": [
        "D.job.unique()"
      ]
    },
    {
      "cell_type": "markdown",
      "id": "017f1c73",
      "metadata": {
        "id": "017f1c73"
      },
      "source": [
        "Existen 10 categorías de trabajo"
      ]
    },
    {
      "cell_type": "code",
      "execution_count": 67,
      "id": "c83b3504",
      "metadata": {
        "id": "c83b3504",
        "outputId": "17150a66-22d7-42c0-eb53-3c7afd0c31b1"
      },
      "outputs": [
        {
          "data": {
            "text/plain": [
              "array(['married', 'single', 'divorced', 'unknown'], dtype=object)"
            ]
          },
          "execution_count": 67,
          "metadata": {},
          "output_type": "execute_result"
        }
      ],
      "source": [
        "D.marital.unique()"
      ]
    },
    {
      "cell_type": "markdown",
      "id": "b9c61f9a",
      "metadata": {
        "id": "b9c61f9a"
      },
      "source": [
        "Existen 4 categorías de estado civil"
      ]
    },
    {
      "cell_type": "code",
      "execution_count": 68,
      "id": "7e28739d",
      "metadata": {
        "id": "7e28739d",
        "outputId": "7e50eed9-d451-4a52-b5d9-f4a59174ccbc"
      },
      "outputs": [
        {
          "data": {
            "text/plain": [
              "array(['basic.9y', 'high.school', 'university.degree',\n",
              "       'professional.course', 'basic.6y', 'basic.4y', 'unknown',\n",
              "       'illiterate'], dtype=object)"
            ]
          },
          "execution_count": 68,
          "metadata": {},
          "output_type": "execute_result"
        }
      ],
      "source": [
        "D.education.unique()"
      ]
    },
    {
      "cell_type": "markdown",
      "id": "373612b7",
      "metadata": {
        "id": "373612b7"
      },
      "source": [
        "Existen 8 categorías de educación"
      ]
    },
    {
      "cell_type": "code",
      "execution_count": 69,
      "id": "a8aa03ac",
      "metadata": {
        "id": "a8aa03ac",
        "outputId": "73ac0dc7-52a1-4dc4-b4b7-986bf902f288"
      },
      "outputs": [
        {
          "data": {
            "text/plain": [
              "array(['no', 'unknown', 'yes'], dtype=object)"
            ]
          },
          "execution_count": 69,
          "metadata": {},
          "output_type": "execute_result"
        }
      ],
      "source": [
        "D.default.unique()"
      ]
    },
    {
      "cell_type": "markdown",
      "id": "70e75bd0",
      "metadata": {
        "id": "70e75bd0"
      },
      "source": [
        "Existen 3 categorías de si no pagó deudas anteriormente"
      ]
    },
    {
      "cell_type": "code",
      "execution_count": 70,
      "id": "be06a947",
      "metadata": {
        "id": "be06a947",
        "outputId": "c2cfafe9-e8b7-4a08-91f3-5ccf87566db1"
      },
      "outputs": [
        {
          "data": {
            "text/plain": [
              "array(['no', 'unknown', 'yes'], dtype=object)"
            ]
          },
          "execution_count": 70,
          "metadata": {},
          "output_type": "execute_result"
        }
      ],
      "source": [
        "D.loan.unique()"
      ]
    },
    {
      "cell_type": "markdown",
      "id": "3f788175",
      "metadata": {
        "id": "3f788175"
      },
      "source": [
        "3 categorías tambien de si tiene un crédito no hipotecario"
      ]
    },
    {
      "cell_type": "code",
      "execution_count": 71,
      "id": "0b0f1ddc",
      "metadata": {
        "id": "0b0f1ddc",
        "outputId": "b133c257-f2ae-44fa-f101-8e88b25d07a3"
      },
      "outputs": [
        {
          "data": {
            "text/plain": [
              "array(['yes', 'no', 'unknown'], dtype=object)"
            ]
          },
          "execution_count": 71,
          "metadata": {},
          "output_type": "execute_result"
        }
      ],
      "source": [
        "D.housing.unique()"
      ]
    },
    {
      "cell_type": "markdown",
      "id": "8d8d881b",
      "metadata": {
        "id": "8d8d881b"
      },
      "source": [
        "3 categorías si tiene un crédito hipotecario"
      ]
    },
    {
      "cell_type": "code",
      "execution_count": 72,
      "id": "ded8bc5c",
      "metadata": {
        "id": "ded8bc5c",
        "outputId": "680cb01a-708c-4225-a0fc-82ae190ac98f"
      },
      "outputs": [
        {
          "data": {
            "text/plain": [
              "array(['cellular', 'telephone'], dtype=object)"
            ]
          },
          "execution_count": 72,
          "metadata": {},
          "output_type": "execute_result"
        }
      ],
      "source": [
        "D.contact.unique()"
      ]
    },
    {
      "cell_type": "markdown",
      "id": "cd8e6c64",
      "metadata": {
        "id": "cd8e6c64"
      },
      "source": [
        "2 categorías para el tipo de contacto"
      ]
    },
    {
      "cell_type": "markdown",
      "id": "92422354",
      "metadata": {
        "id": "92422354"
      },
      "source": [
        "Las variables month and day of the week no requieren un análisis más profundo"
      ]
    },
    {
      "cell_type": "code",
      "execution_count": 73,
      "id": "ff0e224b",
      "metadata": {
        "id": "ff0e224b",
        "outputId": "50e79ae1-1fff-4ff2-80fc-60201e47baa9"
      },
      "outputs": [
        {
          "data": {
            "text/plain": [
              "(array([3.293e+03, 6.170e+02, 1.350e+02, 5.700e+01, 9.000e+00, 4.000e+00,\n",
              "        1.000e+00, 1.000e+00, 1.000e+00, 1.000e+00]),\n",
              " array([   0. ,  364.3,  728.6, 1092.9, 1457.2, 1821.5, 2185.8, 2550.1,\n",
              "        2914.4, 3278.7, 3643. ]),\n",
              " <BarContainer object of 10 artists>)"
            ]
          },
          "execution_count": 73,
          "metadata": {},
          "output_type": "execute_result"
        },
        {
          "data": {
            "image/png": "[encoded data removed]",
            "text/plain": [
              "<Figure size 640x480 with 1 Axes>"
            ]
          },
          "metadata": {},
          "output_type": "display_data"
        }
      ],
      "source": [
        "plt.hist(D.duration)"
      ]
    },
    {
      "cell_type": "markdown",
      "id": "ad4f5858",
      "metadata": {
        "id": "ad4f5858"
      },
      "source": [
        "La mayoría de los datos de duración estan en 0, por lo cuál voy a tratar de relacionarlo con otras variables"
      ]
    },
    {
      "cell_type": "code",
      "execution_count": 74,
      "id": "a8e1baf8",
      "metadata": {
        "id": "a8e1baf8",
        "outputId": "443c82cc-0143-4cdb-f97e-b38ec19e1728"
      },
      "outputs": [
        {
          "data": {
            "image/png": "[encoded data removed]",
            "text/plain": [
              "<Figure size 640x480 with 1 Axes>"
            ]
          },
          "metadata": {},
          "output_type": "display_data"
        }
      ],
      "source": [
        "plt.plot(D.poutcome,D.duration,'r.',alpha=0.3)\n",
        "plt.show()"
      ]
    },
    {
      "cell_type": "code",
      "execution_count": 75,
      "id": "d881d651",
      "metadata": {
        "id": "d881d651",
        "outputId": "26159b2e-a3af-42b6-e711-e39aa9acd28f"
      },
      "outputs": [
        {
          "data": {
            "image/png": "[encoded data removed]",
            "text/plain": [
              "<Figure size 640x480 with 1 Axes>"
            ]
          },
          "metadata": {},
          "output_type": "display_data"
        }
      ],
      "source": [
        "plt.plot(D.previous,D.duration,'r.',alpha=0.3)\n",
        "plt.show()"
      ]
    },
    {
      "cell_type": "code",
      "execution_count": 76,
      "id": "086d4414",
      "metadata": {
        "id": "086d4414",
        "outputId": "ee7ea2e5-48de-435e-dcce-432f79f90c94"
      },
      "outputs": [
        {
          "data": {
            "image/png": "[encoded data removed]",
            "text/plain": [
              "<Figure size 640x480 with 1 Axes>"
            ]
          },
          "metadata": {},
          "output_type": "display_data"
        }
      ],
      "source": [
        "plt.plot(D.campaign,D.duration,'b.',alpha=0.3)\n",
        "plt.show()"
      ]
    },
    {
      "cell_type": "markdown",
      "id": "968e21bc",
      "metadata": {
        "id": "968e21bc"
      },
      "source": [
        "La variable duración no tiene relación aparente con otras variables y no sabría darle la explicación adecuada correspondiente, a tener cuidado al utilizar esta variable"
      ]
    },
    {
      "cell_type": "markdown",
      "id": "d76de5a6",
      "metadata": {
        "id": "d76de5a6"
      },
      "source": [
        "Las variables emp.var.rate, cons.price.idx, cons.conf.idx, euribor3m, nr.employed son índices a los cuales debemos considerar la correlación"
      ]
    },
    {
      "cell_type": "markdown",
      "id": "8d9a75ef",
      "metadata": {
        "id": "8d9a75ef"
      },
      "source": [
        "Podemos ver que tenemos buenas variables cualitativas para hacer segmentaciones y varias variables cuantitativas para las cuales podemos buscar correlaciones"
      ]
    },
    {
      "cell_type": "markdown",
      "id": "ee124b3d",
      "metadata": {
        "id": "ee124b3d"
      },
      "source": [
        "## 4. Estadística descriptiva de los datos"
      ]
    },
    {
      "cell_type": "markdown",
      "id": "57f87579",
      "metadata": {
        "id": "57f87579"
      },
      "source": [
        "El descriptivo elemental ha sido realizado en el punto 2, en ese caso voy a buscar relacionar las diferentes categorías con el objetivo, es decir que voy a buscar segmentar los datasets por categorías y luego extraer la variable objetivo segmentado por las categorías"
      ]
    },
    {
      "cell_type": "code",
      "execution_count": 77,
      "id": "64bb9e24",
      "metadata": {
        "id": "64bb9e24"
      },
      "outputs": [],
      "source": [
        "obj=[]\n",
        "for i in range(len(D)):\n",
        "    if D.y[i]=='yes':\n",
        "        obj.append(1)\n",
        "    else:\n",
        "        obj.append(0)"
      ]
    },
    {
      "cell_type": "code",
      "execution_count": 78,
      "id": "aa5efcc3",
      "metadata": {},
      "outputs": [],
      "source": [
        "obj2 = [1 if D.y[i] == 'yes' else 0 for i in range(len(D))]\n"
      ]
    },
    {
      "cell_type": "code",
      "execution_count": 79,
      "id": "ea3442b7",
      "metadata": {
        "id": "ea3442b7"
      },
      "outputs": [],
      "source": [
        "D['obj']=obj"
      ]
    },
    {
      "cell_type": "markdown",
      "id": "944e4a8e",
      "metadata": {
        "id": "944e4a8e"
      },
      "source": [
        "Creamos una nueva variable booleana como objetivo porque en ella podemos usar diversas funciones cuantitativas"
      ]
    },
    {
      "cell_type": "code",
      "execution_count": 80,
      "id": "2cbbf68f",
      "metadata": {
        "id": "2cbbf68f",
        "outputId": "c9d49400-f053-4245-f975-b10026fdc7a5"
      },
      "outputs": [
        {
          "data": {
            "text/plain": [
              "count    4119.000000\n",
              "mean        0.109493\n",
              "std         0.312294\n",
              "min         0.000000\n",
              "25%         0.000000\n",
              "50%         0.000000\n",
              "75%         0.000000\n",
              "max         1.000000\n",
              "Name: obj, dtype: float64"
            ]
          },
          "execution_count": 80,
          "metadata": {},
          "output_type": "execute_result"
        }
      ],
      "source": [
        "D.obj.describe()"
      ]
    },
    {
      "cell_type": "markdown",
      "id": "2e964f7b",
      "metadata": {
        "id": "2e964f7b"
      },
      "source": [
        "En promedio tenemos 10.95% de exito por medio de las campañas"
      ]
    },
    {
      "cell_type": "code",
      "execution_count": 81,
      "id": "f65f20d8",
      "metadata": {
        "id": "f65f20d8"
      },
      "outputs": [],
      "source": [
        "D1=D.groupby('marital')"
      ]
    },
    {
      "cell_type": "code",
      "execution_count": 82,
      "id": "7aedc1e5",
      "metadata": {
        "id": "7aedc1e5",
        "outputId": "2a767e25-8be8-4869-f573-1823062db33f"
      },
      "outputs": [
        {
          "data": {
            "text/plain": [
              "marital\n",
              "divorced     9.641256\n",
              "married     10.043842\n",
              "single      13.443192\n",
              "unknown      9.090909\n",
              "Name: obj, dtype: float64"
            ]
          },
          "execution_count": 82,
          "metadata": {},
          "output_type": "execute_result"
        }
      ],
      "source": [
        "D1['obj'].sum()/D1['obj'].count()*100"
      ]
    },
    {
      "cell_type": "markdown",
      "id": "45a98a86",
      "metadata": {
        "id": "45a98a86"
      },
      "source": [
        "Podemos ver que el porcentaje de exito es ligeramente superior en el caso de las personas solteras, alcanzando un 13.44%"
      ]
    },
    {
      "cell_type": "code",
      "execution_count": 83,
      "id": "e0fbe1ef",
      "metadata": {
        "id": "e0fbe1ef",
        "outputId": "7b404646-4635-4d44-e19e-823347ae7264"
      },
      "outputs": [
        {
          "data": {
            "text/plain": [
              "education\n",
              "basic.4y                8.857809\n",
              "basic.6y                7.456140\n",
              "basic.9y                7.491289\n",
              "high.school            10.532030\n",
              "illiterate              0.000000\n",
              "professional.course    12.149533\n",
              "university.degree      13.053797\n",
              "unknown                15.568862\n",
              "Name: obj, dtype: float64"
            ]
          },
          "execution_count": 83,
          "metadata": {},
          "output_type": "execute_result"
        }
      ],
      "source": [
        "D2=D.groupby('education')\n",
        "D2['obj'].sum()/D2['obj'].count()*100"
      ]
    },
    {
      "cell_type": "markdown",
      "id": "75077c22",
      "metadata": {
        "id": "75077c22"
      },
      "source": [
        "Tenemos más exito en nuestras campañas con las gente que tiene mayor estudio alcanzando porcentajes de 12.15% y 13.05%, mientras más alta sea la formación en principio tenemos mayor probabilidad de exito. Por otro lado remarcamos que tenemos un 15% de exito con datos desconocidos"
      ]
    },
    {
      "cell_type": "code",
      "execution_count": 84,
      "id": "9b274fc8",
      "metadata": {
        "id": "9b274fc8",
        "outputId": "dec1e20c-d354-43b0-c6d7-820bbc512c5e"
      },
      "outputs": [
        {
          "data": {
            "text/plain": [
              "education\n",
              "basic.4y               10.415149\n",
              "basic.6y                5.535324\n",
              "basic.9y               13.935421\n",
              "high.school            22.359796\n",
              "illiterate              0.024278\n",
              "professional.course    12.988589\n",
              "university.degree      30.687060\n",
              "unknown                 4.054382\n",
              "Name: obj, dtype: float64"
            ]
          },
          "execution_count": 84,
          "metadata": {},
          "output_type": "execute_result"
        }
      ],
      "source": [
        "D2['obj'].count()/len(D)*100"
      ]
    },
    {
      "cell_type": "markdown",
      "id": "dde26c80",
      "metadata": {
        "id": "dde26c80"
      },
      "source": [
        "Los desconocidos representan un 4% de los datos, es algo que debemos exigir que se complete para mejorar nuestra información. Los puntos de profesionales o con grado universitario tienen porcentajes significativos y probabilidad de exito por encima de la media, por lo cuál ya tenemos una recomendación a hacer pidiendo que el público objetivo sean estos 2 grupos de personas"
      ]
    },
    {
      "cell_type": "code",
      "execution_count": 85,
      "id": "044b8ca8",
      "metadata": {
        "id": "044b8ca8",
        "outputId": "5d419b6c-9bcc-4e83-fe4b-37384026e97c"
      },
      "outputs": [
        {
          "data": {
            "text/plain": [
              "job\n",
              "admin.           13.142292\n",
              "blue-collar       6.900452\n",
              "entrepreneur      5.405405\n",
              "housemaid        10.000000\n",
              "management        9.259259\n",
              "retired          22.891566\n",
              "self-employed     8.176101\n",
              "services          8.905852\n",
              "student          23.170732\n",
              "technician       11.577424\n",
              "unemployed       17.117117\n",
              "unknown          10.256410\n",
              "Name: obj, dtype: float64"
            ]
          },
          "execution_count": 85,
          "metadata": {},
          "output_type": "execute_result"
        }
      ],
      "source": [
        "D3=D.groupby('job')\n",
        "D3['obj'].sum()/D3['obj'].count()*100"
      ]
    },
    {
      "cell_type": "code",
      "execution_count": 86,
      "id": "831d1b29",
      "metadata": {
        "id": "831d1b29",
        "outputId": "6d98eaf7-0df4-4e91-b27e-4f3b8ccf7702"
      },
      "outputs": [
        {
          "data": {
            "text/plain": [
              "job\n",
              "admin.           24.569070\n",
              "blue-collar      21.461520\n",
              "entrepreneur      3.593105\n",
              "housemaid         2.670551\n",
              "management        7.865987\n",
              "retired           4.030104\n",
              "self-employed     3.860160\n",
              "services          9.541151\n",
              "student           1.990774\n",
              "technician       16.775916\n",
              "unemployed        2.694829\n",
              "unknown           0.946832\n",
              "Name: obj, dtype: float64"
            ]
          },
          "execution_count": 86,
          "metadata": {},
          "output_type": "execute_result"
        }
      ],
      "source": [
        "D3['obj'].count()/len(D)*100"
      ]
    },
    {
      "cell_type": "markdown",
      "id": "0541788b",
      "metadata": {
        "id": "0541788b"
      },
      "source": [
        "Tenemos mucha mayor probabilidad de exito con las personas retiradas, desempleadas y los estudiantes, con porcentajes de exito del 22.89%, 17.12% y 23.17%, lamentablemente estos sectores tienen muy baja representación en nuestra cartera de clientes. El objetivo sería ampliar el número de prospectos de estas categorías. Por otro lado tenemos a los administrativos que tenemos una probabilidad de exito por encima de la media y una alta representatividad, entonces nuestro objetivo también sería este grupo"
      ]
    },
    {
      "cell_type": "markdown",
      "id": "a0c7011a",
      "metadata": {
        "id": "a0c7011a"
      },
      "source": [
        "Se puede seguir explorando la segmentación en diferentes variables cualitativas para aumentar nuestras recomendaciones o diversificar el tipo de recomendaciones."
      ]
    },
    {
      "cell_type": "markdown",
      "id": "38a3a97d",
      "metadata": {
        "id": "38a3a97d"
      },
      "source": [
        "## 5. Visualización de los datos"
      ]
    },
    {
      "cell_type": "markdown",
      "id": "bb75936a",
      "metadata": {
        "id": "bb75936a"
      },
      "source": [
        "Vamos a visualizar los puntos anteriores como para que se hagan más facilmente comprensibles"
      ]
    },
    {
      "cell_type": "code",
      "execution_count": 87,
      "id": "b6a98a1e",
      "metadata": {
        "id": "b6a98a1e",
        "outputId": "b2c69361-724b-470e-dec6-5ce1cd10fdb4"
      },
      "outputs": [
        {
          "data": {
            "text/html": [
              "<div>\n",
              "<style scoped>\n",
              "    .dataframe tbody tr th:only-of-type {\n",
              "        vertical-align: middle;\n",
              "    }\n",
              "\n",
              "    .dataframe tbody tr th {\n",
              "        vertical-align: top;\n",
              "    }\n",
              "\n",
              "    .dataframe thead th {\n",
              "        text-align: right;\n",
              "    }\n",
              "</style>\n",
              "<table border=\"1\" class=\"dataframe\">\n",
              "  <thead>\n",
              "    <tr style=\"text-align: right;\">\n",
              "      <th></th>\n",
              "      <th>obj</th>\n",
              "    </tr>\n",
              "    <tr>\n",
              "      <th>education</th>\n",
              "      <th></th>\n",
              "    </tr>\n",
              "  </thead>\n",
              "  <tbody>\n",
              "    <tr>\n",
              "      <th>basic.4y</th>\n",
              "      <td>38</td>\n",
              "    </tr>\n",
              "    <tr>\n",
              "      <th>basic.6y</th>\n",
              "      <td>17</td>\n",
              "    </tr>\n",
              "    <tr>\n",
              "      <th>basic.9y</th>\n",
              "      <td>43</td>\n",
              "    </tr>\n",
              "    <tr>\n",
              "      <th>high.school</th>\n",
              "      <td>97</td>\n",
              "    </tr>\n",
              "    <tr>\n",
              "      <th>illiterate</th>\n",
              "      <td>0</td>\n",
              "    </tr>\n",
              "    <tr>\n",
              "      <th>professional.course</th>\n",
              "      <td>65</td>\n",
              "    </tr>\n",
              "    <tr>\n",
              "      <th>university.degree</th>\n",
              "      <td>165</td>\n",
              "    </tr>\n",
              "    <tr>\n",
              "      <th>unknown</th>\n",
              "      <td>26</td>\n",
              "    </tr>\n",
              "  </tbody>\n",
              "</table>\n",
              "</div>"
            ],
            "text/plain": [
              "                     obj\n",
              "education               \n",
              "basic.4y              38\n",
              "basic.6y              17\n",
              "basic.9y              43\n",
              "high.school           97\n",
              "illiterate             0\n",
              "professional.course   65\n",
              "university.degree    165\n",
              "unknown               26"
            ]
          },
          "execution_count": 87,
          "metadata": {},
          "output_type": "execute_result"
        }
      ],
      "source": [
        "Aux1=D2['obj'].sum()\n",
        "Aux1=pd.DataFrame(Aux1)\n",
        "Aux1"
      ]
    },
    {
      "cell_type": "code",
      "execution_count": 88,
      "id": "5377d5ec",
      "metadata": {
        "id": "5377d5ec",
        "outputId": "75490e25-699d-45e4-9f15-772ab6f7c282"
      },
      "outputs": [
        {
          "data": {
            "image/png": "[encoded data removed]",
            "text/plain": [
              "<Figure size 640x480 with 1 Axes>"
            ]
          },
          "metadata": {},
          "output_type": "display_data"
        }
      ],
      "source": [
        "plt.pie(Aux1.obj,labels=Aux1.index,autopct='%1.1f%%')\n",
        "plt.title('Exito distribuido por educación')\n",
        "plt.show()"
      ]
    },
    {
      "cell_type": "code",
      "execution_count": 89,
      "id": "90205630",
      "metadata": {
        "id": "90205630",
        "outputId": "1df3bd4c-f153-4261-9dd3-7613ea61a1d1"
      },
      "outputs": [
        {
          "data": {
            "image/png": "[encoded data removed]",
            "text/plain": [
              "<Figure size 640x480 with 1 Axes>"
            ]
          },
          "metadata": {},
          "output_type": "display_data"
        }
      ],
      "source": [
        "Aux1=D2['obj'].count()\n",
        "Aux1=pd.DataFrame(Aux1)\n",
        "plt.pie(Aux1.obj,labels=Aux1.index,autopct='%1.1f%%')\n",
        "plt.title('distribución de los datos segmentado por educación')\n",
        "plt.show()"
      ]
    },
    {
      "cell_type": "code",
      "execution_count": 90,
      "id": "4443371f",
      "metadata": {
        "id": "4443371f",
        "outputId": "43d4e6cb-9cf2-43fa-8824-4570801ebef8"
      },
      "outputs": [
        {
          "data": {
            "image/png": "[encoded data removed]",
            "text/plain": [
              "<Figure size 640x480 with 1 Axes>"
            ]
          },
          "metadata": {},
          "output_type": "display_data"
        }
      ],
      "source": [
        "Aux1=D3['obj'].sum()\n",
        "Aux1=pd.DataFrame(Aux1)\n",
        "plt.pie(Aux1.obj,labels=Aux1.index,autopct='%1.1f%%')\n",
        "plt.title('Exito distribuido por tipo de ocupación')\n",
        "plt.show()"
      ]
    },
    {
      "cell_type": "code",
      "execution_count": 91,
      "id": "d3878b22",
      "metadata": {
        "id": "d3878b22",
        "outputId": "3ccd01f0-aa26-43c7-dd14-1ac77a03873f"
      },
      "outputs": [
        {
          "data": {
            "image/png": "[encoded data removed]",
            "text/plain": [
              "<Figure size 640x480 with 1 Axes>"
            ]
          },
          "metadata": {},
          "output_type": "display_data"
        }
      ],
      "source": [
        "Aux1=D3['obj'].count()\n",
        "Aux1=pd.DataFrame(Aux1)\n",
        "plt.pie(Aux1.obj,labels=Aux1.index,autopct='%1.1f%%')\n",
        "plt.title('distribución de los datos segmentado por tipo de ocupación')\n",
        "plt.show()"
      ]
    },
    {
      "cell_type": "markdown",
      "id": "41a0ecac",
      "metadata": {
        "id": "41a0ecac"
      },
      "source": [
        "Estos 2 gráficos complementan a nuestro anterior análisis"
      ]
    },
    {
      "cell_type": "markdown",
      "id": "e151baa3",
      "metadata": {
        "id": "e151baa3"
      },
      "source": [
        "## 6. Análisis Bivariado y Multivariado"
      ]
    },
    {
      "cell_type": "code",
      "execution_count": 33,
      "id": "1fa7fffa",
      "metadata": {
        "colab": {
          "base_uri": "https://localhost:8080/",
          "height": 363
        },
        "id": "1fa7fffa",
        "outputId": "55a9d5eb-de6b-4bf8-b4cc-604cafd712b2"
      },
      "outputs": [
        {
          "data": {
            "text/html": [
              "<div>\n",
              "<style scoped>\n",
              "    .dataframe tbody tr th:only-of-type {\n",
              "        vertical-align: middle;\n",
              "    }\n",
              "\n",
              "    .dataframe tbody tr th {\n",
              "        vertical-align: top;\n",
              "    }\n",
              "\n",
              "    .dataframe thead th {\n",
              "        text-align: right;\n",
              "    }\n",
              "</style>\n",
              "<table border=\"1\" class=\"dataframe\">\n",
              "  <thead>\n",
              "    <tr style=\"text-align: right;\">\n",
              "      <th></th>\n",
              "      <th>age</th>\n",
              "      <th>duration</th>\n",
              "      <th>campaign</th>\n",
              "      <th>pdays</th>\n",
              "      <th>previous</th>\n",
              "      <th>emp.var.rate</th>\n",
              "      <th>cons.price.idx</th>\n",
              "      <th>cons.conf.idx</th>\n",
              "      <th>euribor3m</th>\n",
              "      <th>nr.employed</th>\n",
              "      <th>obj</th>\n",
              "    </tr>\n",
              "  </thead>\n",
              "  <tbody>\n",
              "    <tr>\n",
              "      <th>age</th>\n",
              "      <td>1.000000</td>\n",
              "      <td>0.041299</td>\n",
              "      <td>-0.014169</td>\n",
              "      <td>-0.043425</td>\n",
              "      <td>0.050931</td>\n",
              "      <td>-0.019192</td>\n",
              "      <td>-0.000482</td>\n",
              "      <td>0.098135</td>\n",
              "      <td>-0.015033</td>\n",
              "      <td>-0.041936</td>\n",
              "      <td>0.060374</td>\n",
              "    </tr>\n",
              "    <tr>\n",
              "      <th>duration</th>\n",
              "      <td>0.041299</td>\n",
              "      <td>1.000000</td>\n",
              "      <td>-0.085348</td>\n",
              "      <td>-0.046998</td>\n",
              "      <td>0.025724</td>\n",
              "      <td>-0.028848</td>\n",
              "      <td>0.016672</td>\n",
              "      <td>-0.034745</td>\n",
              "      <td>-0.032329</td>\n",
              "      <td>-0.044218</td>\n",
              "      <td>0.418565</td>\n",
              "    </tr>\n",
              "    <tr>\n",
              "      <th>campaign</th>\n",
              "      <td>-0.014169</td>\n",
              "      <td>-0.085348</td>\n",
              "      <td>1.000000</td>\n",
              "      <td>0.058742</td>\n",
              "      <td>-0.091490</td>\n",
              "      <td>0.176079</td>\n",
              "      <td>0.145021</td>\n",
              "      <td>0.007882</td>\n",
              "      <td>0.159435</td>\n",
              "      <td>0.161037</td>\n",
              "      <td>-0.076091</td>\n",
              "    </tr>\n",
              "    <tr>\n",
              "      <th>pdays</th>\n",
              "      <td>-0.043425</td>\n",
              "      <td>-0.046998</td>\n",
              "      <td>0.058742</td>\n",
              "      <td>1.000000</td>\n",
              "      <td>-0.587941</td>\n",
              "      <td>0.270684</td>\n",
              "      <td>0.058472</td>\n",
              "      <td>-0.092090</td>\n",
              "      <td>0.301478</td>\n",
              "      <td>0.381983</td>\n",
              "      <td>-0.332012</td>\n",
              "    </tr>\n",
              "    <tr>\n",
              "      <th>previous</th>\n",
              "      <td>0.050931</td>\n",
              "      <td>0.025724</td>\n",
              "      <td>-0.091490</td>\n",
              "      <td>-0.587941</td>\n",
              "      <td>1.000000</td>\n",
              "      <td>-0.415238</td>\n",
              "      <td>-0.164922</td>\n",
              "      <td>-0.051420</td>\n",
              "      <td>-0.458851</td>\n",
              "      <td>-0.514853</td>\n",
              "      <td>0.255697</td>\n",
              "    </tr>\n",
              "    <tr>\n",
              "      <th>emp.var.rate</th>\n",
              "      <td>-0.019192</td>\n",
              "      <td>-0.028848</td>\n",
              "      <td>0.176079</td>\n",
              "      <td>0.270684</td>\n",
              "      <td>-0.415238</td>\n",
              "      <td>1.000000</td>\n",
              "      <td>0.755155</td>\n",
              "      <td>0.195022</td>\n",
              "      <td>0.970308</td>\n",
              "      <td>0.897173</td>\n",
              "      <td>-0.283216</td>\n",
              "    </tr>\n",
              "    <tr>\n",
              "      <th>cons.price.idx</th>\n",
              "      <td>-0.000482</td>\n",
              "      <td>0.016672</td>\n",
              "      <td>0.145021</td>\n",
              "      <td>0.058472</td>\n",
              "      <td>-0.164922</td>\n",
              "      <td>0.755155</td>\n",
              "      <td>1.000000</td>\n",
              "      <td>0.045835</td>\n",
              "      <td>0.657159</td>\n",
              "      <td>0.472560</td>\n",
              "      <td>-0.098326</td>\n",
              "    </tr>\n",
              "    <tr>\n",
              "      <th>cons.conf.idx</th>\n",
              "      <td>0.098135</td>\n",
              "      <td>-0.034745</td>\n",
              "      <td>0.007882</td>\n",
              "      <td>-0.092090</td>\n",
              "      <td>-0.051420</td>\n",
              "      <td>0.195022</td>\n",
              "      <td>0.045835</td>\n",
              "      <td>1.000000</td>\n",
              "      <td>0.276595</td>\n",
              "      <td>0.107054</td>\n",
              "      <td>0.054393</td>\n",
              "    </tr>\n",
              "    <tr>\n",
              "      <th>euribor3m</th>\n",
              "      <td>-0.015033</td>\n",
              "      <td>-0.032329</td>\n",
              "      <td>0.159435</td>\n",
              "      <td>0.301478</td>\n",
              "      <td>-0.458851</td>\n",
              "      <td>0.970308</td>\n",
              "      <td>0.657159</td>\n",
              "      <td>0.276595</td>\n",
              "      <td>1.000000</td>\n",
              "      <td>0.942589</td>\n",
              "      <td>-0.298565</td>\n",
              "    </tr>\n",
              "    <tr>\n",
              "      <th>nr.employed</th>\n",
              "      <td>-0.041936</td>\n",
              "      <td>-0.044218</td>\n",
              "      <td>0.161037</td>\n",
              "      <td>0.381983</td>\n",
              "      <td>-0.514853</td>\n",
              "      <td>0.897173</td>\n",
              "      <td>0.472560</td>\n",
              "      <td>0.107054</td>\n",
              "      <td>0.942589</td>\n",
              "      <td>1.000000</td>\n",
              "      <td>-0.349241</td>\n",
              "    </tr>\n",
              "    <tr>\n",
              "      <th>obj</th>\n",
              "      <td>0.060374</td>\n",
              "      <td>0.418565</td>\n",
              "      <td>-0.076091</td>\n",
              "      <td>-0.332012</td>\n",
              "      <td>0.255697</td>\n",
              "      <td>-0.283216</td>\n",
              "      <td>-0.098326</td>\n",
              "      <td>0.054393</td>\n",
              "      <td>-0.298565</td>\n",
              "      <td>-0.349241</td>\n",
              "      <td>1.000000</td>\n",
              "    </tr>\n",
              "  </tbody>\n",
              "</table>\n",
              "</div>"
            ],
            "text/plain": [
              "                     age  duration  campaign     pdays  previous  \\\n",
              "age             1.000000  0.041299 -0.014169 -0.043425  0.050931   \n",
              "duration        0.041299  1.000000 -0.085348 -0.046998  0.025724   \n",
              "campaign       -0.014169 -0.085348  1.000000  0.058742 -0.091490   \n",
              "pdays          -0.043425 -0.046998  0.058742  1.000000 -0.587941   \n",
              "previous        0.050931  0.025724 -0.091490 -0.587941  1.000000   \n",
              "emp.var.rate   -0.019192 -0.028848  0.176079  0.270684 -0.415238   \n",
              "cons.price.idx -0.000482  0.016672  0.145021  0.058472 -0.164922   \n",
              "cons.conf.idx   0.098135 -0.034745  0.007882 -0.092090 -0.051420   \n",
              "euribor3m      -0.015033 -0.032329  0.159435  0.301478 -0.458851   \n",
              "nr.employed    -0.041936 -0.044218  0.161037  0.381983 -0.514853   \n",
              "obj             0.060374  0.418565 -0.076091 -0.332012  0.255697   \n",
              "\n",
              "                emp.var.rate  cons.price.idx  cons.conf.idx  euribor3m  \\\n",
              "age                -0.019192       -0.000482       0.098135  -0.015033   \n",
              "duration           -0.028848        0.016672      -0.034745  -0.032329   \n",
              "campaign            0.176079        0.145021       0.007882   0.159435   \n",
              "pdays               0.270684        0.058472      -0.092090   0.301478   \n",
              "previous           -0.415238       -0.164922      -0.051420  -0.458851   \n",
              "emp.var.rate        1.000000        0.755155       0.195022   0.970308   \n",
              "cons.price.idx      0.755155        1.000000       0.045835   0.657159   \n",
              "cons.conf.idx       0.195022        0.045835       1.000000   0.276595   \n",
              "euribor3m           0.970308        0.657159       0.276595   1.000000   \n",
              "nr.employed         0.897173        0.472560       0.107054   0.942589   \n",
              "obj                -0.283216       -0.098326       0.054393  -0.298565   \n",
              "\n",
              "                nr.employed       obj  \n",
              "age               -0.041936  0.060374  \n",
              "duration          -0.044218  0.418565  \n",
              "campaign           0.161037 -0.076091  \n",
              "pdays              0.381983 -0.332012  \n",
              "previous          -0.514853  0.255697  \n",
              "emp.var.rate       0.897173 -0.283216  \n",
              "cons.price.idx     0.472560 -0.098326  \n",
              "cons.conf.idx      0.107054  0.054393  \n",
              "euribor3m          0.942589 -0.298565  \n",
              "nr.employed        1.000000 -0.349241  \n",
              "obj               -0.349241  1.000000  "
            ]
          },
          "execution_count": 33,
          "metadata": {},
          "output_type": "execute_result"
        }
      ],
      "source": [
        "C = D.corr(numeric_only=True)\n",
        "C"
      ]
    },
    {
      "cell_type": "markdown",
      "id": "c1f07a06",
      "metadata": {
        "id": "c1f07a06"
      },
      "source": [
        "En la tabla anterior podemos ver las correlaciones con la variable objetivo"
      ]
    },
    {
      "cell_type": "code",
      "execution_count": 34,
      "id": "23fa0ba3",
      "metadata": {
        "colab": {
          "base_uri": "https://localhost:8080/",
          "height": 430
        },
        "id": "23fa0ba3",
        "outputId": "6a322a70-6162-403e-e334-0096940dfa56"
      },
      "outputs": [
        {
          "data": {
            "image/png": "[encoded data removed]",
            "text/plain": [
              "<Figure size 640x480 with 1 Axes>"
            ]
          },
          "metadata": {},
          "output_type": "display_data"
        }
      ],
      "source": [
        "plt.imshow(C)\n",
        "plt.show()"
      ]
    },
    {
      "cell_type": "code",
      "execution_count": 92,
      "id": "9f4cd1d1",
      "metadata": {
        "id": "9f4cd1d1"
      },
      "outputs": [],
      "source": [
        "#La variable objetivo es nuestra prioridad, por lo tanto podemos ver que las variables 1,3,5,8 y 9 tienen buenas correlaciones directas o inversas con nuestra variable objetivo."
      ]
    },
    {
      "cell_type": "code",
      "execution_count": 93,
      "id": "5adb998e",
      "metadata": {
        "id": "5adb998e",
        "outputId": "1df1d90c-d612-47c4-a9ef-28a605b0cfe6"
      },
      "outputs": [
        {
          "name": "stderr",
          "output_type": "stream",
          "text": [
            "C:\\Users\\Asus\\AppData\\Local\\Temp\\ipykernel_18200\\3781163694.py:6: FutureWarning: Series.__getitem__ treating keys as positions is deprecated. In a future version, integer keys will always be treated as labels (consistent with DataFrame behavior). To access a value by position, use `ser.iloc[pos]`\n",
            "  data.append(C.obj[i])\n"
          ]
        },
        {
          "data": {
            "text/html": [
              "<div>\n",
              "<style scoped>\n",
              "    .dataframe tbody tr th:only-of-type {\n",
              "        vertical-align: middle;\n",
              "    }\n",
              "\n",
              "    .dataframe tbody tr th {\n",
              "        vertical-align: top;\n",
              "    }\n",
              "\n",
              "    .dataframe thead th {\n",
              "        text-align: right;\n",
              "    }\n",
              "</style>\n",
              "<table border=\"1\" class=\"dataframe\">\n",
              "  <thead>\n",
              "    <tr style=\"text-align: right;\">\n",
              "      <th></th>\n",
              "      <th>columna</th>\n",
              "      <th>correlación</th>\n",
              "    </tr>\n",
              "  </thead>\n",
              "  <tbody>\n",
              "    <tr>\n",
              "      <th>0</th>\n",
              "      <td>duration</td>\n",
              "      <td>0.418565</td>\n",
              "    </tr>\n",
              "    <tr>\n",
              "      <th>1</th>\n",
              "      <td>pdays</td>\n",
              "      <td>-0.332012</td>\n",
              "    </tr>\n",
              "    <tr>\n",
              "      <th>2</th>\n",
              "      <td>emp.var.rate</td>\n",
              "      <td>-0.283216</td>\n",
              "    </tr>\n",
              "    <tr>\n",
              "      <th>3</th>\n",
              "      <td>euribor3m</td>\n",
              "      <td>-0.298565</td>\n",
              "    </tr>\n",
              "    <tr>\n",
              "      <th>4</th>\n",
              "      <td>nr.employed</td>\n",
              "      <td>-0.349241</td>\n",
              "    </tr>\n",
              "  </tbody>\n",
              "</table>\n",
              "</div>"
            ],
            "text/plain": [
              "        columna  correlación\n",
              "0      duration     0.418565\n",
              "1         pdays    -0.332012\n",
              "2  emp.var.rate    -0.283216\n",
              "3     euribor3m    -0.298565\n",
              "4   nr.employed    -0.349241"
            ]
          },
          "execution_count": 93,
          "metadata": {},
          "output_type": "execute_result"
        }
      ],
      "source": [
        "lista=[1,3,5,8,9]\n",
        "col=[]\n",
        "data=[]\n",
        "for i in lista:\n",
        "    col.append(C.index[i])\n",
        "    data.append(C.obj[i])\n",
        "D4=pd.DataFrame({\n",
        "    'columna':col,\n",
        "    'correlación':data\n",
        "})\n",
        "D4"
      ]
    },
    {
      "cell_type": "markdown",
      "id": "2f2b23c3",
      "metadata": {
        "id": "2f2b23c3"
      },
      "source": [
        "Podemos ver que las variables con mayor correlación son la duración, la cantidad de dias previos y los índices emp.var.rate, euribor3m y la tasa de desempleo"
      ]
    },
    {
      "cell_type": "markdown",
      "id": "235f2b98",
      "metadata": {
        "id": "235f2b98"
      },
      "source": [
        "Los 3 índices tienen correlación inversa es decir que deberiamos iniciar una campaña cuando los valores de esos índices esten bajos."
      ]
    },
    {
      "cell_type": "markdown",
      "id": "a8183f24",
      "metadata": {
        "id": "a8183f24"
      },
      "source": [
        "## 7. Conclusiones y recomendaciones"
      ]
    },
    {
      "cell_type": "markdown",
      "id": "5b94cee5",
      "metadata": {
        "id": "5b94cee5"
      },
      "source": [
        "Se ha realizado un ligero análisis exploratorio de datos para ver si podemos ligar diversos indicadores con la probabilidad de apertura de una nueva cuenta en un establecimiento financiero."
      ]
    },
    {
      "cell_type": "markdown",
      "id": "5c255491",
      "metadata": {
        "id": "5c255491"
      },
      "source": [
        "Nuestro porcentaje de exito obtenido con las campañas anteriores es bajo de alrededor del 11% y explorando los datos hemos determinado algunos grupos objetivo que deberiamos fijar para engrosar nuestra probabilidad de exito."
      ]
    },
    {
      "cell_type": "markdown",
      "id": "a5d6057d",
      "metadata": {
        "id": "a5d6057d"
      },
      "source": [
        "1. Debemos realizar campañas para los estudiantes, jubilados y desempleados. Sobretodo aumentando nuestra cartera dirigida hacia estos grupos, probablemente ofertando productos específicos para estos sectores.\n",
        "2. Por otro lado los administrativos representan un excelente público objetivo y bien representado, simplemente dar preferencia a este grupo\n",
        "3. Mientras mayor sea el grado de estudio mayor es la probabilidad de que tengamos éxito, por lo cuál se recomienda dar preferencias a los grupos de mayor estudio. Dar absoluta preferencia al grupo de profesionales y a los que tengan grados universitarios.\n",
        "4. Varios índices tienen correlación inversa con nuestro éxito, por lo cuál se recomienda dirigir campañas en momentos en que estos índices esten en momentos bajos."
      ]
    },
    {
      "cell_type": "markdown",
      "id": "cf7cac5d",
      "metadata": {
        "id": "cf7cac5d"
      },
      "source": [
        "Se recomienda ampliar el estudio a la segmentación con las otras 7 variables cualitativas restantes, explorar en nubes de puntos las correlaciones de los índices para tener una idea de la correlación. Probablemente juntar variables representativas para ver si aumentamos la correlación obtenida."
      ]
    },
    {
      "cell_type": "code",
      "execution_count": null,
      "id": "042b7d0d",
      "metadata": {
        "id": "042b7d0d"
      },
      "outputs": [],
      "source": []
    },
    {
      "cell_type": "code",
      "execution_count": null,
      "id": "a4fe16b2",
      "metadata": {
        "id": "a4fe16b2"
      },
      "outputs": [],
      "source": []
    },
    {
      "cell_type": "code",
      "execution_count": null,
      "id": "84c431e5",
      "metadata": {
        "id": "84c431e5"
      },
      "outputs": [],
      "source": []
    },
    {
      "cell_type": "code",
      "execution_count": 94,
      "id": "50b1d85a",
      "metadata": {
        "id": "50b1d85a",
        "outputId": "d1b9fbb5-05f2-4318-a715-ba537feced43"
      },
      "outputs": [
        {
          "data": {
            "text/plain": [
              "4"
            ]
          },
          "execution_count": 94,
          "metadata": {},
          "output_type": "execute_result"
        }
      ],
      "source": [
        "len(D1)"
      ]
    },
    {
      "cell_type": "code",
      "execution_count": null,
      "id": "686359df",
      "metadata": {
        "id": "686359df"
      },
      "outputs": [],
      "source": []
    }
  ],
  "metadata": {
    "colab": {
      "provenance": []
    },
    "kernelspec": {
      "display_name": "venv",
      "language": "python",
      "name": "python3"
    },
    "language_info": {
      "codemirror_mode": {
        "name": "ipython",
        "version": 3
      },
      "file_extension": ".py",
      "mimetype": "text/x-python",
      "name": "python",
      "nbconvert_exporter": "python",
      "pygments_lexer": "ipython3",
      "version": "3.13.1"
    }
  },
  "nbformat": 4,
  "nbformat_minor": 5
}
